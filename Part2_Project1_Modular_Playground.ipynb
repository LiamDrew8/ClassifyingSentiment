{
 "cells": [
  {
   "cell_type": "code",
   "execution_count": 1,
   "id": "d8e42ead",
   "metadata": {},
   "outputs": [],
   "source": [
    "import numpy as np\n",
    "import pandas as pd\n",
    "import os\n",
    "from sklearn.feature_extraction.text import CountVectorizer\n",
    "\n",
    "if __name__ == '__main__':\n",
    "    data_dir = 'data_reviews'\n",
    "    x_train_df = pd.read_csv(os.path.join(data_dir, 'x_train.csv'))\n",
    "    y_train_df = pd.read_csv(os.path.join(data_dir, 'y_train.csv'))"
   ]
  },
  {
   "cell_type": "code",
   "execution_count": 2,
   "id": "7b0b7330",
   "metadata": {},
   "outputs": [],
   "source": [
    "#load data into python\n",
    "x_train_df = pd.read_csv('data_reviews/x_train.csv')\n",
    "#concatenating review to make string processing easier\n",
    "tr_list_of_sentences = x_train_df['text'].str.cat(sep='\\n')\n",
    "#tr_list_of_sentences"
   ]
  },
  {
   "cell_type": "code",
   "execution_count": 3,
   "id": "ee721f8c",
   "metadata": {},
   "outputs": [],
   "source": [
    "#interesting model stuff\n",
    "import sklearn\n",
    "from sklearn.model_selection import RandomizedSearchCV\n",
    "from sklearn.model_selection import GridSearchCV\n",
    "from scipy.stats import loguniform\n",
    "from sklearn.pipeline import Pipeline\n",
    "from sklearn.linear_model import LogisticRegression"
   ]
  },
  {
   "cell_type": "code",
   "execution_count": 4,
   "id": "20902d5d",
   "metadata": {},
   "outputs": [],
   "source": [
    "y_train_df = pd.read_csv('data_reviews/y_train.csv')\n",
    "y_tr_N = y_train_df.is_positive_sentiment.values.astype(float)"
   ]
  },
  {
   "cell_type": "code",
   "execution_count": null,
   "id": "1a4a8dbf",
   "metadata": {},
   "outputs": [],
   "source": []
  },
  {
   "cell_type": "markdown",
   "id": "719381bf",
   "metadata": {},
   "source": [
    "# Preprocessing"
   ]
  },
  {
   "cell_type": "code",
   "execution_count": 5,
   "id": "ee7c2a73",
   "metadata": {},
   "outputs": [
    {
     "data": {
      "text/plain": [
       "'\\nSteps:\\n1. Remove all non-alpha numeric characters from the string\\n2. Remove stop words\\n3. Correct spelling\\n\\n'"
      ]
     },
     "execution_count": 5,
     "metadata": {},
     "output_type": "execute_result"
    }
   ],
   "source": [
    "'''\n",
    "Steps:\n",
    "1. Remove all non-alpha numeric characters from the string\n",
    "2. Remove stop words\n",
    "3. Correct spelling\n",
    "\n",
    "'''"
   ]
  },
  {
   "cell_type": "code",
   "execution_count": 6,
   "id": "c9ce3af4",
   "metadata": {},
   "outputs": [],
   "source": [
    "#remove all non-alpha numeric characters from the string\n",
    "import re"
   ]
  },
  {
   "cell_type": "code",
   "execution_count": 7,
   "id": "e2f6180a",
   "metadata": {},
   "outputs": [],
   "source": [
    "#using regex to remove non_alphanum\n",
    "def remove_non_alpha_num(reviews_string):\n",
    "    s = re.sub(r'[!]', ' ! ', reviews_string)\n",
    "    s = re.sub(r'[?]', ' ? ', s)\n",
    "    s = re.sub(r'[.]', ' ', s)\n",
    "    s = re.sub(r'[^A-Za-z\\'\\n\\s!?]+', '', s)\n",
    "    s = s.lower()\n",
    "    return s\n",
    "               \n",
    "    \n",
    "    "
   ]
  },
  {
   "cell_type": "code",
   "execution_count": 8,
   "id": "316216c3",
   "metadata": {},
   "outputs": [
    {
     "data": {
      "text/plain": [
       "\"can't do this\""
      ]
     },
     "execution_count": 8,
     "metadata": {},
     "output_type": "execute_result"
    }
   ],
   "source": [
    "#Unit Tests\n",
    "remove_non_alpha_num(\"can't.do this\")\n",
    "#remove_non_alpha_num(\"!?hello *&*^*^\")"
   ]
  },
  {
   "cell_type": "code",
   "execution_count": 9,
   "id": "09187f97",
   "metadata": {},
   "outputs": [],
   "source": [
    "#remove stop words\n",
    "from nltk.tokenize import word_tokenize\n",
    "from nltk.corpus import stopwords\n",
    "from nltk.corpus import wordnet\n"
   ]
  },
  {
   "cell_type": "code",
   "execution_count": 10,
   "id": "ab7cedff",
   "metadata": {},
   "outputs": [],
   "source": [
    "#stop_words"
   ]
  },
  {
   "cell_type": "code",
   "execution_count": 11,
   "id": "53a35b87",
   "metadata": {},
   "outputs": [],
   "source": [
    "stop_words = set(stopwords.words('english'))\n",
    "stop_words = {word.replace(\"'\", '') for word in stop_words}\n",
    "toRemove = {\"not\", \"couldn't\", \"shouldn't\", \"didn't\", \"doesn't\", \"don't\", \"wasn't\", \"wouldn't\", \"won't\", \"again\"}\n",
    "for entry in toRemove:\n",
    "    stop_words.discard(entry)"
   ]
  },
  {
   "cell_type": "code",
   "execution_count": null,
   "id": "344670ce",
   "metadata": {},
   "outputs": [],
   "source": []
  },
  {
   "cell_type": "code",
   "execution_count": 12,
   "id": "20462bdb",
   "metadata": {},
   "outputs": [],
   "source": [
    "#https://www.geeksforgeeks.org/removing-stop-words-nltk-python/\n",
    "def remove_stop_words(reviews_string, remove_words):\n",
    "    reviews_list = reviews_string.split('\\n')\n",
    "    filtered_sentences = []\n",
    "    for review in reviews_list:\n",
    "        r = review.split()\n",
    "        filtered_words = [w for w in r if w not in remove_words]\n",
    "        filtered_sentence = ' '.join(filtered_words)\n",
    "        filtered_sentences.append(filtered_sentence)\n",
    "    \n",
    "    filtered_sentences = '\\n'.join(filtered_sentences)\n",
    "    return filtered_sentences\n",
    "    "
   ]
  },
  {
   "cell_type": "code",
   "execution_count": 13,
   "id": "f3316ba9",
   "metadata": {},
   "outputs": [],
   "source": [
    "\n",
    "#using the approach from lab\n",
    "def tokenize_text(raw_text):\n",
    "    ''' Transform a plain-text string into a list of tokens\n",
    "    \n",
    "    We assume that *whitespace* divides tokens.\n",
    "    \n",
    "    Args\n",
    "    ----\n",
    "    raw_text : string\n",
    "    \n",
    "    Returns\n",
    "    -------\n",
    "    list_of_tokens : list of strings\n",
    "        Each element is one token in the provided text\n",
    "    '''\n",
    "    list_of_tokens = raw_text.split() # split method divides on whitespace by default\n",
    "    for pp in range(len(list_of_tokens)):\n",
    "        cur_token = list_of_tokens[pp]\n",
    "        # Remove punctuation\n",
    "        for punc in ['_', '.', ',', '\"', '/']:\n",
    "            cur_token = cur_token.replace(punc, \"\")\n",
    "        # Turn to lower case\n",
    "        clean_token = cur_token.lower()\n",
    "        # Replace the cleaned token into the original list\n",
    "        list_of_tokens[pp] = clean_token\n",
    "    return list_of_tokens"
   ]
  },
  {
   "cell_type": "code",
   "execution_count": 14,
   "id": "3ba4519d",
   "metadata": {},
   "outputs": [
    {
     "data": {
      "text/plain": [
       "['!']"
      ]
     },
     "execution_count": 14,
     "metadata": {},
     "output_type": "execute_result"
    }
   ],
   "source": [
    "tokenize_text(\" ! \")"
   ]
  },
  {
   "cell_type": "code",
   "execution_count": 15,
   "id": "6fab8fae",
   "metadata": {},
   "outputs": [],
   "source": [
    "from spellchecker import SpellChecker"
   ]
  },
  {
   "cell_type": "code",
   "execution_count": 16,
   "id": "ac0afb0a",
   "metadata": {},
   "outputs": [],
   "source": [
    "#correct spelling\n",
    "#https://pyspellchecker.readthedocs.io/en/latest/\n",
    "def correct_spelling(reviews_string):\n",
    "    reviews_list = reviews_string.split('\\n')\n",
    "    correctly_spelled_sentences = []\n",
    "    \n",
    "    speller = SpellChecker()\n",
    "    \n",
    "    for review in reviews_list:\n",
    "        words = review.split()\n",
    "        correctly_spelled_words = [speller.correction(word) if speller.correction(word) is not None else word for word in words]\n",
    "        correct_sentence = ' '.join(correctly_spelled_words)\n",
    "        correctly_spelled_sentences.append(correct_sentence)\n",
    "    \n",
    "    corrected_reviews_string = '\\n'.join(correctly_spelled_sentences)\n",
    "    return corrected_reviews_string\n"
   ]
  },
  {
   "cell_type": "code",
   "execution_count": 17,
   "id": "76dd5d67",
   "metadata": {},
   "outputs": [],
   "source": [
    "import nltk\n",
    "#nltk.download('averaged_perceptron_tagger')\n",
    "from nltk.stem import WordNetLemmatizer\n",
    "#nltk.download('wordnet')"
   ]
  },
  {
   "cell_type": "code",
   "execution_count": 18,
   "id": "50ef51ed",
   "metadata": {},
   "outputs": [
    {
     "data": {
      "text/plain": [
       "'N'"
      ]
     },
     "execution_count": 18,
     "metadata": {},
     "output_type": "execute_result"
    }
   ],
   "source": [
    "nltk.pos_tag([\"beautiful\"])[0][1][0]"
   ]
  },
  {
   "cell_type": "code",
   "execution_count": 19,
   "id": "99e6d885",
   "metadata": {},
   "outputs": [],
   "source": [
    "#https://www.geeksforgeeks.org/part-speech-tagging-stop-words-using-nltk-python/\n",
    "#nltk.pos_tag([\"hello\"])[0][1][0].lower()\n",
    "def get_pos_tag(word):\n",
    "    word_tag = nltk.pos_tag([word])[0][1][0].lower()\n",
    "    tag_dict = {\"j\": wordnet.ADJ, \"n\": wordnet.NOUN, \"v\": wordnet.VERB, \"r\": wordnet.ADV}\n",
    "    \n",
    "    return tag_dict.get(word_tag, \"n\")\n"
   ]
  },
  {
   "cell_type": "code",
   "execution_count": null,
   "id": "3a4c199d",
   "metadata": {},
   "outputs": [],
   "source": []
  },
  {
   "cell_type": "code",
   "execution_count": null,
   "id": "331eafc8",
   "metadata": {},
   "outputs": [],
   "source": []
  },
  {
   "cell_type": "code",
   "execution_count": 20,
   "id": "9434e01d",
   "metadata": {},
   "outputs": [],
   "source": [
    "def lemmatize_words(reviews_string):\n",
    "    reviews_list = reviews_string.split('\\n')\n",
    "    wnl = WordNetLemmatizer()\n",
    "    \n",
    "    \n",
    "    lemmatized_text = [\" \".join([wnl.lemmatize(word, get_pos_tag(word)) for word in tokenize_text(review)]) for review in reviews_list]\n",
    "    \n",
    "    lemmatized_data = \"\\n\".join(lemmatized_text)\n",
    "    \n",
    "    return lemmatized_data\n",
    "\n"
   ]
  },
  {
   "cell_type": "code",
   "execution_count": null,
   "id": "5fb99fbb",
   "metadata": {},
   "outputs": [],
   "source": []
  },
  {
   "cell_type": "code",
   "execution_count": 21,
   "id": "8d025b0d",
   "metadata": {},
   "outputs": [],
   "source": [
    "#The following code is from the Bag of Words Lab\n",
    "\n",
    "def create_tok_count(list_of_sentences):\n",
    "    \n",
    "    tok_count_dict = dict()\n",
    "\n",
    "    for line in list_of_sentences:\n",
    "        tok_list = tokenize_text(line)\n",
    "        for tok in tok_list:\n",
    "            if tok in tok_count_dict:\n",
    "                tok_count_dict[tok] += 1\n",
    "            else:\n",
    "                tok_count_dict[tok] = 1\n",
    "                    \n",
    "    return tok_count_dict"
   ]
  },
  {
   "cell_type": "code",
   "execution_count": 22,
   "id": "011088e2",
   "metadata": {},
   "outputs": [],
   "source": [
    "import afinn"
   ]
  },
  {
   "cell_type": "code",
   "execution_count": 23,
   "id": "b1dcadba",
   "metadata": {},
   "outputs": [],
   "source": [
    "\n",
    "from afinn import Afinn\n",
    "\n",
    "def determine_sentiment(word):\n",
    "    afinn = Afinn()\n",
    "    score = afinn.score(word)\n",
    "    \n",
    "    if score > 0:\n",
    "        return 1  # Positive sentiment\n",
    "    elif score < 0:\n",
    "        return -1  # Negative sentiment\n",
    "    else:\n",
    "        return 0  # Neutral/Indeterminate sentiment\n",
    "\n"
   ]
  },
  {
   "cell_type": "code",
   "execution_count": 24,
   "id": "85be0956",
   "metadata": {},
   "outputs": [
    {
     "name": "stdout",
     "output_type": "stream",
     "text": [
      "0\n"
     ]
    }
   ],
   "source": [
    "# Example usage\n",
    "word = \"okay\"\n",
    "result = determine_sentiment(word)\n",
    "print(result)  # 1 for positive sentiment"
   ]
  },
  {
   "cell_type": "code",
   "execution_count": 25,
   "id": "9c08d1f0",
   "metadata": {},
   "outputs": [],
   "source": [
    "FREQ_THRESHOLD = 2\n",
    "def build_vocab_list(reviews_string):\n",
    "    list_of_sentences = reviews_string.split('\\n')\n",
    "    \n",
    "    tok_count_dict = create_tok_count(list_of_sentences)\n",
    "    sorted_tokens = list(sorted(tok_count_dict, key=tok_count_dict.get, reverse=True))\n",
    "    \n",
    "    vocab_list = [w for w in sorted_tokens[:] if ((tok_count_dict[w] >= FREQ_THRESHOLD) or (determine_sentiment(w) != 0))]\n",
    "    #vocab_list = [w for w in sorted_tokens[:] if ((tok_count_dict[w] >= FREQ_THRESHOLD))]\n",
    "    \n",
    "    vocab_dict = dict()\n",
    "    for vocab_id, tok in enumerate(vocab_list):\n",
    "        vocab_dict[tok] = vocab_id\n",
    "    \n",
    "    return vocab_dict, len(list_of_sentences), len(vocab_list)\n",
    "    "
   ]
  },
  {
   "cell_type": "code",
   "execution_count": 26,
   "id": "2767db2c",
   "metadata": {},
   "outputs": [],
   "source": [
    "\n",
    "# list_of_sentences = reviews_string.split('\\n')\n",
    "    \n",
    "# tok_count_dict = create_tok_count(list_of_sentences)\n",
    "# sorted_tokens = list(sorted(tok_count_dict, key=tok_count_dict.get, reverse=True))\n",
    "\n",
    "# vocab_list = [w for w in sorted_tokens[:] if tok_count_dict[w] >= FREQ_THRESHOLD]\n",
    "\n",
    "# vocab_dict = dict()\n",
    "# for vocab_id, tok in enumerate(vocab_list):\n",
    "#     vocab_dict[tok] = vocab_id\n",
    "\n",
    "    "
   ]
  },
  {
   "cell_type": "code",
   "execution_count": 27,
   "id": "ed3f9cb1",
   "metadata": {},
   "outputs": [],
   "source": [
    "# tok_count_dict[sorted_tokens[0]]\n",
    "# sorted_tokens[0]"
   ]
  },
  {
   "cell_type": "code",
   "execution_count": 28,
   "id": "e5745a47",
   "metadata": {},
   "outputs": [],
   "source": [
    "def transform_text_into_feature_vector(text, vocab_dict):\n",
    "    ''' Produce count feature vector for provided text\n",
    "    \n",
    "    Args\n",
    "    ----\n",
    "    text : string\n",
    "        A string of raw text, representing a single 'review'\n",
    "    vocab_dict : dict with string keys\n",
    "        If token is in vocabulary, will exist as key in the dict\n",
    "        If token is not in vocabulary, will not be in the dict\n",
    "\n",
    "    Returns\n",
    "    -------\n",
    "    count_V : 1D numpy array, shape (V,) = (n_vocab,)\n",
    "        Count vector, indicating how often each vocab word\n",
    "        appears in the provided text string\n",
    "    '''\n",
    "    V = len(vocab_dict.keys())\n",
    "    count_V = np.zeros(V)\n",
    "    for tok in tokenize_text(text):\n",
    "        if tok in vocab_dict:\n",
    "            vv = vocab_dict[tok]\n",
    "            count_V[vv] += 1\n",
    "    return count_V"
   ]
  },
  {
   "cell_type": "code",
   "execution_count": null,
   "id": "5fb78b93",
   "metadata": {},
   "outputs": [],
   "source": []
  },
  {
   "cell_type": "code",
   "execution_count": 29,
   "id": "beb6b7c1",
   "metadata": {},
   "outputs": [],
   "source": [
    "#DO NOT TOUCH THESE: THEY TAKE A LONG TIME TO RUN"
   ]
  },
  {
   "cell_type": "code",
   "execution_count": 30,
   "id": "242e52b7",
   "metadata": {},
   "outputs": [],
   "source": [
    "def preprocess_string(tr_list_of_sentences):\n",
    "    original_review_string = tr_list_of_sentences\n",
    "    reviews_string = remove_non_alpha_num(tr_list_of_sentences)\n",
    "    reviews_string = correct_spelling(reviews_string)\n",
    "    reviews_string = lemmatize_words(reviews_string)\n",
    "    reviews_string = remove_stop_words(reviews_string, stop_words)\n",
    "    return reviews_string, original_review_string"
   ]
  },
  {
   "cell_type": "code",
   "execution_count": 31,
   "id": "55ebb7fc",
   "metadata": {},
   "outputs": [],
   "source": [
    "\n",
    "reviews_string, original_review_string = preprocess_string(tr_list_of_sentences)"
   ]
  },
  {
   "cell_type": "code",
   "execution_count": 189,
   "id": "8146f2bb",
   "metadata": {},
   "outputs": [],
   "source": [
    "\n",
    "# original_review_string = tr_list_of_sentences\n",
    "# reviews_string = remove_non_alpha_num(tr_list_of_sentences)\n",
    "# reviews_string = correct_spelling(reviews_string)\n",
    "# reviews_string = lemmatize_words(reviews_string)"
   ]
  },
  {
   "cell_type": "code",
   "execution_count": 190,
   "id": "885238cb",
   "metadata": {},
   "outputs": [],
   "source": [
    "# reviews_string = remove_stop_words(reviews_string, stop_words)"
   ]
  },
  {
   "cell_type": "code",
   "execution_count": 191,
   "id": "d7d043a2",
   "metadata": {},
   "outputs": [],
   "source": [
    "#original_review_string = tr_list_of_sentences\n",
    "# reviews_string"
   ]
  },
  {
   "cell_type": "code",
   "execution_count": 192,
   "id": "b8217fcd",
   "metadata": {},
   "outputs": [],
   "source": [
    "#I think I have just improved the text processing. Let's see what models can do for me now"
   ]
  },
  {
   "cell_type": "code",
   "execution_count": null,
   "id": "913f8c55",
   "metadata": {},
   "outputs": [],
   "source": []
  },
  {
   "cell_type": "code",
   "execution_count": 65,
   "id": "03414361",
   "metadata": {},
   "outputs": [],
   "source": [
    "ngram_tuple = (1, 1)"
   ]
  },
  {
   "cell_type": "code",
   "execution_count": 66,
   "id": "81e99d9a",
   "metadata": {},
   "outputs": [],
   "source": [
    "\n",
    "vectorizer = CountVectorizer(ngram_range = ngram_tuple)\n",
    "X = vectorizer.fit_transform(reviews_string.split(\"\\n\"))\n",
    "x_prepared_NV = X.toarray()"
   ]
  },
  {
   "cell_type": "code",
   "execution_count": 67,
   "id": "a6d073d4",
   "metadata": {},
   "outputs": [
    {
     "data": {
      "text/plain": [
       "3620"
      ]
     },
     "execution_count": 67,
     "metadata": {},
     "output_type": "execute_result"
    }
   ],
   "source": [
    "V = x_prepared_NV.shape[1]\n",
    "V"
   ]
  },
  {
   "cell_type": "code",
   "execution_count": null,
   "id": "906f8005",
   "metadata": {},
   "outputs": [],
   "source": []
  },
  {
   "cell_type": "code",
   "execution_count": null,
   "id": "52989e49",
   "metadata": {},
   "outputs": [],
   "source": []
  },
  {
   "cell_type": "code",
   "execution_count": null,
   "id": "2147868b",
   "metadata": {},
   "outputs": [],
   "source": []
  },
  {
   "cell_type": "code",
   "execution_count": 78,
   "id": "17195dd7",
   "metadata": {},
   "outputs": [],
   "source": [
    "vocab_dict, N, V = build_vocab_list(reviews_string)\n",
    "x_prepared_NV = np.zeros((N, V))\n",
    "for nn, raw_text_line in enumerate(reviews_string.split(\"\\n\")):\n",
    "    x_prepared_NV[nn] = transform_text_into_feature_vector(raw_text_line, vocab_dict)"
   ]
  },
  {
   "cell_type": "code",
   "execution_count": null,
   "id": "30df88ab",
   "metadata": {},
   "outputs": [],
   "source": []
  },
  {
   "cell_type": "markdown",
   "id": "1d365119",
   "metadata": {},
   "source": [
    "# Creating Model"
   ]
  },
  {
   "cell_type": "code",
   "execution_count": null,
   "id": "88b78f63",
   "metadata": {},
   "outputs": [],
   "source": []
  },
  {
   "cell_type": "code",
   "execution_count": null,
   "id": "02ae9bed",
   "metadata": {},
   "outputs": [],
   "source": []
  },
  {
   "cell_type": "code",
   "execution_count": null,
   "id": "a30342bf",
   "metadata": {},
   "outputs": [],
   "source": []
  },
  {
   "cell_type": "code",
   "execution_count": null,
   "id": "dacf8a39",
   "metadata": {},
   "outputs": [],
   "source": []
  },
  {
   "cell_type": "code",
   "execution_count": 79,
   "id": "55c0bfba",
   "metadata": {},
   "outputs": [],
   "source": [
    "model = sklearn.linear_model.LogisticRegression(solver='lbfgs', max_iter=300)\n",
    "SEED = 2\n",
    "FOLDS = 15\n"
   ]
  },
  {
   "cell_type": "code",
   "execution_count": null,
   "id": "ab7c6126",
   "metadata": {},
   "outputs": [],
   "source": []
  },
  {
   "cell_type": "code",
   "execution_count": 151,
   "id": "fe8e178e",
   "metadata": {},
   "outputs": [],
   "source": [
    "cRange = loguniform(1e-3, 1e3)\n",
    "tol = [0, 1e-1,1e-2,1e-3,1e-4,1e-5]\n",
    "C_grid = np.logspace(-6, 3, 30)"
   ]
  },
  {
   "cell_type": "code",
   "execution_count": 152,
   "id": "135dd9c3",
   "metadata": {},
   "outputs": [],
   "source": [
    "#solver 'lbfgs' does not support an l1 penalty\n",
    "distributions = {\n",
    "    'C': C_grid,\n",
    "    'penalty': ['l2']\n",
    "    #'tol': tol,\n",
    "    #'fit_intercept': [True, False]\n",
    "}"
   ]
  },
  {
   "cell_type": "code",
   "execution_count": null,
   "id": "418a3c46",
   "metadata": {},
   "outputs": [],
   "source": []
  },
  {
   "cell_type": "code",
   "execution_count": 153,
   "id": "b33aa2a5",
   "metadata": {},
   "outputs": [],
   "source": [
    "curr_search = RandomizedSearchCV(\n",
    "    estimator = model,\n",
    "    param_distributions = distributions,\n",
    "    scoring = 'roc_auc',\n",
    "    cv = FOLDS,\n",
    "    return_train_score = True\n",
    "    \n",
    "    )"
   ]
  },
  {
   "cell_type": "code",
   "execution_count": 154,
   "id": "45765969",
   "metadata": {},
   "outputs": [],
   "source": [
    "import matplotlib\n",
    "import matplotlib.pyplot as plt"
   ]
  },
  {
   "cell_type": "code",
   "execution_count": 155,
   "id": "3ffacf24",
   "metadata": {},
   "outputs": [],
   "source": [
    "# C_grid = np.logspace(-6, 2, 30)\n",
    "# C_grid"
   ]
  },
  {
   "cell_type": "code",
   "execution_count": null,
   "id": "8895496d",
   "metadata": {},
   "outputs": [],
   "source": []
  },
  {
   "cell_type": "code",
   "execution_count": null,
   "id": "24936a14",
   "metadata": {},
   "outputs": [],
   "source": []
  },
  {
   "cell_type": "code",
   "execution_count": 156,
   "id": "b0de420a",
   "metadata": {},
   "outputs": [],
   "source": [
    "#all of a sudden this takes a really long time, which is frustrating"
   ]
  },
  {
   "cell_type": "code",
   "execution_count": 157,
   "id": "ebface95",
   "metadata": {},
   "outputs": [
    {
     "data": {
      "text/html": [
       "<style>#sk-container-id-12 {color: black;background-color: white;}#sk-container-id-12 pre{padding: 0;}#sk-container-id-12 div.sk-toggleable {background-color: white;}#sk-container-id-12 label.sk-toggleable__label {cursor: pointer;display: block;width: 100%;margin-bottom: 0;padding: 0.3em;box-sizing: border-box;text-align: center;}#sk-container-id-12 label.sk-toggleable__label-arrow:before {content: \"▸\";float: left;margin-right: 0.25em;color: #696969;}#sk-container-id-12 label.sk-toggleable__label-arrow:hover:before {color: black;}#sk-container-id-12 div.sk-estimator:hover label.sk-toggleable__label-arrow:before {color: black;}#sk-container-id-12 div.sk-toggleable__content {max-height: 0;max-width: 0;overflow: hidden;text-align: left;background-color: #f0f8ff;}#sk-container-id-12 div.sk-toggleable__content pre {margin: 0.2em;color: black;border-radius: 0.25em;background-color: #f0f8ff;}#sk-container-id-12 input.sk-toggleable__control:checked~div.sk-toggleable__content {max-height: 200px;max-width: 100%;overflow: auto;}#sk-container-id-12 input.sk-toggleable__control:checked~label.sk-toggleable__label-arrow:before {content: \"▾\";}#sk-container-id-12 div.sk-estimator input.sk-toggleable__control:checked~label.sk-toggleable__label {background-color: #d4ebff;}#sk-container-id-12 div.sk-label input.sk-toggleable__control:checked~label.sk-toggleable__label {background-color: #d4ebff;}#sk-container-id-12 input.sk-hidden--visually {border: 0;clip: rect(1px 1px 1px 1px);clip: rect(1px, 1px, 1px, 1px);height: 1px;margin: -1px;overflow: hidden;padding: 0;position: absolute;width: 1px;}#sk-container-id-12 div.sk-estimator {font-family: monospace;background-color: #f0f8ff;border: 1px dotted black;border-radius: 0.25em;box-sizing: border-box;margin-bottom: 0.5em;}#sk-container-id-12 div.sk-estimator:hover {background-color: #d4ebff;}#sk-container-id-12 div.sk-parallel-item::after {content: \"\";width: 100%;border-bottom: 1px solid gray;flex-grow: 1;}#sk-container-id-12 div.sk-label:hover label.sk-toggleable__label {background-color: #d4ebff;}#sk-container-id-12 div.sk-serial::before {content: \"\";position: absolute;border-left: 1px solid gray;box-sizing: border-box;top: 0;bottom: 0;left: 50%;z-index: 0;}#sk-container-id-12 div.sk-serial {display: flex;flex-direction: column;align-items: center;background-color: white;padding-right: 0.2em;padding-left: 0.2em;position: relative;}#sk-container-id-12 div.sk-item {position: relative;z-index: 1;}#sk-container-id-12 div.sk-parallel {display: flex;align-items: stretch;justify-content: center;background-color: white;position: relative;}#sk-container-id-12 div.sk-item::before, #sk-container-id-12 div.sk-parallel-item::before {content: \"\";position: absolute;border-left: 1px solid gray;box-sizing: border-box;top: 0;bottom: 0;left: 50%;z-index: -1;}#sk-container-id-12 div.sk-parallel-item {display: flex;flex-direction: column;z-index: 1;position: relative;background-color: white;}#sk-container-id-12 div.sk-parallel-item:first-child::after {align-self: flex-end;width: 50%;}#sk-container-id-12 div.sk-parallel-item:last-child::after {align-self: flex-start;width: 50%;}#sk-container-id-12 div.sk-parallel-item:only-child::after {width: 0;}#sk-container-id-12 div.sk-dashed-wrapped {border: 1px dashed gray;margin: 0 0.4em 0.5em 0.4em;box-sizing: border-box;padding-bottom: 0.4em;background-color: white;}#sk-container-id-12 div.sk-label label {font-family: monospace;font-weight: bold;display: inline-block;line-height: 1.2em;}#sk-container-id-12 div.sk-label-container {text-align: center;}#sk-container-id-12 div.sk-container {/* jupyter's `normalize.less` sets `[hidden] { display: none; }` but bootstrap.min.css set `[hidden] { display: none !important; }` so we also need the `!important` here to be able to override the default hidden behavior on the sphinx rendered scikit-learn.org. See: https://github.com/scikit-learn/scikit-learn/issues/21755 */display: inline-block !important;position: relative;}#sk-container-id-12 div.sk-text-repr-fallback {display: none;}</style><div id=\"sk-container-id-12\" class=\"sk-top-container\"><div class=\"sk-text-repr-fallback\"><pre>RandomizedSearchCV(cv=15, estimator=LogisticRegression(max_iter=300),\n",
       "                   param_distributions={&#x27;C&#x27;: array([1.00000000e-06, 2.04335972e-06, 4.17531894e-06, 8.53167852e-06,\n",
       "       1.74332882e-05, 3.56224789e-05, 7.27895384e-05, 1.48735211e-04,\n",
       "       3.03919538e-04, 6.21016942e-04, 1.26896100e-03, 2.59294380e-03,\n",
       "       5.29831691e-03, 1.08263673e-02, 2.21221629e-02, 4.52035366e-02,\n",
       "       9.23670857e-02, 1.88739182e-01, 3.85662042e-01, 7.88046282e-01,\n",
       "       1.61026203e+00, 3.29034456e+00, 6.72335754e+00, 1.37382380e+01,\n",
       "       2.80721620e+01, 5.73615251e+01, 1.17210230e+02, 2.39502662e+02,\n",
       "       4.89390092e+02, 1.00000000e+03]),\n",
       "                                        &#x27;penalty&#x27;: [&#x27;l2&#x27;]},\n",
       "                   return_train_score=True, scoring=&#x27;roc_auc&#x27;)</pre><b>In a Jupyter environment, please rerun this cell to show the HTML representation or trust the notebook. <br />On GitHub, the HTML representation is unable to render, please try loading this page with nbviewer.org.</b></div><div class=\"sk-container\" hidden><div class=\"sk-item sk-dashed-wrapped\"><div class=\"sk-label-container\"><div class=\"sk-label sk-toggleable\"><input class=\"sk-toggleable__control sk-hidden--visually\" id=\"sk-estimator-id-24\" type=\"checkbox\" ><label for=\"sk-estimator-id-24\" class=\"sk-toggleable__label sk-toggleable__label-arrow\">RandomizedSearchCV</label><div class=\"sk-toggleable__content\"><pre>RandomizedSearchCV(cv=15, estimator=LogisticRegression(max_iter=300),\n",
       "                   param_distributions={&#x27;C&#x27;: array([1.00000000e-06, 2.04335972e-06, 4.17531894e-06, 8.53167852e-06,\n",
       "       1.74332882e-05, 3.56224789e-05, 7.27895384e-05, 1.48735211e-04,\n",
       "       3.03919538e-04, 6.21016942e-04, 1.26896100e-03, 2.59294380e-03,\n",
       "       5.29831691e-03, 1.08263673e-02, 2.21221629e-02, 4.52035366e-02,\n",
       "       9.23670857e-02, 1.88739182e-01, 3.85662042e-01, 7.88046282e-01,\n",
       "       1.61026203e+00, 3.29034456e+00, 6.72335754e+00, 1.37382380e+01,\n",
       "       2.80721620e+01, 5.73615251e+01, 1.17210230e+02, 2.39502662e+02,\n",
       "       4.89390092e+02, 1.00000000e+03]),\n",
       "                                        &#x27;penalty&#x27;: [&#x27;l2&#x27;]},\n",
       "                   return_train_score=True, scoring=&#x27;roc_auc&#x27;)</pre></div></div></div><div class=\"sk-parallel\"><div class=\"sk-parallel-item\"><div class=\"sk-item\"><div class=\"sk-label-container\"><div class=\"sk-label sk-toggleable\"><input class=\"sk-toggleable__control sk-hidden--visually\" id=\"sk-estimator-id-25\" type=\"checkbox\" ><label for=\"sk-estimator-id-25\" class=\"sk-toggleable__label sk-toggleable__label-arrow\">estimator: LogisticRegression</label><div class=\"sk-toggleable__content\"><pre>LogisticRegression(max_iter=300)</pre></div></div></div><div class=\"sk-serial\"><div class=\"sk-item\"><div class=\"sk-estimator sk-toggleable\"><input class=\"sk-toggleable__control sk-hidden--visually\" id=\"sk-estimator-id-26\" type=\"checkbox\" ><label for=\"sk-estimator-id-26\" class=\"sk-toggleable__label sk-toggleable__label-arrow\">LogisticRegression</label><div class=\"sk-toggleable__content\"><pre>LogisticRegression(max_iter=300)</pre></div></div></div></div></div></div></div></div></div></div>"
      ],
      "text/plain": [
       "RandomizedSearchCV(cv=15, estimator=LogisticRegression(max_iter=300),\n",
       "                   param_distributions={'C': array([1.00000000e-06, 2.04335972e-06, 4.17531894e-06, 8.53167852e-06,\n",
       "       1.74332882e-05, 3.56224789e-05, 7.27895384e-05, 1.48735211e-04,\n",
       "       3.03919538e-04, 6.21016942e-04, 1.26896100e-03, 2.59294380e-03,\n",
       "       5.29831691e-03, 1.08263673e-02, 2.21221629e-02, 4.52035366e-02,\n",
       "       9.23670857e-02, 1.88739182e-01, 3.85662042e-01, 7.88046282e-01,\n",
       "       1.61026203e+00, 3.29034456e+00, 6.72335754e+00, 1.37382380e+01,\n",
       "       2.80721620e+01, 5.73615251e+01, 1.17210230e+02, 2.39502662e+02,\n",
       "       4.89390092e+02, 1.00000000e+03]),\n",
       "                                        'penalty': ['l2']},\n",
       "                   return_train_score=True, scoring='roc_auc')"
      ]
     },
     "execution_count": 157,
     "metadata": {},
     "output_type": "execute_result"
    }
   ],
   "source": [
    "curr_search.fit(x_prepared_NV, y_tr_N)"
   ]
  },
  {
   "cell_type": "code",
   "execution_count": null,
   "id": "2df1bb7d",
   "metadata": {},
   "outputs": [],
   "source": []
  },
  {
   "cell_type": "code",
   "execution_count": 158,
   "id": "1ccc43ff",
   "metadata": {},
   "outputs": [],
   "source": [
    "#Best score:\n",
    "#ngrams: \n",
    "# (1, 2) 0.90636\n",
    "# (2, 2) 0.74 (absolute garbage, clearly I need the 1)\n",
    "# (1, 3) 0.90410 (I am thinking that anything beyond 2 n grams isn't super helpful)"
   ]
  },
  {
   "cell_type": "code",
   "execution_count": 159,
   "id": "fb86e65a",
   "metadata": {},
   "outputs": [
    {
     "name": "stdout",
     "output_type": "stream",
     "text": [
      "Best params: {'penalty': 'l2', 'C': 1.6102620275609392}\n",
      "Best score: 0.8951875\n",
      "Best pipeline: LogisticRegression(C=1.6102620275609392, max_iter=300)\n",
      "Index of best pipeline: 2\n"
     ]
    },
    {
     "data": {
      "text/html": [
       "<div>\n",
       "<style scoped>\n",
       "    .dataframe tbody tr th:only-of-type {\n",
       "        vertical-align: middle;\n",
       "    }\n",
       "\n",
       "    .dataframe tbody tr th {\n",
       "        vertical-align: top;\n",
       "    }\n",
       "\n",
       "    .dataframe thead th {\n",
       "        text-align: right;\n",
       "    }\n",
       "</style>\n",
       "<table border=\"1\" class=\"dataframe\">\n",
       "  <thead>\n",
       "    <tr style=\"text-align: right;\">\n",
       "      <th></th>\n",
       "      <th>mean_fit_time</th>\n",
       "      <th>std_fit_time</th>\n",
       "      <th>mean_score_time</th>\n",
       "      <th>std_score_time</th>\n",
       "      <th>param_penalty</th>\n",
       "      <th>param_C</th>\n",
       "      <th>params</th>\n",
       "      <th>split0_test_score</th>\n",
       "      <th>split1_test_score</th>\n",
       "      <th>split2_test_score</th>\n",
       "      <th>...</th>\n",
       "      <th>split7_train_score</th>\n",
       "      <th>split8_train_score</th>\n",
       "      <th>split9_train_score</th>\n",
       "      <th>split10_train_score</th>\n",
       "      <th>split11_train_score</th>\n",
       "      <th>split12_train_score</th>\n",
       "      <th>split13_train_score</th>\n",
       "      <th>split14_train_score</th>\n",
       "      <th>mean_train_score</th>\n",
       "      <th>std_train_score</th>\n",
       "    </tr>\n",
       "  </thead>\n",
       "  <tbody>\n",
       "    <tr>\n",
       "      <th>0</th>\n",
       "      <td>0.031489</td>\n",
       "      <td>0.005402</td>\n",
       "      <td>0.001961</td>\n",
       "      <td>0.000613</td>\n",
       "      <td>l2</td>\n",
       "      <td>0.005298</td>\n",
       "      <td>{'penalty': 'l2', 'C': 0.005298316906283713}</td>\n",
       "      <td>0.854219</td>\n",
       "      <td>0.904531</td>\n",
       "      <td>0.890156</td>\n",
       "      <td>...</td>\n",
       "      <td>0.878310</td>\n",
       "      <td>0.877421</td>\n",
       "      <td>0.879827</td>\n",
       "      <td>0.879777</td>\n",
       "      <td>0.879484</td>\n",
       "      <td>0.878691</td>\n",
       "      <td>0.876956</td>\n",
       "      <td>0.879383</td>\n",
       "      <td>0.878098</td>\n",
       "      <td>0.001889</td>\n",
       "    </tr>\n",
       "    <tr>\n",
       "      <th>1</th>\n",
       "      <td>0.105711</td>\n",
       "      <td>0.012763</td>\n",
       "      <td>0.002033</td>\n",
       "      <td>0.000303</td>\n",
       "      <td>l2</td>\n",
       "      <td>0.385662</td>\n",
       "      <td>{'penalty': 'l2', 'C': 0.38566204211634725}</td>\n",
       "      <td>0.934063</td>\n",
       "      <td>0.959375</td>\n",
       "      <td>0.926094</td>\n",
       "      <td>...</td>\n",
       "      <td>0.970525</td>\n",
       "      <td>0.970863</td>\n",
       "      <td>0.970698</td>\n",
       "      <td>0.970783</td>\n",
       "      <td>0.970552</td>\n",
       "      <td>0.970794</td>\n",
       "      <td>0.970648</td>\n",
       "      <td>0.970448</td>\n",
       "      <td>0.970659</td>\n",
       "      <td>0.000561</td>\n",
       "    </tr>\n",
       "    <tr>\n",
       "      <th>2</th>\n",
       "      <td>0.146925</td>\n",
       "      <td>0.017540</td>\n",
       "      <td>0.001920</td>\n",
       "      <td>0.000262</td>\n",
       "      <td>l2</td>\n",
       "      <td>1.610262</td>\n",
       "      <td>{'penalty': 'l2', 'C': 1.6102620275609392}</td>\n",
       "      <td>0.931406</td>\n",
       "      <td>0.958438</td>\n",
       "      <td>0.925469</td>\n",
       "      <td>...</td>\n",
       "      <td>0.988663</td>\n",
       "      <td>0.989430</td>\n",
       "      <td>0.989796</td>\n",
       "      <td>0.989654</td>\n",
       "      <td>0.988592</td>\n",
       "      <td>0.989559</td>\n",
       "      <td>0.989410</td>\n",
       "      <td>0.988989</td>\n",
       "      <td>0.989401</td>\n",
       "      <td>0.000517</td>\n",
       "    </tr>\n",
       "    <tr>\n",
       "      <th>3</th>\n",
       "      <td>0.245744</td>\n",
       "      <td>0.109848</td>\n",
       "      <td>0.002301</td>\n",
       "      <td>0.000531</td>\n",
       "      <td>l2</td>\n",
       "      <td>3.290345</td>\n",
       "      <td>{'penalty': 'l2', 'C': 3.2903445623126713}</td>\n",
       "      <td>0.926562</td>\n",
       "      <td>0.951719</td>\n",
       "      <td>0.923281</td>\n",
       "      <td>...</td>\n",
       "      <td>0.993481</td>\n",
       "      <td>0.993970</td>\n",
       "      <td>0.994389</td>\n",
       "      <td>0.994564</td>\n",
       "      <td>0.993550</td>\n",
       "      <td>0.994277</td>\n",
       "      <td>0.994171</td>\n",
       "      <td>0.993797</td>\n",
       "      <td>0.994167</td>\n",
       "      <td>0.000436</td>\n",
       "    </tr>\n",
       "    <tr>\n",
       "      <th>4</th>\n",
       "      <td>0.063287</td>\n",
       "      <td>0.051850</td>\n",
       "      <td>0.003738</td>\n",
       "      <td>0.001204</td>\n",
       "      <td>l2</td>\n",
       "      <td>0.000004</td>\n",
       "      <td>{'penalty': 'l2', 'C': 4.1753189365604e-06}</td>\n",
       "      <td>0.837969</td>\n",
       "      <td>0.893437</td>\n",
       "      <td>0.880469</td>\n",
       "      <td>...</td>\n",
       "      <td>0.857960</td>\n",
       "      <td>0.856576</td>\n",
       "      <td>0.858645</td>\n",
       "      <td>0.861220</td>\n",
       "      <td>0.859208</td>\n",
       "      <td>0.857871</td>\n",
       "      <td>0.855454</td>\n",
       "      <td>0.857628</td>\n",
       "      <td>0.857170</td>\n",
       "      <td>0.002298</td>\n",
       "    </tr>\n",
       "    <tr>\n",
       "      <th>5</th>\n",
       "      <td>0.250389</td>\n",
       "      <td>0.083432</td>\n",
       "      <td>0.002202</td>\n",
       "      <td>0.000355</td>\n",
       "      <td>l2</td>\n",
       "      <td>6.723358</td>\n",
       "      <td>{'penalty': 'l2', 'C': 6.723357536499335}</td>\n",
       "      <td>0.918438</td>\n",
       "      <td>0.942344</td>\n",
       "      <td>0.916094</td>\n",
       "      <td>...</td>\n",
       "      <td>0.996169</td>\n",
       "      <td>0.996510</td>\n",
       "      <td>0.996731</td>\n",
       "      <td>0.997074</td>\n",
       "      <td>0.996364</td>\n",
       "      <td>0.996774</td>\n",
       "      <td>0.996740</td>\n",
       "      <td>0.996450</td>\n",
       "      <td>0.996723</td>\n",
       "      <td>0.000367</td>\n",
       "    </tr>\n",
       "    <tr>\n",
       "      <th>6</th>\n",
       "      <td>0.049679</td>\n",
       "      <td>0.002107</td>\n",
       "      <td>0.001855</td>\n",
       "      <td>0.000100</td>\n",
       "      <td>l2</td>\n",
       "      <td>0.045204</td>\n",
       "      <td>{'penalty': 'l2', 'C': 0.0452035365636024}</td>\n",
       "      <td>0.900781</td>\n",
       "      <td>0.936719</td>\n",
       "      <td>0.917031</td>\n",
       "      <td>...</td>\n",
       "      <td>0.925158</td>\n",
       "      <td>0.923806</td>\n",
       "      <td>0.925810</td>\n",
       "      <td>0.925022</td>\n",
       "      <td>0.925064</td>\n",
       "      <td>0.925463</td>\n",
       "      <td>0.923610</td>\n",
       "      <td>0.925746</td>\n",
       "      <td>0.924525</td>\n",
       "      <td>0.001425</td>\n",
       "    </tr>\n",
       "    <tr>\n",
       "      <th>7</th>\n",
       "      <td>0.020643</td>\n",
       "      <td>0.000408</td>\n",
       "      <td>0.001790</td>\n",
       "      <td>0.000083</td>\n",
       "      <td>l2</td>\n",
       "      <td>0.000017</td>\n",
       "      <td>{'penalty': 'l2', 'C': 1.7433288221999873e-05}</td>\n",
       "      <td>0.837969</td>\n",
       "      <td>0.893437</td>\n",
       "      <td>0.880469</td>\n",
       "      <td>...</td>\n",
       "      <td>0.857971</td>\n",
       "      <td>0.856579</td>\n",
       "      <td>0.858648</td>\n",
       "      <td>0.861220</td>\n",
       "      <td>0.859211</td>\n",
       "      <td>0.857871</td>\n",
       "      <td>0.855454</td>\n",
       "      <td>0.857630</td>\n",
       "      <td>0.857172</td>\n",
       "      <td>0.002299</td>\n",
       "    </tr>\n",
       "    <tr>\n",
       "      <th>8</th>\n",
       "      <td>0.031068</td>\n",
       "      <td>0.001682</td>\n",
       "      <td>0.001790</td>\n",
       "      <td>0.000072</td>\n",
       "      <td>l2</td>\n",
       "      <td>0.000621</td>\n",
       "      <td>{'penalty': 'l2', 'C': 0.0006210169418915617}</td>\n",
       "      <td>0.840156</td>\n",
       "      <td>0.895312</td>\n",
       "      <td>0.882031</td>\n",
       "      <td>...</td>\n",
       "      <td>0.860600</td>\n",
       "      <td>0.859371</td>\n",
       "      <td>0.861377</td>\n",
       "      <td>0.863259</td>\n",
       "      <td>0.861639</td>\n",
       "      <td>0.860277</td>\n",
       "      <td>0.858182</td>\n",
       "      <td>0.860189</td>\n",
       "      <td>0.859765</td>\n",
       "      <td>0.002176</td>\n",
       "    </tr>\n",
       "    <tr>\n",
       "      <th>9</th>\n",
       "      <td>0.040312</td>\n",
       "      <td>0.012736</td>\n",
       "      <td>0.002039</td>\n",
       "      <td>0.000499</td>\n",
       "      <td>l2</td>\n",
       "      <td>0.010826</td>\n",
       "      <td>{'penalty': 'l2', 'C': 0.01082636733874054}</td>\n",
       "      <td>0.866719</td>\n",
       "      <td>0.912812</td>\n",
       "      <td>0.896406</td>\n",
       "      <td>...</td>\n",
       "      <td>0.890965</td>\n",
       "      <td>0.890450</td>\n",
       "      <td>0.892792</td>\n",
       "      <td>0.892228</td>\n",
       "      <td>0.891957</td>\n",
       "      <td>0.891772</td>\n",
       "      <td>0.889951</td>\n",
       "      <td>0.892702</td>\n",
       "      <td>0.891026</td>\n",
       "      <td>0.001759</td>\n",
       "    </tr>\n",
       "  </tbody>\n",
       "</table>\n",
       "<p>10 rows × 42 columns</p>\n",
       "</div>"
      ],
      "text/plain": [
       "   mean_fit_time  std_fit_time  mean_score_time  std_score_time param_penalty  \\\n",
       "0       0.031489      0.005402         0.001961        0.000613            l2   \n",
       "1       0.105711      0.012763         0.002033        0.000303            l2   \n",
       "2       0.146925      0.017540         0.001920        0.000262            l2   \n",
       "3       0.245744      0.109848         0.002301        0.000531            l2   \n",
       "4       0.063287      0.051850         0.003738        0.001204            l2   \n",
       "5       0.250389      0.083432         0.002202        0.000355            l2   \n",
       "6       0.049679      0.002107         0.001855        0.000100            l2   \n",
       "7       0.020643      0.000408         0.001790        0.000083            l2   \n",
       "8       0.031068      0.001682         0.001790        0.000072            l2   \n",
       "9       0.040312      0.012736         0.002039        0.000499            l2   \n",
       "\n",
       "    param_C                                          params  \\\n",
       "0  0.005298    {'penalty': 'l2', 'C': 0.005298316906283713}   \n",
       "1  0.385662     {'penalty': 'l2', 'C': 0.38566204211634725}   \n",
       "2  1.610262      {'penalty': 'l2', 'C': 1.6102620275609392}   \n",
       "3  3.290345      {'penalty': 'l2', 'C': 3.2903445623126713}   \n",
       "4  0.000004     {'penalty': 'l2', 'C': 4.1753189365604e-06}   \n",
       "5  6.723358       {'penalty': 'l2', 'C': 6.723357536499335}   \n",
       "6  0.045204      {'penalty': 'l2', 'C': 0.0452035365636024}   \n",
       "7  0.000017  {'penalty': 'l2', 'C': 1.7433288221999873e-05}   \n",
       "8  0.000621   {'penalty': 'l2', 'C': 0.0006210169418915617}   \n",
       "9  0.010826     {'penalty': 'l2', 'C': 0.01082636733874054}   \n",
       "\n",
       "   split0_test_score  split1_test_score  split2_test_score  ...  \\\n",
       "0           0.854219           0.904531           0.890156  ...   \n",
       "1           0.934063           0.959375           0.926094  ...   \n",
       "2           0.931406           0.958438           0.925469  ...   \n",
       "3           0.926562           0.951719           0.923281  ...   \n",
       "4           0.837969           0.893437           0.880469  ...   \n",
       "5           0.918438           0.942344           0.916094  ...   \n",
       "6           0.900781           0.936719           0.917031  ...   \n",
       "7           0.837969           0.893437           0.880469  ...   \n",
       "8           0.840156           0.895312           0.882031  ...   \n",
       "9           0.866719           0.912812           0.896406  ...   \n",
       "\n",
       "   split7_train_score  split8_train_score  split9_train_score  \\\n",
       "0            0.878310            0.877421            0.879827   \n",
       "1            0.970525            0.970863            0.970698   \n",
       "2            0.988663            0.989430            0.989796   \n",
       "3            0.993481            0.993970            0.994389   \n",
       "4            0.857960            0.856576            0.858645   \n",
       "5            0.996169            0.996510            0.996731   \n",
       "6            0.925158            0.923806            0.925810   \n",
       "7            0.857971            0.856579            0.858648   \n",
       "8            0.860600            0.859371            0.861377   \n",
       "9            0.890965            0.890450            0.892792   \n",
       "\n",
       "   split10_train_score  split11_train_score  split12_train_score  \\\n",
       "0             0.879777             0.879484             0.878691   \n",
       "1             0.970783             0.970552             0.970794   \n",
       "2             0.989654             0.988592             0.989559   \n",
       "3             0.994564             0.993550             0.994277   \n",
       "4             0.861220             0.859208             0.857871   \n",
       "5             0.997074             0.996364             0.996774   \n",
       "6             0.925022             0.925064             0.925463   \n",
       "7             0.861220             0.859211             0.857871   \n",
       "8             0.863259             0.861639             0.860277   \n",
       "9             0.892228             0.891957             0.891772   \n",
       "\n",
       "   split13_train_score  split14_train_score  mean_train_score  std_train_score  \n",
       "0             0.876956             0.879383          0.878098         0.001889  \n",
       "1             0.970648             0.970448          0.970659         0.000561  \n",
       "2             0.989410             0.988989          0.989401         0.000517  \n",
       "3             0.994171             0.993797          0.994167         0.000436  \n",
       "4             0.855454             0.857628          0.857170         0.002298  \n",
       "5             0.996740             0.996450          0.996723         0.000367  \n",
       "6             0.923610             0.925746          0.924525         0.001425  \n",
       "7             0.855454             0.857630          0.857172         0.002299  \n",
       "8             0.858182             0.860189          0.859765         0.002176  \n",
       "9             0.889951             0.892702          0.891026         0.001759  \n",
       "\n",
       "[10 rows x 42 columns]"
      ]
     },
     "execution_count": 159,
     "metadata": {},
     "output_type": "execute_result"
    }
   ],
   "source": [
    "print('Best params:', curr_search.best_params_)\n",
    "print('Best score:', curr_search.best_score_)\n",
    "print('Best pipeline:', curr_search.best_estimator_)\n",
    "print('Index of best pipeline:', curr_search.best_index_)\n",
    "results=pd.DataFrame(curr_search.cv_results_)\n",
    "results #see results of test"
   ]
  },
  {
   "cell_type": "code",
   "execution_count": 163,
   "id": "18d25443",
   "metadata": {},
   "outputs": [],
   "source": [
    "final_model = sklearn.linear_model.LogisticRegression(C=1.6102620275609392, penalty='l2', solver='lbfgs', max_iter=300)"
   ]
  },
  {
   "cell_type": "code",
   "execution_count": 164,
   "id": "847182e1",
   "metadata": {},
   "outputs": [
    {
     "data": {
      "text/html": [
       "<style>#sk-container-id-14 {color: black;background-color: white;}#sk-container-id-14 pre{padding: 0;}#sk-container-id-14 div.sk-toggleable {background-color: white;}#sk-container-id-14 label.sk-toggleable__label {cursor: pointer;display: block;width: 100%;margin-bottom: 0;padding: 0.3em;box-sizing: border-box;text-align: center;}#sk-container-id-14 label.sk-toggleable__label-arrow:before {content: \"▸\";float: left;margin-right: 0.25em;color: #696969;}#sk-container-id-14 label.sk-toggleable__label-arrow:hover:before {color: black;}#sk-container-id-14 div.sk-estimator:hover label.sk-toggleable__label-arrow:before {color: black;}#sk-container-id-14 div.sk-toggleable__content {max-height: 0;max-width: 0;overflow: hidden;text-align: left;background-color: #f0f8ff;}#sk-container-id-14 div.sk-toggleable__content pre {margin: 0.2em;color: black;border-radius: 0.25em;background-color: #f0f8ff;}#sk-container-id-14 input.sk-toggleable__control:checked~div.sk-toggleable__content {max-height: 200px;max-width: 100%;overflow: auto;}#sk-container-id-14 input.sk-toggleable__control:checked~label.sk-toggleable__label-arrow:before {content: \"▾\";}#sk-container-id-14 div.sk-estimator input.sk-toggleable__control:checked~label.sk-toggleable__label {background-color: #d4ebff;}#sk-container-id-14 div.sk-label input.sk-toggleable__control:checked~label.sk-toggleable__label {background-color: #d4ebff;}#sk-container-id-14 input.sk-hidden--visually {border: 0;clip: rect(1px 1px 1px 1px);clip: rect(1px, 1px, 1px, 1px);height: 1px;margin: -1px;overflow: hidden;padding: 0;position: absolute;width: 1px;}#sk-container-id-14 div.sk-estimator {font-family: monospace;background-color: #f0f8ff;border: 1px dotted black;border-radius: 0.25em;box-sizing: border-box;margin-bottom: 0.5em;}#sk-container-id-14 div.sk-estimator:hover {background-color: #d4ebff;}#sk-container-id-14 div.sk-parallel-item::after {content: \"\";width: 100%;border-bottom: 1px solid gray;flex-grow: 1;}#sk-container-id-14 div.sk-label:hover label.sk-toggleable__label {background-color: #d4ebff;}#sk-container-id-14 div.sk-serial::before {content: \"\";position: absolute;border-left: 1px solid gray;box-sizing: border-box;top: 0;bottom: 0;left: 50%;z-index: 0;}#sk-container-id-14 div.sk-serial {display: flex;flex-direction: column;align-items: center;background-color: white;padding-right: 0.2em;padding-left: 0.2em;position: relative;}#sk-container-id-14 div.sk-item {position: relative;z-index: 1;}#sk-container-id-14 div.sk-parallel {display: flex;align-items: stretch;justify-content: center;background-color: white;position: relative;}#sk-container-id-14 div.sk-item::before, #sk-container-id-14 div.sk-parallel-item::before {content: \"\";position: absolute;border-left: 1px solid gray;box-sizing: border-box;top: 0;bottom: 0;left: 50%;z-index: -1;}#sk-container-id-14 div.sk-parallel-item {display: flex;flex-direction: column;z-index: 1;position: relative;background-color: white;}#sk-container-id-14 div.sk-parallel-item:first-child::after {align-self: flex-end;width: 50%;}#sk-container-id-14 div.sk-parallel-item:last-child::after {align-self: flex-start;width: 50%;}#sk-container-id-14 div.sk-parallel-item:only-child::after {width: 0;}#sk-container-id-14 div.sk-dashed-wrapped {border: 1px dashed gray;margin: 0 0.4em 0.5em 0.4em;box-sizing: border-box;padding-bottom: 0.4em;background-color: white;}#sk-container-id-14 div.sk-label label {font-family: monospace;font-weight: bold;display: inline-block;line-height: 1.2em;}#sk-container-id-14 div.sk-label-container {text-align: center;}#sk-container-id-14 div.sk-container {/* jupyter's `normalize.less` sets `[hidden] { display: none; }` but bootstrap.min.css set `[hidden] { display: none !important; }` so we also need the `!important` here to be able to override the default hidden behavior on the sphinx rendered scikit-learn.org. See: https://github.com/scikit-learn/scikit-learn/issues/21755 */display: inline-block !important;position: relative;}#sk-container-id-14 div.sk-text-repr-fallback {display: none;}</style><div id=\"sk-container-id-14\" class=\"sk-top-container\"><div class=\"sk-text-repr-fallback\"><pre>LogisticRegression(C=1.6102620275609392, max_iter=300)</pre><b>In a Jupyter environment, please rerun this cell to show the HTML representation or trust the notebook. <br />On GitHub, the HTML representation is unable to render, please try loading this page with nbviewer.org.</b></div><div class=\"sk-container\" hidden><div class=\"sk-item\"><div class=\"sk-estimator sk-toggleable\"><input class=\"sk-toggleable__control sk-hidden--visually\" id=\"sk-estimator-id-28\" type=\"checkbox\" checked><label for=\"sk-estimator-id-28\" class=\"sk-toggleable__label sk-toggleable__label-arrow\">LogisticRegression</label><div class=\"sk-toggleable__content\"><pre>LogisticRegression(C=1.6102620275609392, max_iter=300)</pre></div></div></div></div></div>"
      ],
      "text/plain": [
       "LogisticRegression(C=1.6102620275609392, max_iter=300)"
      ]
     },
     "execution_count": 164,
     "metadata": {},
     "output_type": "execute_result"
    }
   ],
   "source": [
    "final_model.fit(x_prepared_NV, y_tr_N)"
   ]
  },
  {
   "cell_type": "code",
   "execution_count": 167,
   "id": "5f968c52",
   "metadata": {},
   "outputs": [],
   "source": [
    "# results['param_C']"
   ]
  },
  {
   "cell_type": "code",
   "execution_count": 168,
   "id": "55e384f1",
   "metadata": {},
   "outputs": [],
   "source": [
    "# results['mean_test_score']"
   ]
  },
  {
   "cell_type": "code",
   "execution_count": 169,
   "id": "aacae02a",
   "metadata": {},
   "outputs": [],
   "source": [
    "# results['mean_train_score']"
   ]
  },
  {
   "cell_type": "code",
   "execution_count": 171,
   "id": "7eebe88a",
   "metadata": {},
   "outputs": [],
   "source": [
    "sorted_indices = np.argsort(results['param_C'])"
   ]
  },
  {
   "cell_type": "code",
   "execution_count": null,
   "id": "dd43474a",
   "metadata": {},
   "outputs": [],
   "source": []
  },
  {
   "cell_type": "code",
   "execution_count": 183,
   "id": "ecec203e",
   "metadata": {},
   "outputs": [
    {
     "data": {
      "text/plain": [
       "(1e-06, 15.0)"
      ]
     },
     "execution_count": 183,
     "metadata": {},
     "output_type": "execute_result"
    },
    {
     "data": {
      "image/png": "[encoded data removed]",
      "text/plain": [
       "<Figure size 640x480 with 1 Axes>"
      ]
     },
     "metadata": {},
     "output_type": "display_data"
    }
   ],
   "source": [
    "plt.plot(results['param_C'][sorted_indices], results['mean_test_score'][sorted_indices], 'r-o', label='validation set error')\n",
    "plt.plot(results['param_C'][sorted_indices], results['mean_train_score'][sorted_indices], 'b-o', label='training set error')\n",
    "\n",
    "plt.title(\"Regularization Strength C vs Train and Test Error\")\n",
    "plt.xscale(\"log\")\n",
    "plt.ylabel('error')\n",
    "plt.xlabel(\"$\\log_{10} C$\");\n",
    "plt.legend(bbox_to_anchor=(1.5, 0.5)) # make legend outside plot\n",
    "plt.ylim([0.8, 1.0]);\n",
    "plt.xlim([0.000001, 15.0])"
   ]
  },
  {
   "cell_type": "code",
   "execution_count": null,
   "id": "0f17bfb9",
   "metadata": {},
   "outputs": [],
   "source": []
  },
  {
   "cell_type": "code",
   "execution_count": 109,
   "id": "f15870d7",
   "metadata": {},
   "outputs": [],
   "source": [
    "#getting a leaderboard score:\n",
    "x_test_df = pd.read_csv('data_reviews/x_test.csv')\n",
    "test_list_of_sentences = x_test_df['text'].str.cat(sep='\\n')"
   ]
  },
  {
   "cell_type": "code",
   "execution_count": 110,
   "id": "92db3d32",
   "metadata": {},
   "outputs": [],
   "source": [
    "#cleaning test data"
   ]
  },
  {
   "cell_type": "code",
   "execution_count": 111,
   "id": "a806eab9",
   "metadata": {},
   "outputs": [],
   "source": [
    "test_list_of_sentences, blah = preprocess_string(test_list_of_sentences)"
   ]
  },
  {
   "cell_type": "code",
   "execution_count": 48,
   "id": "f1b1c76f",
   "metadata": {},
   "outputs": [],
   "source": [
    "# test_list_of_sentences = remove_non_alpha_num(test_list_of_sentences)"
   ]
  },
  {
   "cell_type": "code",
   "execution_count": 49,
   "id": "d6c9a7f8",
   "metadata": {},
   "outputs": [],
   "source": [
    "#test_list_of_sentences = correct_spelling(test_list_of_sentences)"
   ]
  },
  {
   "cell_type": "code",
   "execution_count": 50,
   "id": "d90e178d",
   "metadata": {},
   "outputs": [],
   "source": [
    "# test_list_of_sentences = remove_stop_words(test_list_of_sentences, stop_words)\n",
    "#"
   ]
  },
  {
   "cell_type": "code",
   "execution_count": 51,
   "id": "a5953cfa",
   "metadata": {},
   "outputs": [],
   "source": [
    "Y = vectorizer.transform(test_list_of_sentences.split(\"\\n\"))\n",
    "#Y.transform(test_list_of_sentences.split(\"\\n\")).toarray()\n"
   ]
  },
  {
   "cell_type": "code",
   "execution_count": 52,
   "id": "0cb53289",
   "metadata": {},
   "outputs": [],
   "source": [
    "predict_array = Y.toarray()"
   ]
  },
  {
   "cell_type": "code",
   "execution_count": 53,
   "id": "c05d91f5",
   "metadata": {},
   "outputs": [],
   "source": [
    "# predict_array[:, :].shape"
   ]
  },
  {
   "cell_type": "code",
   "execution_count": 113,
   "id": "47cf2b38",
   "metadata": {},
   "outputs": [],
   "source": [
    "#determining test data size\n",
    "list_of_sentences2 = test_list_of_sentences.split('\\n')\n",
    "Z = len(list_of_sentences2)\n",
    "x_tr_ZV = np.zeros((Z, V))"
   ]
  },
  {
   "cell_type": "code",
   "execution_count": 114,
   "id": "e0165d40",
   "metadata": {},
   "outputs": [],
   "source": [
    "for nn2, raw_text_line2 in enumerate(list_of_sentences2):\n",
    "    x_tr_ZV[nn2] = transform_text_into_feature_vector(raw_text_line2, vocab_dict)"
   ]
  },
  {
   "cell_type": "code",
   "execution_count": 115,
   "id": "8287d426",
   "metadata": {},
   "outputs": [],
   "source": [
    "predict_array = x_tr_ZV"
   ]
  },
  {
   "cell_type": "code",
   "execution_count": 165,
   "id": "0b8352f9",
   "metadata": {},
   "outputs": [],
   "source": [
    "yhat_test_N = final_model.predict_proba(predict_array)"
   ]
  },
  {
   "cell_type": "code",
   "execution_count": 166,
   "id": "b71c2e61",
   "metadata": {},
   "outputs": [],
   "source": [
    "np.savetxt(\"yproba1_test.txt\", yhat_test_N[:, 1])"
   ]
  },
  {
   "cell_type": "code",
   "execution_count": null,
   "id": "b3d3fc33",
   "metadata": {},
   "outputs": [],
   "source": []
  },
  {
   "cell_type": "code",
   "execution_count": null,
   "id": "1ff6d33f",
   "metadata": {},
   "outputs": [],
   "source": []
  },
  {
   "cell_type": "code",
   "execution_count": 265,
   "id": "435f5638",
   "metadata": {},
   "outputs": [
    {
     "name": "stdout",
     "output_type": "stream",
     "text": [
      "3\n"
     ]
    }
   ],
   "source": [
    "train_predictions = curr_search.predict(x_prepared_NV)\n",
    "probas = curr_search.predict_proba(x_prepared_NV)\n",
    "b = ~np.equal(train_predictions, y_tr_N)\n",
    "indices = np.flatnonzero(b)\n",
    "print(len(indices))"
   ]
  },
  {
   "cell_type": "code",
   "execution_count": null,
   "id": "01e3ae8e",
   "metadata": {},
   "outputs": [],
   "source": []
  },
  {
   "cell_type": "code",
   "execution_count": null,
   "id": "0f951080",
   "metadata": {},
   "outputs": [],
   "source": []
  },
  {
   "cell_type": "code",
   "execution_count": 266,
   "id": "efacc737",
   "metadata": {},
   "outputs": [],
   "source": [
    "#ok... so it is only getting 4 wrong! This seems really good... not sure how I'm going to improve this"
   ]
  },
  {
   "cell_type": "code",
   "execution_count": 267,
   "id": "de07883e",
   "metadata": {},
   "outputs": [
    {
     "name": "stdout",
     "output_type": "stream",
     "text": [
      "Butchered Review:\n",
      "highly recommend\n",
      "Original Review:\n",
      "Highly unrecommended.  \n",
      "Probability: [0.28549099 0.71450901]\n",
      "Predicted: 1.0\n",
      "Actual: 0.0\n",
      "\n",
      "\n",
      "Butchered Review:\n",
      "\n",
      "Original Review:\n",
      "10/10  \n",
      "Probability: [0.54308816 0.45691184]\n",
      "Predicted: 0.0\n",
      "Actual: 1.0\n",
      "\n",
      "\n",
      "Butchered Review:\n",
      "\n",
      "Original Review:\n",
      "10/10  \n",
      "Probability: [0.54308816 0.45691184]\n",
      "Predicted: 0.0\n",
      "Actual: 1.0\n",
      "\n",
      "\n"
     ]
    }
   ],
   "source": [
    "for i in indices:\n",
    "    print(\"Butchered Review:\")\n",
    "    print(reviews_string.split(\"\\n\")[i])\n",
    "    #print('\\n')\n",
    "    print(\"Original Review:\")\n",
    "    print(original_review_string.split(\"\\n\")[i])\n",
    "    #print('\\n')\n",
    "    print(\"Probability:\", probas[i])\n",
    "    print(\"Predicted:\", train_predictions[i])\n",
    "    print(\"Actual:\", y_tr_N[i])\n",
    "    print('\\n')\n",
    "    \n",
    "    "
   ]
  },
  {
   "cell_type": "code",
   "execution_count": 729,
   "id": "af1f6867",
   "metadata": {},
   "outputs": [],
   "source": [
    "\n",
    "test_string = \"Plan on ordering from them again and again.\"\n",
    "#preprocess_string(test_string)\n",
    "reviews_string3 = test_string"
   ]
  },
  {
   "cell_type": "code",
   "execution_count": 730,
   "id": "b291df0c",
   "metadata": {},
   "outputs": [
    {
     "data": {
      "text/plain": [
       "'plan on ordering from them again and again '"
      ]
     },
     "execution_count": 730,
     "metadata": {},
     "output_type": "execute_result"
    }
   ],
   "source": [
    "reviews_string3 = remove_non_alpha_num(reviews_string3)\n",
    "reviews_string3"
   ]
  },
  {
   "cell_type": "code",
   "execution_count": 731,
   "id": "161aec85",
   "metadata": {},
   "outputs": [
    {
     "data": {
      "text/plain": [
       "'plan on ordering from them again and again'"
      ]
     },
     "execution_count": 731,
     "metadata": {},
     "output_type": "execute_result"
    }
   ],
   "source": [
    "reviews_string3 = correct_spelling(reviews_string3)\n",
    "reviews_string3"
   ]
  },
  {
   "cell_type": "code",
   "execution_count": null,
   "id": "c744bf5f",
   "metadata": {},
   "outputs": [],
   "source": []
  },
  {
   "cell_type": "code",
   "execution_count": null,
   "id": "456008a6",
   "metadata": {},
   "outputs": [],
   "source": []
  },
  {
   "cell_type": "code",
   "execution_count": null,
   "id": "c5eae76b",
   "metadata": {},
   "outputs": [],
   "source": []
  },
  {
   "cell_type": "code",
   "execution_count": 732,
   "id": "7bd75061",
   "metadata": {},
   "outputs": [
    {
     "data": {
      "text/plain": [
       "'plan on order from them again and again'"
      ]
     },
     "execution_count": 732,
     "metadata": {},
     "output_type": "execute_result"
    }
   ],
   "source": [
    "reviews_string3 = lemmatize_words(reviews_string3)\n",
    "reviews_string3"
   ]
  },
  {
   "cell_type": "code",
   "execution_count": 734,
   "id": "2b5c2234",
   "metadata": {},
   "outputs": [
    {
     "data": {
      "text/plain": [
       "'plan order'"
      ]
     },
     "execution_count": 734,
     "metadata": {},
     "output_type": "execute_result"
    }
   ],
   "source": [
    "reviews_string3 = remove_stop_words(reviews_string3, stop_words)\n",
    "reviews_string3"
   ]
  },
  {
   "cell_type": "code",
   "execution_count": null,
   "id": "772b0fe3",
   "metadata": {},
   "outputs": [],
   "source": []
  }
 ],
 "metadata": {
  "kernelspec": {
   "display_name": "Python 3 (ipykernel)",
   "language": "python",
   "name": "python3"
  },
  "language_info": {
   "codemirror_mode": {
    "name": "ipython",
    "version": 3
   },
   "file_extension": ".py",
   "mimetype": "text/x-python",
   "name": "python",
   "nbconvert_exporter": "python",
   "pygments_lexer": "ipython3",
   "version": "3.10.12"
  }
 },
 "nbformat": 4,
 "nbformat_minor": 5
}
