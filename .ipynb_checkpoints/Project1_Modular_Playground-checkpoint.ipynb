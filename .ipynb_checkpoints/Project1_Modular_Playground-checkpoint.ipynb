{
 "cells": [
  {
   "cell_type": "code",
   "execution_count": 1,
   "id": "d8e42ead",
   "metadata": {},
   "outputs": [],
   "source": [
    "import numpy as np\n",
    "import pandas as pd\n",
    "import os\n",
    "\n",
    "\n",
    "if __name__ == '__main__':\n",
    "    data_dir = 'data_reviews'\n",
    "    x_train_df = pd.read_csv(os.path.join(data_dir, 'x_train.csv'))\n",
    "    y_train_df = pd.read_csv(os.path.join(data_dir, 'y_train.csv'))"
   ]
  },
  {
   "cell_type": "code",
   "execution_count": 2,
   "id": "7b0b7330",
   "metadata": {},
   "outputs": [],
   "source": [
    "#load data into python\n",
    "x_train_df = pd.read_csv('data_reviews/x_train.csv')\n",
    "#concatenating review to make string processing easier\n",
    "tr_list_of_sentences = x_train_df['text'].str.cat(sep='\\n')\n",
    "#tr_list_of_sentences"
   ]
  },
  {
   "cell_type": "code",
   "execution_count": null,
   "id": "ee721f8c",
   "metadata": {},
   "outputs": [],
   "source": []
  },
  {
   "cell_type": "code",
   "execution_count": null,
   "id": "20902d5d",
   "metadata": {},
   "outputs": [],
   "source": []
  },
  {
   "cell_type": "code",
   "execution_count": null,
   "id": "1a4a8dbf",
   "metadata": {},
   "outputs": [],
   "source": []
  },
  {
   "cell_type": "markdown",
   "id": "719381bf",
   "metadata": {},
   "source": [
    "# Preprocessing"
   ]
  },
  {
   "cell_type": "code",
   "execution_count": 3,
   "id": "ee7c2a73",
   "metadata": {},
   "outputs": [
    {
     "data": {
      "text/plain": [
       "'\\nSteps:\\n1. Remove all non-alpha numeric characters from the string\\n2. Remove stop words\\n3. Correct spelling\\n\\n'"
      ]
     },
     "execution_count": 3,
     "metadata": {},
     "output_type": "execute_result"
    }
   ],
   "source": [
    "'''\n",
    "Steps:\n",
    "1. Remove all non-alpha numeric characters from the string\n",
    "2. Remove stop words\n",
    "3. Correct spelling\n",
    "\n",
    "'''"
   ]
  },
  {
   "cell_type": "code",
   "execution_count": 4,
   "id": "c9ce3af4",
   "metadata": {},
   "outputs": [],
   "source": [
    "#remove all non-alpha numeric characters from the string\n",
    "import re"
   ]
  },
  {
   "cell_type": "code",
   "execution_count": 5,
   "id": "e2f6180a",
   "metadata": {},
   "outputs": [],
   "source": [
    "#using regex to remove non_alphanum\n",
    "def remove_non_alpha_num(reviews_string):\n",
    "    s = re.sub(r'[^A-Za-z\\n\\s]+', '', reviews_string)\n",
    "    s = s.lower()\n",
    "    return s\n",
    "               \n",
    "    \n",
    "        "
   ]
  },
  {
   "cell_type": "code",
   "execution_count": 6,
   "id": "09187f97",
   "metadata": {},
   "outputs": [],
   "source": [
    "#remove stop words\n",
    "from nltk.tokenize import word_tokenize\n",
    "from nltk.corpus import stopwords"
   ]
  },
  {
   "cell_type": "code",
   "execution_count": 7,
   "id": "53a35b87",
   "metadata": {},
   "outputs": [],
   "source": [
    "stop_words = set(stopwords.words('english'))\n",
    "stop_words = {word.replace(\"'\", '') for word in stop_words}\n",
    "toRemove = {'not', \"couldn't\", \"shouldn't\", \"didn't\"}\n",
    "for entry in toRemove:\n",
    "    stop_words.discard(entry)"
   ]
  },
  {
   "cell_type": "code",
   "execution_count": null,
   "id": "344670ce",
   "metadata": {},
   "outputs": [],
   "source": []
  },
  {
   "cell_type": "code",
   "execution_count": 8,
   "id": "20462bdb",
   "metadata": {},
   "outputs": [],
   "source": [
    "#https://www.geeksforgeeks.org/removing-stop-words-nltk-python/\n",
    "def remove_stop_words(reviews_string, remove_words):\n",
    "    reviews_list = reviews_string.split('\\n')\n",
    "    filtered_sentences = []\n",
    "    for review in reviews_list:\n",
    "        r = review.split()\n",
    "        filtered_words = [w for w in r if w not in remove_words]\n",
    "        filtered_sentence = ' '.join(filtered_words)\n",
    "        filtered_sentences.append(filtered_sentence)\n",
    "    \n",
    "    filtered_sentences = '\\n'.join(filtered_sentences)\n",
    "    return filtered_sentences\n",
    "    "
   ]
  },
  {
   "cell_type": "code",
   "execution_count": 9,
   "id": "f3316ba9",
   "metadata": {},
   "outputs": [],
   "source": [
    "v = remove_non_alpha_num(tr_list_of_sentences)\n",
    "x = remove_stop_words(v, stop_words)\n",
    "\n"
   ]
  },
  {
   "cell_type": "code",
   "execution_count": 10,
   "id": "6fab8fae",
   "metadata": {},
   "outputs": [],
   "source": [
    "from spellchecker import SpellChecker"
   ]
  },
  {
   "cell_type": "code",
   "execution_count": 11,
   "id": "ac0afb0a",
   "metadata": {},
   "outputs": [],
   "source": [
    "#correct spelling\n",
    "#https://pyspellchecker.readthedocs.io/en/latest/\n",
    "def correct_spelling(reviews_string):\n",
    "    reviews_list = reviews_string.split('\\n')\n",
    "    correctly_spelled_sentences = []\n",
    "    \n",
    "    speller = SpellChecker()\n",
    "    \n",
    "    for review in reviews_list:\n",
    "        words = review.split()\n",
    "        correctly_spelled_words = [speller.correction(word) if speller.correction(word) is not None else word for word in words]\n",
    "        correct_sentence = ' '.join(correctly_spelled_words)\n",
    "        correctly_spelled_sentences.append(correct_sentence)\n",
    "    \n",
    "    corrected_reviews_string = '\\n'.join(correctly_spelled_sentences)\n",
    "    return corrected_reviews_string\n"
   ]
  },
  {
   "cell_type": "code",
   "execution_count": 12,
   "id": "8d025b0d",
   "metadata": {},
   "outputs": [],
   "source": [
    "#The following code is from the Bag of Words Lab\n",
    "\n",
    "def create_tok_count(list_of_sentences):\n",
    "    \n",
    "    tok_count_dict = dict()\n",
    "\n",
    "    for line in list_of_sentences:\n",
    "        tok_list = word_tokenize(line)\n",
    "        for tok in tok_list:\n",
    "            if tok in tok_count_dict:\n",
    "                tok_count_dict[tok] += 1\n",
    "            else:\n",
    "                tok_count_dict[tok] = 1\n",
    "                    \n",
    "    return tok_count_dict"
   ]
  },
  {
   "cell_type": "code",
   "execution_count": 13,
   "id": "011088e2",
   "metadata": {},
   "outputs": [],
   "source": [
    "import afinn"
   ]
  },
  {
   "cell_type": "code",
   "execution_count": 15,
   "id": "b1dcadba",
   "metadata": {},
   "outputs": [
    {
     "name": "stdout",
     "output_type": "stream",
     "text": [
      "1\n"
     ]
    }
   ],
   "source": [
    "\n",
    "from afinn import Afinn\n",
    "\n",
    "def determine_sentiment(word):\n",
    "    afinn = Afinn()\n",
    "    score = afinn.score(word)\n",
    "    \n",
    "    if score > 0:\n",
    "        return 1  # Positive sentiment\n",
    "    elif score < 0:\n",
    "        return -1  # Negative sentiment\n",
    "    else:\n",
    "        return 0  # Neutral/Indeterminate sentiment\n",
    "\n"
   ]
  },
  {
   "cell_type": "code",
   "execution_count": 51,
   "id": "85be0956",
   "metadata": {},
   "outputs": [
    {
     "name": "stdout",
     "output_type": "stream",
     "text": [
      "0\n"
     ]
    }
   ],
   "source": [
    "# Example usage\n",
    "word = \"okay\"\n",
    "result = determine_sentiment(word)\n",
    "print(result)  # 1 for positive sentiment"
   ]
  },
  {
   "cell_type": "code",
   "execution_count": 16,
   "id": "9c08d1f0",
   "metadata": {},
   "outputs": [],
   "source": [
    "FREQ_THRESHOLD = 2\n",
    "def build_vocab_list(reviews_string):\n",
    "    list_of_sentences = reviews_string.split('\\n')\n",
    "    \n",
    "    tok_count_dict = create_tok_count(list_of_sentences)\n",
    "    sorted_tokens = list(sorted(tok_count_dict, key=tok_count_dict.get, reverse=True))\n",
    "    \n",
    "    vocab_list = [w for w in sorted_tokens[:] if ((tok_count_dict[w] >= FREQ_THRESHOLD) or (determine_sentiment(w) != 0))]\n",
    "    \n",
    "    vocab_dict = dict()\n",
    "    for vocab_id, tok in enumerate(vocab_list):\n",
    "        vocab_dict[tok] = vocab_id\n",
    "    \n",
    "    return vocab_dict, len(list_of_sentences), len(vocab_list)\n",
    "    "
   ]
  },
  {
   "cell_type": "code",
   "execution_count": 17,
   "id": "2767db2c",
   "metadata": {},
   "outputs": [],
   "source": [
    "\n",
    "# list_of_sentences = reviews_string.split('\\n')\n",
    "    \n",
    "# tok_count_dict = create_tok_count(list_of_sentences)\n",
    "# sorted_tokens = list(sorted(tok_count_dict, key=tok_count_dict.get, reverse=True))\n",
    "\n",
    "# vocab_list = [w for w in sorted_tokens[:] if tok_count_dict[w] >= FREQ_THRESHOLD]\n",
    "\n",
    "# vocab_dict = dict()\n",
    "# for vocab_id, tok in enumerate(vocab_list):\n",
    "#     vocab_dict[tok] = vocab_id\n",
    "\n",
    "    "
   ]
  },
  {
   "cell_type": "code",
   "execution_count": 18,
   "id": "ed3f9cb1",
   "metadata": {},
   "outputs": [],
   "source": [
    "# tok_count_dict[sorted_tokens[0]]\n",
    "# sorted_tokens[0]"
   ]
  },
  {
   "cell_type": "code",
   "execution_count": 19,
   "id": "e5745a47",
   "metadata": {},
   "outputs": [],
   "source": [
    "def transform_text_into_feature_vector(text, vocab_dict):\n",
    "    ''' Produce count feature vector for provided text\n",
    "    \n",
    "    Args\n",
    "    ----\n",
    "    text : string\n",
    "        A string of raw text, representing a single 'review'\n",
    "    vocab_dict : dict with string keys\n",
    "        If token is in vocabulary, will exist as key in the dict\n",
    "        If token is not in vocabulary, will not be in the dict\n",
    "\n",
    "    Returns\n",
    "    -------\n",
    "    count_V : 1D numpy array, shape (V,) = (n_vocab,)\n",
    "        Count vector, indicating how often each vocab word\n",
    "        appears in the provided text string\n",
    "    '''\n",
    "    V = len(vocab_dict.keys())\n",
    "    count_V = np.zeros(V)\n",
    "    for tok in word_tokenize(text):\n",
    "        if tok in vocab_dict:\n",
    "            vv = vocab_dict[tok]\n",
    "            count_V[vv] += 1\n",
    "    return count_V"
   ]
  },
  {
   "cell_type": "code",
   "execution_count": null,
   "id": "5fb78b93",
   "metadata": {},
   "outputs": [],
   "source": []
  },
  {
   "cell_type": "code",
   "execution_count": 20,
   "id": "beb6b7c1",
   "metadata": {},
   "outputs": [],
   "source": [
    "#DO NOT TOUCH THESE: THEY TAKE A LONG TIME TO RUN"
   ]
  },
  {
   "cell_type": "code",
   "execution_count": 36,
   "id": "55ebb7fc",
   "metadata": {},
   "outputs": [],
   "source": [
    "reviews_string = remove_non_alpha_num(tr_list_of_sentences)\n"
   ]
  },
  {
   "cell_type": "code",
   "execution_count": 37,
   "id": "d7d043a2",
   "metadata": {},
   "outputs": [],
   "source": [
    "reviews_string = correct_spelling(reviews_string)\n",
    "# reviews_string"
   ]
  },
  {
   "cell_type": "code",
   "execution_count": 38,
   "id": "913f8c55",
   "metadata": {},
   "outputs": [],
   "source": [
    "reviews_string = remove_stop_words(reviews_string, stop_words)\n",
    "# list_of_sentences = reviews_string.split('\\n')\n",
    "# list_of_sentences"
   ]
  },
  {
   "cell_type": "code",
   "execution_count": 39,
   "id": "2147868b",
   "metadata": {},
   "outputs": [
    {
     "data": {
      "text/plain": [
       "2400"
      ]
     },
     "execution_count": 39,
     "metadata": {},
     "output_type": "execute_result"
    }
   ],
   "source": [
    "vocab_dict, N, V = build_vocab_list(reviews_string)\n",
    "N"
   ]
  },
  {
   "cell_type": "code",
   "execution_count": 40,
   "id": "17195dd7",
   "metadata": {},
   "outputs": [],
   "source": [
    "x_prepared_NV = np.zeros((N, V))\n",
    "for nn, raw_text_line in enumerate(reviews_string.split(\"\\n\")):\n",
    "    x_prepared_NV[nn] = transform_text_into_feature_vector(raw_text_line, vocab_dict)"
   ]
  },
  {
   "cell_type": "code",
   "execution_count": 41,
   "id": "30df88ab",
   "metadata": {},
   "outputs": [
    {
     "data": {
      "text/plain": [
       "(2400, 2083)"
      ]
     },
     "execution_count": 41,
     "metadata": {},
     "output_type": "execute_result"
    }
   ],
   "source": [
    "x_prepared_NV.shape"
   ]
  },
  {
   "cell_type": "markdown",
   "id": "1d365119",
   "metadata": {},
   "source": [
    "# Creating Model"
   ]
  },
  {
   "cell_type": "code",
   "execution_count": 42,
   "id": "88b78f63",
   "metadata": {},
   "outputs": [],
   "source": [
    "#interesting model stuff\n",
    "import sklearn\n",
    "from sklearn.model_selection import RandomizedSearchCV\n",
    "from sklearn.model_selection import GridSearchCV\n",
    "from scipy.stats import loguniform\n",
    "from sklearn.pipeline import Pipeline\n",
    "from sklearn.linear_model import LogisticRegression"
   ]
  },
  {
   "cell_type": "code",
   "execution_count": null,
   "id": "02ae9bed",
   "metadata": {},
   "outputs": [],
   "source": []
  },
  {
   "cell_type": "code",
   "execution_count": 43,
   "id": "a30342bf",
   "metadata": {},
   "outputs": [],
   "source": [
    "y_train_df = pd.read_csv('data_reviews/y_train.csv')\n",
    "y_tr_N = y_train_df.is_positive_sentiment.values.astype(float)"
   ]
  },
  {
   "cell_type": "code",
   "execution_count": 44,
   "id": "dacf8a39",
   "metadata": {},
   "outputs": [
    {
     "data": {
      "text/plain": [
       "(2400,)"
      ]
     },
     "execution_count": 44,
     "metadata": {},
     "output_type": "execute_result"
    }
   ],
   "source": [
    "y_tr_N.shape"
   ]
  },
  {
   "cell_type": "code",
   "execution_count": 45,
   "id": "55c0bfba",
   "metadata": {},
   "outputs": [],
   "source": [
    "model = sklearn.linear_model.LogisticRegression(solver='lbfgs', max_iter=300)\n",
    "SEED = 2\n",
    "FOLDS = 15"
   ]
  },
  {
   "cell_type": "code",
   "execution_count": 46,
   "id": "fe8e178e",
   "metadata": {},
   "outputs": [],
   "source": [
    "cRange = loguniform(1e-3, 1e3)\n",
    "tol = [1e-1,1e-2,1e-3,1e-4,1e-5]"
   ]
  },
  {
   "cell_type": "code",
   "execution_count": 47,
   "id": "135dd9c3",
   "metadata": {},
   "outputs": [],
   "source": [
    "\n",
    "distributions = {\n",
    "    'C': cRange,\n",
    "    'penalty': ['l2', 'l1'],\n",
    "    'tol': tol,\n",
    "    'fit_intercept': [True, False]\n",
    "}"
   ]
  },
  {
   "cell_type": "code",
   "execution_count": null,
   "id": "418a3c46",
   "metadata": {},
   "outputs": [],
   "source": []
  },
  {
   "cell_type": "code",
   "execution_count": 48,
   "id": "b33aa2a5",
   "metadata": {},
   "outputs": [],
   "source": [
    "curr_search = RandomizedSearchCV(\n",
    "    estimator = model,\n",
    "    param_distributions = distributions,\n",
    "    scoring = 'roc_auc',\n",
    "    n_iter = 20,\n",
    "    cv = FOLDS,\n",
    "    \n",
    "    )"
   ]
  },
  {
   "cell_type": "code",
   "execution_count": null,
   "id": "8895496d",
   "metadata": {},
   "outputs": [],
   "source": []
  },
  {
   "cell_type": "code",
   "execution_count": 49,
   "id": "ebface95",
   "metadata": {},
   "outputs": [
    {
     "name": "stderr",
     "output_type": "stream",
     "text": [
      "/Users/liam/micromamba/envs/cs135_env/lib/python3.10/site-packages/sklearn/model_selection/_validation.py:378: FitFailedWarning: \n",
      "135 fits failed out of a total of 300.\n",
      "The score on these train-test partitions for these parameters will be set to nan.\n",
      "If these failures are not expected, you can try to debug them by setting error_score='raise'.\n",
      "\n",
      "Below are more details about the failures:\n",
      "--------------------------------------------------------------------------------\n",
      "135 fits failed with the following error:\n",
      "Traceback (most recent call last):\n",
      "  File \"/Users/liam/micromamba/envs/cs135_env/lib/python3.10/site-packages/sklearn/model_selection/_validation.py\", line 686, in _fit_and_score\n",
      "    estimator.fit(X_train, y_train, **fit_params)\n",
      "  File \"/Users/liam/micromamba/envs/cs135_env/lib/python3.10/site-packages/sklearn/linear_model/_logistic.py\", line 1162, in fit\n",
      "    solver = _check_solver(self.solver, self.penalty, self.dual)\n",
      "  File \"/Users/liam/micromamba/envs/cs135_env/lib/python3.10/site-packages/sklearn/linear_model/_logistic.py\", line 54, in _check_solver\n",
      "    raise ValueError(\n",
      "ValueError: Solver lbfgs supports only 'l2' or 'none' penalties, got l1 penalty.\n",
      "\n",
      "  warnings.warn(some_fits_failed_message, FitFailedWarning)\n",
      "/Users/liam/micromamba/envs/cs135_env/lib/python3.10/site-packages/sklearn/model_selection/_search.py:952: UserWarning: One or more of the test scores are non-finite: [       nan 0.8479375  0.87608333 0.88183333        nan        nan\n",
      " 0.84982292 0.84434375        nan 0.89271875        nan 0.86970833\n",
      "        nan        nan        nan 0.85644792        nan 0.86922917\n",
      " 0.89352083 0.85921875]\n",
      "  warnings.warn(\n"
     ]
    },
    {
     "data": {
      "text/html": [
       "<style>#sk-container-id-2 {color: black;background-color: white;}#sk-container-id-2 pre{padding: 0;}#sk-container-id-2 div.sk-toggleable {background-color: white;}#sk-container-id-2 label.sk-toggleable__label {cursor: pointer;display: block;width: 100%;margin-bottom: 0;padding: 0.3em;box-sizing: border-box;text-align: center;}#sk-container-id-2 label.sk-toggleable__label-arrow:before {content: \"▸\";float: left;margin-right: 0.25em;color: #696969;}#sk-container-id-2 label.sk-toggleable__label-arrow:hover:before {color: black;}#sk-container-id-2 div.sk-estimator:hover label.sk-toggleable__label-arrow:before {color: black;}#sk-container-id-2 div.sk-toggleable__content {max-height: 0;max-width: 0;overflow: hidden;text-align: left;background-color: #f0f8ff;}#sk-container-id-2 div.sk-toggleable__content pre {margin: 0.2em;color: black;border-radius: 0.25em;background-color: #f0f8ff;}#sk-container-id-2 input.sk-toggleable__control:checked~div.sk-toggleable__content {max-height: 200px;max-width: 100%;overflow: auto;}#sk-container-id-2 input.sk-toggleable__control:checked~label.sk-toggleable__label-arrow:before {content: \"▾\";}#sk-container-id-2 div.sk-estimator input.sk-toggleable__control:checked~label.sk-toggleable__label {background-color: #d4ebff;}#sk-container-id-2 div.sk-label input.sk-toggleable__control:checked~label.sk-toggleable__label {background-color: #d4ebff;}#sk-container-id-2 input.sk-hidden--visually {border: 0;clip: rect(1px 1px 1px 1px);clip: rect(1px, 1px, 1px, 1px);height: 1px;margin: -1px;overflow: hidden;padding: 0;position: absolute;width: 1px;}#sk-container-id-2 div.sk-estimator {font-family: monospace;background-color: #f0f8ff;border: 1px dotted black;border-radius: 0.25em;box-sizing: border-box;margin-bottom: 0.5em;}#sk-container-id-2 div.sk-estimator:hover {background-color: #d4ebff;}#sk-container-id-2 div.sk-parallel-item::after {content: \"\";width: 100%;border-bottom: 1px solid gray;flex-grow: 1;}#sk-container-id-2 div.sk-label:hover label.sk-toggleable__label {background-color: #d4ebff;}#sk-container-id-2 div.sk-serial::before {content: \"\";position: absolute;border-left: 1px solid gray;box-sizing: border-box;top: 0;bottom: 0;left: 50%;z-index: 0;}#sk-container-id-2 div.sk-serial {display: flex;flex-direction: column;align-items: center;background-color: white;padding-right: 0.2em;padding-left: 0.2em;position: relative;}#sk-container-id-2 div.sk-item {position: relative;z-index: 1;}#sk-container-id-2 div.sk-parallel {display: flex;align-items: stretch;justify-content: center;background-color: white;position: relative;}#sk-container-id-2 div.sk-item::before, #sk-container-id-2 div.sk-parallel-item::before {content: \"\";position: absolute;border-left: 1px solid gray;box-sizing: border-box;top: 0;bottom: 0;left: 50%;z-index: -1;}#sk-container-id-2 div.sk-parallel-item {display: flex;flex-direction: column;z-index: 1;position: relative;background-color: white;}#sk-container-id-2 div.sk-parallel-item:first-child::after {align-self: flex-end;width: 50%;}#sk-container-id-2 div.sk-parallel-item:last-child::after {align-self: flex-start;width: 50%;}#sk-container-id-2 div.sk-parallel-item:only-child::after {width: 0;}#sk-container-id-2 div.sk-dashed-wrapped {border: 1px dashed gray;margin: 0 0.4em 0.5em 0.4em;box-sizing: border-box;padding-bottom: 0.4em;background-color: white;}#sk-container-id-2 div.sk-label label {font-family: monospace;font-weight: bold;display: inline-block;line-height: 1.2em;}#sk-container-id-2 div.sk-label-container {text-align: center;}#sk-container-id-2 div.sk-container {/* jupyter's `normalize.less` sets `[hidden] { display: none; }` but bootstrap.min.css set `[hidden] { display: none !important; }` so we also need the `!important` here to be able to override the default hidden behavior on the sphinx rendered scikit-learn.org. See: https://github.com/scikit-learn/scikit-learn/issues/21755 */display: inline-block !important;position: relative;}#sk-container-id-2 div.sk-text-repr-fallback {display: none;}</style><div id=\"sk-container-id-2\" class=\"sk-top-container\"><div class=\"sk-text-repr-fallback\"><pre>RandomizedSearchCV(cv=15, estimator=LogisticRegression(max_iter=300), n_iter=20,\n",
       "                   param_distributions={&#x27;C&#x27;: &lt;scipy.stats._distn_infrastructure.rv_continuous_frozen object at 0x7fd4abec9cf0&gt;,\n",
       "                                        &#x27;fit_intercept&#x27;: [True, False],\n",
       "                                        &#x27;penalty&#x27;: [&#x27;l2&#x27;, &#x27;l1&#x27;],\n",
       "                                        &#x27;tol&#x27;: [0.1, 0.01, 0.001, 0.0001,\n",
       "                                                1e-05]},\n",
       "                   scoring=&#x27;roc_auc&#x27;)</pre><b>In a Jupyter environment, please rerun this cell to show the HTML representation or trust the notebook. <br />On GitHub, the HTML representation is unable to render, please try loading this page with nbviewer.org.</b></div><div class=\"sk-container\" hidden><div class=\"sk-item sk-dashed-wrapped\"><div class=\"sk-label-container\"><div class=\"sk-label sk-toggleable\"><input class=\"sk-toggleable__control sk-hidden--visually\" id=\"sk-estimator-id-4\" type=\"checkbox\" ><label for=\"sk-estimator-id-4\" class=\"sk-toggleable__label sk-toggleable__label-arrow\">RandomizedSearchCV</label><div class=\"sk-toggleable__content\"><pre>RandomizedSearchCV(cv=15, estimator=LogisticRegression(max_iter=300), n_iter=20,\n",
       "                   param_distributions={&#x27;C&#x27;: &lt;scipy.stats._distn_infrastructure.rv_continuous_frozen object at 0x7fd4abec9cf0&gt;,\n",
       "                                        &#x27;fit_intercept&#x27;: [True, False],\n",
       "                                        &#x27;penalty&#x27;: [&#x27;l2&#x27;, &#x27;l1&#x27;],\n",
       "                                        &#x27;tol&#x27;: [0.1, 0.01, 0.001, 0.0001,\n",
       "                                                1e-05]},\n",
       "                   scoring=&#x27;roc_auc&#x27;)</pre></div></div></div><div class=\"sk-parallel\"><div class=\"sk-parallel-item\"><div class=\"sk-item\"><div class=\"sk-label-container\"><div class=\"sk-label sk-toggleable\"><input class=\"sk-toggleable__control sk-hidden--visually\" id=\"sk-estimator-id-5\" type=\"checkbox\" ><label for=\"sk-estimator-id-5\" class=\"sk-toggleable__label sk-toggleable__label-arrow\">estimator: LogisticRegression</label><div class=\"sk-toggleable__content\"><pre>LogisticRegression(max_iter=300)</pre></div></div></div><div class=\"sk-serial\"><div class=\"sk-item\"><div class=\"sk-estimator sk-toggleable\"><input class=\"sk-toggleable__control sk-hidden--visually\" id=\"sk-estimator-id-6\" type=\"checkbox\" ><label for=\"sk-estimator-id-6\" class=\"sk-toggleable__label sk-toggleable__label-arrow\">LogisticRegression</label><div class=\"sk-toggleable__content\"><pre>LogisticRegression(max_iter=300)</pre></div></div></div></div></div></div></div></div></div></div>"
      ],
      "text/plain": [
       "RandomizedSearchCV(cv=15, estimator=LogisticRegression(max_iter=300), n_iter=20,\n",
       "                   param_distributions={'C': <scipy.stats._distn_infrastructure.rv_continuous_frozen object at 0x7fd4abec9cf0>,\n",
       "                                        'fit_intercept': [True, False],\n",
       "                                        'penalty': ['l2', 'l1'],\n",
       "                                        'tol': [0.1, 0.01, 0.001, 0.0001,\n",
       "                                                1e-05]},\n",
       "                   scoring='roc_auc')"
      ]
     },
     "execution_count": 49,
     "metadata": {},
     "output_type": "execute_result"
    }
   ],
   "source": [
    "curr_search.fit(x_prepared_NV, y_tr_N)"
   ]
  },
  {
   "cell_type": "code",
   "execution_count": 50,
   "id": "fb86e65a",
   "metadata": {},
   "outputs": [
    {
     "name": "stdout",
     "output_type": "stream",
     "text": [
      "Best params: {'C': 1.5791593743901453, 'fit_intercept': False, 'penalty': 'l2', 'tol': 0.01}\n",
      "Best score: 0.8935208333333334\n",
      "Best pipeline: LogisticRegression(C=1.5791593743901453, fit_intercept=False, max_iter=300,\n",
      "                   tol=0.01)\n",
      "Index of best pipeline: 18\n"
     ]
    },
    {
     "data": {
      "text/html": [
       "<div>\n",
       "<style scoped>\n",
       "    .dataframe tbody tr th:only-of-type {\n",
       "        vertical-align: middle;\n",
       "    }\n",
       "\n",
       "    .dataframe tbody tr th {\n",
       "        vertical-align: top;\n",
       "    }\n",
       "\n",
       "    .dataframe thead th {\n",
       "        text-align: right;\n",
       "    }\n",
       "</style>\n",
       "<table border=\"1\" class=\"dataframe\">\n",
       "  <thead>\n",
       "    <tr style=\"text-align: right;\">\n",
       "      <th></th>\n",
       "      <th>mean_fit_time</th>\n",
       "      <th>std_fit_time</th>\n",
       "      <th>mean_score_time</th>\n",
       "      <th>std_score_time</th>\n",
       "      <th>param_C</th>\n",
       "      <th>param_fit_intercept</th>\n",
       "      <th>param_penalty</th>\n",
       "      <th>param_tol</th>\n",
       "      <th>params</th>\n",
       "      <th>split0_test_score</th>\n",
       "      <th>...</th>\n",
       "      <th>split8_test_score</th>\n",
       "      <th>split9_test_score</th>\n",
       "      <th>split10_test_score</th>\n",
       "      <th>split11_test_score</th>\n",
       "      <th>split12_test_score</th>\n",
       "      <th>split13_test_score</th>\n",
       "      <th>split14_test_score</th>\n",
       "      <th>mean_test_score</th>\n",
       "      <th>std_test_score</th>\n",
       "      <th>rank_test_score</th>\n",
       "    </tr>\n",
       "  </thead>\n",
       "  <tbody>\n",
       "    <tr>\n",
       "      <th>0</th>\n",
       "      <td>0.006247</td>\n",
       "      <td>0.002027</td>\n",
       "      <td>0.000000</td>\n",
       "      <td>0.000000</td>\n",
       "      <td>1.197304</td>\n",
       "      <td>False</td>\n",
       "      <td>l1</td>\n",
       "      <td>0.1</td>\n",
       "      <td>{'C': 1.1973040276375166, 'fit_intercept': Fal...</td>\n",
       "      <td>NaN</td>\n",
       "      <td>...</td>\n",
       "      <td>NaN</td>\n",
       "      <td>NaN</td>\n",
       "      <td>NaN</td>\n",
       "      <td>NaN</td>\n",
       "      <td>NaN</td>\n",
       "      <td>NaN</td>\n",
       "      <td>NaN</td>\n",
       "      <td>NaN</td>\n",
       "      <td>NaN</td>\n",
       "      <td>12</td>\n",
       "    </tr>\n",
       "    <tr>\n",
       "      <th>1</th>\n",
       "      <td>0.024632</td>\n",
       "      <td>0.003825</td>\n",
       "      <td>0.001977</td>\n",
       "      <td>0.000300</td>\n",
       "      <td>0.005273</td>\n",
       "      <td>False</td>\n",
       "      <td>l2</td>\n",
       "      <td>0.1</td>\n",
       "      <td>{'C': 0.0052731106174940135, 'fit_intercept': ...</td>\n",
       "      <td>0.877969</td>\n",
       "      <td>...</td>\n",
       "      <td>0.854375</td>\n",
       "      <td>0.801328</td>\n",
       "      <td>0.867500</td>\n",
       "      <td>0.810156</td>\n",
       "      <td>0.859844</td>\n",
       "      <td>0.921562</td>\n",
       "      <td>0.833906</td>\n",
       "      <td>0.847938</td>\n",
       "      <td>0.048676</td>\n",
       "      <td>10</td>\n",
       "    </tr>\n",
       "    <tr>\n",
       "      <th>2</th>\n",
       "      <td>0.235654</td>\n",
       "      <td>0.029765</td>\n",
       "      <td>0.003291</td>\n",
       "      <td>0.001909</td>\n",
       "      <td>23.327015</td>\n",
       "      <td>False</td>\n",
       "      <td>l2</td>\n",
       "      <td>0.00001</td>\n",
       "      <td>{'C': 23.327015042770334, 'fit_intercept': Fal...</td>\n",
       "      <td>0.901250</td>\n",
       "      <td>...</td>\n",
       "      <td>0.868125</td>\n",
       "      <td>0.792422</td>\n",
       "      <td>0.859063</td>\n",
       "      <td>0.860781</td>\n",
       "      <td>0.883438</td>\n",
       "      <td>0.915313</td>\n",
       "      <td>0.899531</td>\n",
       "      <td>0.876083</td>\n",
       "      <td>0.036632</td>\n",
       "      <td>4</td>\n",
       "    </tr>\n",
       "    <tr>\n",
       "      <th>3</th>\n",
       "      <td>0.182338</td>\n",
       "      <td>0.010661</td>\n",
       "      <td>0.002216</td>\n",
       "      <td>0.000357</td>\n",
       "      <td>12.877865</td>\n",
       "      <td>False</td>\n",
       "      <td>l2</td>\n",
       "      <td>0.00001</td>\n",
       "      <td>{'C': 12.87786544417333, 'fit_intercept': Fals...</td>\n",
       "      <td>0.907656</td>\n",
       "      <td>...</td>\n",
       "      <td>0.871563</td>\n",
       "      <td>0.800078</td>\n",
       "      <td>0.865938</td>\n",
       "      <td>0.865625</td>\n",
       "      <td>0.889062</td>\n",
       "      <td>0.919531</td>\n",
       "      <td>0.902344</td>\n",
       "      <td>0.881833</td>\n",
       "      <td>0.035991</td>\n",
       "      <td>3</td>\n",
       "    </tr>\n",
       "    <tr>\n",
       "      <th>4</th>\n",
       "      <td>0.006108</td>\n",
       "      <td>0.000618</td>\n",
       "      <td>0.000000</td>\n",
       "      <td>0.000000</td>\n",
       "      <td>2.608202</td>\n",
       "      <td>False</td>\n",
       "      <td>l1</td>\n",
       "      <td>0.1</td>\n",
       "      <td>{'C': 2.6082020846697724, 'fit_intercept': Fal...</td>\n",
       "      <td>NaN</td>\n",
       "      <td>...</td>\n",
       "      <td>NaN</td>\n",
       "      <td>NaN</td>\n",
       "      <td>NaN</td>\n",
       "      <td>NaN</td>\n",
       "      <td>NaN</td>\n",
       "      <td>NaN</td>\n",
       "      <td>NaN</td>\n",
       "      <td>NaN</td>\n",
       "      <td>NaN</td>\n",
       "      <td>12</td>\n",
       "    </tr>\n",
       "    <tr>\n",
       "      <th>5</th>\n",
       "      <td>0.005830</td>\n",
       "      <td>0.000290</td>\n",
       "      <td>0.000000</td>\n",
       "      <td>0.000000</td>\n",
       "      <td>0.119078</td>\n",
       "      <td>False</td>\n",
       "      <td>l1</td>\n",
       "      <td>0.1</td>\n",
       "      <td>{'C': 0.11907839372328827, 'fit_intercept': Fa...</td>\n",
       "      <td>NaN</td>\n",
       "      <td>...</td>\n",
       "      <td>NaN</td>\n",
       "      <td>NaN</td>\n",
       "      <td>NaN</td>\n",
       "      <td>NaN</td>\n",
       "      <td>NaN</td>\n",
       "      <td>NaN</td>\n",
       "      <td>NaN</td>\n",
       "      <td>NaN</td>\n",
       "      <td>NaN</td>\n",
       "      <td>12</td>\n",
       "    </tr>\n",
       "    <tr>\n",
       "      <th>6</th>\n",
       "      <td>0.791352</td>\n",
       "      <td>0.114710</td>\n",
       "      <td>0.002505</td>\n",
       "      <td>0.000503</td>\n",
       "      <td>963.347797</td>\n",
       "      <td>True</td>\n",
       "      <td>l2</td>\n",
       "      <td>0.0001</td>\n",
       "      <td>{'C': 963.3477967347928, 'fit_intercept': True...</td>\n",
       "      <td>0.873906</td>\n",
       "      <td>...</td>\n",
       "      <td>0.852344</td>\n",
       "      <td>0.765234</td>\n",
       "      <td>0.841250</td>\n",
       "      <td>0.828438</td>\n",
       "      <td>0.860156</td>\n",
       "      <td>0.894375</td>\n",
       "      <td>0.875469</td>\n",
       "      <td>0.849823</td>\n",
       "      <td>0.040584</td>\n",
       "      <td>9</td>\n",
       "    </tr>\n",
       "    <tr>\n",
       "      <th>7</th>\n",
       "      <td>0.032491</td>\n",
       "      <td>0.003212</td>\n",
       "      <td>0.002076</td>\n",
       "      <td>0.000430</td>\n",
       "      <td>0.002029</td>\n",
       "      <td>True</td>\n",
       "      <td>l2</td>\n",
       "      <td>0.0001</td>\n",
       "      <td>{'C': 0.002028598799256797, 'fit_intercept': T...</td>\n",
       "      <td>0.872969</td>\n",
       "      <td>...</td>\n",
       "      <td>0.856406</td>\n",
       "      <td>0.800078</td>\n",
       "      <td>0.864531</td>\n",
       "      <td>0.806094</td>\n",
       "      <td>0.856563</td>\n",
       "      <td>0.915000</td>\n",
       "      <td>0.831094</td>\n",
       "      <td>0.844344</td>\n",
       "      <td>0.048478</td>\n",
       "      <td>11</td>\n",
       "    </tr>\n",
       "    <tr>\n",
       "      <th>8</th>\n",
       "      <td>0.006155</td>\n",
       "      <td>0.000386</td>\n",
       "      <td>0.000000</td>\n",
       "      <td>0.000000</td>\n",
       "      <td>362.638153</td>\n",
       "      <td>True</td>\n",
       "      <td>l1</td>\n",
       "      <td>0.01</td>\n",
       "      <td>{'C': 362.6381528529944, 'fit_intercept': True...</td>\n",
       "      <td>NaN</td>\n",
       "      <td>...</td>\n",
       "      <td>NaN</td>\n",
       "      <td>NaN</td>\n",
       "      <td>NaN</td>\n",
       "      <td>NaN</td>\n",
       "      <td>NaN</td>\n",
       "      <td>NaN</td>\n",
       "      <td>NaN</td>\n",
       "      <td>NaN</td>\n",
       "      <td>NaN</td>\n",
       "      <td>12</td>\n",
       "    </tr>\n",
       "    <tr>\n",
       "      <th>9</th>\n",
       "      <td>0.104376</td>\n",
       "      <td>0.008372</td>\n",
       "      <td>0.002248</td>\n",
       "      <td>0.000454</td>\n",
       "      <td>0.658522</td>\n",
       "      <td>True</td>\n",
       "      <td>l2</td>\n",
       "      <td>0.00001</td>\n",
       "      <td>{'C': 0.6585215579447987, 'fit_intercept': Tru...</td>\n",
       "      <td>0.919844</td>\n",
       "      <td>...</td>\n",
       "      <td>0.880156</td>\n",
       "      <td>0.825391</td>\n",
       "      <td>0.890469</td>\n",
       "      <td>0.857344</td>\n",
       "      <td>0.901875</td>\n",
       "      <td>0.942969</td>\n",
       "      <td>0.898438</td>\n",
       "      <td>0.892719</td>\n",
       "      <td>0.036377</td>\n",
       "      <td>2</td>\n",
       "    </tr>\n",
       "    <tr>\n",
       "      <th>10</th>\n",
       "      <td>0.006100</td>\n",
       "      <td>0.000374</td>\n",
       "      <td>0.000000</td>\n",
       "      <td>0.000000</td>\n",
       "      <td>0.645632</td>\n",
       "      <td>False</td>\n",
       "      <td>l1</td>\n",
       "      <td>0.01</td>\n",
       "      <td>{'C': 0.645632232785396, 'fit_intercept': Fals...</td>\n",
       "      <td>NaN</td>\n",
       "      <td>...</td>\n",
       "      <td>NaN</td>\n",
       "      <td>NaN</td>\n",
       "      <td>NaN</td>\n",
       "      <td>NaN</td>\n",
       "      <td>NaN</td>\n",
       "      <td>NaN</td>\n",
       "      <td>NaN</td>\n",
       "      <td>NaN</td>\n",
       "      <td>NaN</td>\n",
       "      <td>12</td>\n",
       "    </tr>\n",
       "    <tr>\n",
       "      <th>11</th>\n",
       "      <td>0.041136</td>\n",
       "      <td>0.001966</td>\n",
       "      <td>0.001891</td>\n",
       "      <td>0.000070</td>\n",
       "      <td>0.054438</td>\n",
       "      <td>True</td>\n",
       "      <td>l2</td>\n",
       "      <td>0.01</td>\n",
       "      <td>{'C': 0.05443843626610211, 'fit_intercept': Tr...</td>\n",
       "      <td>0.895312</td>\n",
       "      <td>...</td>\n",
       "      <td>0.856094</td>\n",
       "      <td>0.812266</td>\n",
       "      <td>0.877188</td>\n",
       "      <td>0.827500</td>\n",
       "      <td>0.882656</td>\n",
       "      <td>0.943125</td>\n",
       "      <td>0.859063</td>\n",
       "      <td>0.869708</td>\n",
       "      <td>0.046516</td>\n",
       "      <td>5</td>\n",
       "    </tr>\n",
       "    <tr>\n",
       "      <th>12</th>\n",
       "      <td>0.006170</td>\n",
       "      <td>0.000278</td>\n",
       "      <td>0.000000</td>\n",
       "      <td>0.000000</td>\n",
       "      <td>0.003341</td>\n",
       "      <td>False</td>\n",
       "      <td>l1</td>\n",
       "      <td>0.00001</td>\n",
       "      <td>{'C': 0.003340847115578652, 'fit_intercept': F...</td>\n",
       "      <td>NaN</td>\n",
       "      <td>...</td>\n",
       "      <td>NaN</td>\n",
       "      <td>NaN</td>\n",
       "      <td>NaN</td>\n",
       "      <td>NaN</td>\n",
       "      <td>NaN</td>\n",
       "      <td>NaN</td>\n",
       "      <td>NaN</td>\n",
       "      <td>NaN</td>\n",
       "      <td>NaN</td>\n",
       "      <td>12</td>\n",
       "    </tr>\n",
       "    <tr>\n",
       "      <th>13</th>\n",
       "      <td>0.006636</td>\n",
       "      <td>0.001265</td>\n",
       "      <td>0.000000</td>\n",
       "      <td>0.000000</td>\n",
       "      <td>301.261692</td>\n",
       "      <td>True</td>\n",
       "      <td>l1</td>\n",
       "      <td>0.001</td>\n",
       "      <td>{'C': 301.2616922408217, 'fit_intercept': True...</td>\n",
       "      <td>NaN</td>\n",
       "      <td>...</td>\n",
       "      <td>NaN</td>\n",
       "      <td>NaN</td>\n",
       "      <td>NaN</td>\n",
       "      <td>NaN</td>\n",
       "      <td>NaN</td>\n",
       "      <td>NaN</td>\n",
       "      <td>NaN</td>\n",
       "      <td>NaN</td>\n",
       "      <td>NaN</td>\n",
       "      <td>12</td>\n",
       "    </tr>\n",
       "    <tr>\n",
       "      <th>14</th>\n",
       "      <td>0.006286</td>\n",
       "      <td>0.000219</td>\n",
       "      <td>0.000000</td>\n",
       "      <td>0.000000</td>\n",
       "      <td>107.167029</td>\n",
       "      <td>False</td>\n",
       "      <td>l1</td>\n",
       "      <td>0.00001</td>\n",
       "      <td>{'C': 107.1670289782288, 'fit_intercept': Fals...</td>\n",
       "      <td>NaN</td>\n",
       "      <td>...</td>\n",
       "      <td>NaN</td>\n",
       "      <td>NaN</td>\n",
       "      <td>NaN</td>\n",
       "      <td>NaN</td>\n",
       "      <td>NaN</td>\n",
       "      <td>NaN</td>\n",
       "      <td>NaN</td>\n",
       "      <td>NaN</td>\n",
       "      <td>NaN</td>\n",
       "      <td>12</td>\n",
       "    </tr>\n",
       "    <tr>\n",
       "      <th>15</th>\n",
       "      <td>0.598051</td>\n",
       "      <td>0.081326</td>\n",
       "      <td>0.002567</td>\n",
       "      <td>0.000532</td>\n",
       "      <td>289.495478</td>\n",
       "      <td>True</td>\n",
       "      <td>l2</td>\n",
       "      <td>0.0001</td>\n",
       "      <td>{'C': 289.49547817755257, 'fit_intercept': Tru...</td>\n",
       "      <td>0.881563</td>\n",
       "      <td>...</td>\n",
       "      <td>0.858594</td>\n",
       "      <td>0.771172</td>\n",
       "      <td>0.844062</td>\n",
       "      <td>0.838906</td>\n",
       "      <td>0.864844</td>\n",
       "      <td>0.898594</td>\n",
       "      <td>0.882031</td>\n",
       "      <td>0.856448</td>\n",
       "      <td>0.039408</td>\n",
       "      <td>8</td>\n",
       "    </tr>\n",
       "    <tr>\n",
       "      <th>16</th>\n",
       "      <td>0.007803</td>\n",
       "      <td>0.001498</td>\n",
       "      <td>0.000000</td>\n",
       "      <td>0.000000</td>\n",
       "      <td>0.531514</td>\n",
       "      <td>False</td>\n",
       "      <td>l1</td>\n",
       "      <td>0.00001</td>\n",
       "      <td>{'C': 0.5315142551907748, 'fit_intercept': Fal...</td>\n",
       "      <td>NaN</td>\n",
       "      <td>...</td>\n",
       "      <td>NaN</td>\n",
       "      <td>NaN</td>\n",
       "      <td>NaN</td>\n",
       "      <td>NaN</td>\n",
       "      <td>NaN</td>\n",
       "      <td>NaN</td>\n",
       "      <td>NaN</td>\n",
       "      <td>NaN</td>\n",
       "      <td>NaN</td>\n",
       "      <td>12</td>\n",
       "    </tr>\n",
       "    <tr>\n",
       "      <th>17</th>\n",
       "      <td>0.040707</td>\n",
       "      <td>0.001367</td>\n",
       "      <td>0.001964</td>\n",
       "      <td>0.000125</td>\n",
       "      <td>0.05414</td>\n",
       "      <td>False</td>\n",
       "      <td>l2</td>\n",
       "      <td>0.001</td>\n",
       "      <td>{'C': 0.05414018563656972, 'fit_intercept': Fa...</td>\n",
       "      <td>0.895625</td>\n",
       "      <td>...</td>\n",
       "      <td>0.857031</td>\n",
       "      <td>0.813672</td>\n",
       "      <td>0.878906</td>\n",
       "      <td>0.826719</td>\n",
       "      <td>0.882188</td>\n",
       "      <td>0.942656</td>\n",
       "      <td>0.857969</td>\n",
       "      <td>0.869229</td>\n",
       "      <td>0.046341</td>\n",
       "      <td>6</td>\n",
       "    </tr>\n",
       "    <tr>\n",
       "      <th>18</th>\n",
       "      <td>0.077097</td>\n",
       "      <td>0.004843</td>\n",
       "      <td>0.002019</td>\n",
       "      <td>0.000346</td>\n",
       "      <td>1.579159</td>\n",
       "      <td>False</td>\n",
       "      <td>l2</td>\n",
       "      <td>0.01</td>\n",
       "      <td>{'C': 1.5791593743901453, 'fit_intercept': Fal...</td>\n",
       "      <td>0.923438</td>\n",
       "      <td>...</td>\n",
       "      <td>0.883125</td>\n",
       "      <td>0.823047</td>\n",
       "      <td>0.888125</td>\n",
       "      <td>0.862969</td>\n",
       "      <td>0.905469</td>\n",
       "      <td>0.938438</td>\n",
       "      <td>0.900156</td>\n",
       "      <td>0.893521</td>\n",
       "      <td>0.035365</td>\n",
       "      <td>1</td>\n",
       "    </tr>\n",
       "    <tr>\n",
       "      <th>19</th>\n",
       "      <td>0.399288</td>\n",
       "      <td>0.031390</td>\n",
       "      <td>0.001965</td>\n",
       "      <td>0.000095</td>\n",
       "      <td>193.427325</td>\n",
       "      <td>True</td>\n",
       "      <td>l2</td>\n",
       "      <td>0.001</td>\n",
       "      <td>{'C': 193.42732469233366, 'fit_intercept': Tru...</td>\n",
       "      <td>0.885000</td>\n",
       "      <td>...</td>\n",
       "      <td>0.860156</td>\n",
       "      <td>0.772891</td>\n",
       "      <td>0.845781</td>\n",
       "      <td>0.843437</td>\n",
       "      <td>0.866719</td>\n",
       "      <td>0.899375</td>\n",
       "      <td>0.885313</td>\n",
       "      <td>0.859219</td>\n",
       "      <td>0.039091</td>\n",
       "      <td>7</td>\n",
       "    </tr>\n",
       "  </tbody>\n",
       "</table>\n",
       "<p>20 rows × 27 columns</p>\n",
       "</div>"
      ],
      "text/plain": [
       "    mean_fit_time  std_fit_time  mean_score_time  std_score_time     param_C  \\\n",
       "0        0.006247      0.002027         0.000000        0.000000    1.197304   \n",
       "1        0.024632      0.003825         0.001977        0.000300    0.005273   \n",
       "2        0.235654      0.029765         0.003291        0.001909   23.327015   \n",
       "3        0.182338      0.010661         0.002216        0.000357   12.877865   \n",
       "4        0.006108      0.000618         0.000000        0.000000    2.608202   \n",
       "5        0.005830      0.000290         0.000000        0.000000    0.119078   \n",
       "6        0.791352      0.114710         0.002505        0.000503  963.347797   \n",
       "7        0.032491      0.003212         0.002076        0.000430    0.002029   \n",
       "8        0.006155      0.000386         0.000000        0.000000  362.638153   \n",
       "9        0.104376      0.008372         0.002248        0.000454    0.658522   \n",
       "10       0.006100      0.000374         0.000000        0.000000    0.645632   \n",
       "11       0.041136      0.001966         0.001891        0.000070    0.054438   \n",
       "12       0.006170      0.000278         0.000000        0.000000    0.003341   \n",
       "13       0.006636      0.001265         0.000000        0.000000  301.261692   \n",
       "14       0.006286      0.000219         0.000000        0.000000  107.167029   \n",
       "15       0.598051      0.081326         0.002567        0.000532  289.495478   \n",
       "16       0.007803      0.001498         0.000000        0.000000    0.531514   \n",
       "17       0.040707      0.001367         0.001964        0.000125     0.05414   \n",
       "18       0.077097      0.004843         0.002019        0.000346    1.579159   \n",
       "19       0.399288      0.031390         0.001965        0.000095  193.427325   \n",
       "\n",
       "   param_fit_intercept param_penalty param_tol  \\\n",
       "0                False            l1       0.1   \n",
       "1                False            l2       0.1   \n",
       "2                False            l2   0.00001   \n",
       "3                False            l2   0.00001   \n",
       "4                False            l1       0.1   \n",
       "5                False            l1       0.1   \n",
       "6                 True            l2    0.0001   \n",
       "7                 True            l2    0.0001   \n",
       "8                 True            l1      0.01   \n",
       "9                 True            l2   0.00001   \n",
       "10               False            l1      0.01   \n",
       "11                True            l2      0.01   \n",
       "12               False            l1   0.00001   \n",
       "13                True            l1     0.001   \n",
       "14               False            l1   0.00001   \n",
       "15                True            l2    0.0001   \n",
       "16               False            l1   0.00001   \n",
       "17               False            l2     0.001   \n",
       "18               False            l2      0.01   \n",
       "19                True            l2     0.001   \n",
       "\n",
       "                                               params  split0_test_score  ...  \\\n",
       "0   {'C': 1.1973040276375166, 'fit_intercept': Fal...                NaN  ...   \n",
       "1   {'C': 0.0052731106174940135, 'fit_intercept': ...           0.877969  ...   \n",
       "2   {'C': 23.327015042770334, 'fit_intercept': Fal...           0.901250  ...   \n",
       "3   {'C': 12.87786544417333, 'fit_intercept': Fals...           0.907656  ...   \n",
       "4   {'C': 2.6082020846697724, 'fit_intercept': Fal...                NaN  ...   \n",
       "5   {'C': 0.11907839372328827, 'fit_intercept': Fa...                NaN  ...   \n",
       "6   {'C': 963.3477967347928, 'fit_intercept': True...           0.873906  ...   \n",
       "7   {'C': 0.002028598799256797, 'fit_intercept': T...           0.872969  ...   \n",
       "8   {'C': 362.6381528529944, 'fit_intercept': True...                NaN  ...   \n",
       "9   {'C': 0.6585215579447987, 'fit_intercept': Tru...           0.919844  ...   \n",
       "10  {'C': 0.645632232785396, 'fit_intercept': Fals...                NaN  ...   \n",
       "11  {'C': 0.05443843626610211, 'fit_intercept': Tr...           0.895312  ...   \n",
       "12  {'C': 0.003340847115578652, 'fit_intercept': F...                NaN  ...   \n",
       "13  {'C': 301.2616922408217, 'fit_intercept': True...                NaN  ...   \n",
       "14  {'C': 107.1670289782288, 'fit_intercept': Fals...                NaN  ...   \n",
       "15  {'C': 289.49547817755257, 'fit_intercept': Tru...           0.881563  ...   \n",
       "16  {'C': 0.5315142551907748, 'fit_intercept': Fal...                NaN  ...   \n",
       "17  {'C': 0.05414018563656972, 'fit_intercept': Fa...           0.895625  ...   \n",
       "18  {'C': 1.5791593743901453, 'fit_intercept': Fal...           0.923438  ...   \n",
       "19  {'C': 193.42732469233366, 'fit_intercept': Tru...           0.885000  ...   \n",
       "\n",
       "    split8_test_score  split9_test_score  split10_test_score  \\\n",
       "0                 NaN                NaN                 NaN   \n",
       "1            0.854375           0.801328            0.867500   \n",
       "2            0.868125           0.792422            0.859063   \n",
       "3            0.871563           0.800078            0.865938   \n",
       "4                 NaN                NaN                 NaN   \n",
       "5                 NaN                NaN                 NaN   \n",
       "6            0.852344           0.765234            0.841250   \n",
       "7            0.856406           0.800078            0.864531   \n",
       "8                 NaN                NaN                 NaN   \n",
       "9            0.880156           0.825391            0.890469   \n",
       "10                NaN                NaN                 NaN   \n",
       "11           0.856094           0.812266            0.877188   \n",
       "12                NaN                NaN                 NaN   \n",
       "13                NaN                NaN                 NaN   \n",
       "14                NaN                NaN                 NaN   \n",
       "15           0.858594           0.771172            0.844062   \n",
       "16                NaN                NaN                 NaN   \n",
       "17           0.857031           0.813672            0.878906   \n",
       "18           0.883125           0.823047            0.888125   \n",
       "19           0.860156           0.772891            0.845781   \n",
       "\n",
       "    split11_test_score  split12_test_score  split13_test_score  \\\n",
       "0                  NaN                 NaN                 NaN   \n",
       "1             0.810156            0.859844            0.921562   \n",
       "2             0.860781            0.883438            0.915313   \n",
       "3             0.865625            0.889062            0.919531   \n",
       "4                  NaN                 NaN                 NaN   \n",
       "5                  NaN                 NaN                 NaN   \n",
       "6             0.828438            0.860156            0.894375   \n",
       "7             0.806094            0.856563            0.915000   \n",
       "8                  NaN                 NaN                 NaN   \n",
       "9             0.857344            0.901875            0.942969   \n",
       "10                 NaN                 NaN                 NaN   \n",
       "11            0.827500            0.882656            0.943125   \n",
       "12                 NaN                 NaN                 NaN   \n",
       "13                 NaN                 NaN                 NaN   \n",
       "14                 NaN                 NaN                 NaN   \n",
       "15            0.838906            0.864844            0.898594   \n",
       "16                 NaN                 NaN                 NaN   \n",
       "17            0.826719            0.882188            0.942656   \n",
       "18            0.862969            0.905469            0.938438   \n",
       "19            0.843437            0.866719            0.899375   \n",
       "\n",
       "    split14_test_score  mean_test_score  std_test_score  rank_test_score  \n",
       "0                  NaN              NaN             NaN               12  \n",
       "1             0.833906         0.847938        0.048676               10  \n",
       "2             0.899531         0.876083        0.036632                4  \n",
       "3             0.902344         0.881833        0.035991                3  \n",
       "4                  NaN              NaN             NaN               12  \n",
       "5                  NaN              NaN             NaN               12  \n",
       "6             0.875469         0.849823        0.040584                9  \n",
       "7             0.831094         0.844344        0.048478               11  \n",
       "8                  NaN              NaN             NaN               12  \n",
       "9             0.898438         0.892719        0.036377                2  \n",
       "10                 NaN              NaN             NaN               12  \n",
       "11            0.859063         0.869708        0.046516                5  \n",
       "12                 NaN              NaN             NaN               12  \n",
       "13                 NaN              NaN             NaN               12  \n",
       "14                 NaN              NaN             NaN               12  \n",
       "15            0.882031         0.856448        0.039408                8  \n",
       "16                 NaN              NaN             NaN               12  \n",
       "17            0.857969         0.869229        0.046341                6  \n",
       "18            0.900156         0.893521        0.035365                1  \n",
       "19            0.885313         0.859219        0.039091                7  \n",
       "\n",
       "[20 rows x 27 columns]"
      ]
     },
     "execution_count": 50,
     "metadata": {},
     "output_type": "execute_result"
    }
   ],
   "source": [
    "print('Best params:', curr_search.best_params_)\n",
    "print('Best score:', curr_search.best_score_)\n",
    "print('Best pipeline:', curr_search.best_estimator_)\n",
    "print('Index of best pipeline:', curr_search.best_index_)\n",
    "results=pd.DataFrame(curr_search.cv_results_)\n",
    "results #see results of test"
   ]
  },
  {
   "cell_type": "code",
   "execution_count": 227,
   "id": "f15870d7",
   "metadata": {},
   "outputs": [],
   "source": [
    "#getting a leaderboard score:\n",
    "x_test_df = pd.read_csv('data_reviews/x_test.csv')\n",
    "test_list_of_sentences = x_test_df['text'].str.cat(sep='\\n')"
   ]
  },
  {
   "cell_type": "code",
   "execution_count": 228,
   "id": "92db3d32",
   "metadata": {},
   "outputs": [],
   "source": [
    "#cleaning test data"
   ]
  },
  {
   "cell_type": "code",
   "execution_count": 229,
   "id": "f1b1c76f",
   "metadata": {},
   "outputs": [],
   "source": [
    "test_list_of_sentences = remove_non_alpha_num(test_list_of_sentences)"
   ]
  },
  {
   "cell_type": "code",
   "execution_count": 245,
   "id": "d6c9a7f8",
   "metadata": {},
   "outputs": [],
   "source": [
    "#test_list_of_sentences = correct_spelling(test_list_of_sentences)"
   ]
  },
  {
   "cell_type": "code",
   "execution_count": 231,
   "id": "d90e178d",
   "metadata": {},
   "outputs": [],
   "source": [
    "test_list_of_sentences = remove_stop_words(test_list_of_sentences, stop_words)"
   ]
  },
  {
   "cell_type": "code",
   "execution_count": 232,
   "id": "47cf2b38",
   "metadata": {},
   "outputs": [],
   "source": [
    "#determining test data size\n",
    "list_of_sentences2 = test_list_of_sentences.split('\\n')\n",
    "Z = len(list_of_sentences2)\n",
    "x_tr_ZV = np.zeros((Z, V))"
   ]
  },
  {
   "cell_type": "code",
   "execution_count": 233,
   "id": "e0165d40",
   "metadata": {},
   "outputs": [],
   "source": [
    "for nn2, raw_text_line2 in enumerate(list_of_sentences2):\n",
    "    x_tr_ZV[nn2] = transform_text_into_feature_vector(raw_text_line2, vocab_dict)"
   ]
  },
  {
   "cell_type": "code",
   "execution_count": 234,
   "id": "0b8352f9",
   "metadata": {},
   "outputs": [],
   "source": [
    "yhat_test_N = curr_search.predict_proba(x_tr_ZV)"
   ]
  },
  {
   "cell_type": "code",
   "execution_count": 235,
   "id": "b71c2e61",
   "metadata": {},
   "outputs": [],
   "source": [
    "np.savetxt(\"yproba1_test.txt\", yhat_test_N[:, 1])"
   ]
  },
  {
   "cell_type": "code",
   "execution_count": null,
   "id": "b3d3fc33",
   "metadata": {},
   "outputs": [],
   "source": []
  },
  {
   "cell_type": "code",
   "execution_count": null,
   "id": "1ff6d33f",
   "metadata": {},
   "outputs": [],
   "source": []
  },
  {
   "cell_type": "code",
   "execution_count": 236,
   "id": "435f5638",
   "metadata": {},
   "outputs": [],
   "source": [
    "train_predictions = curr_search.predict(x_prepared_NV)"
   ]
  },
  {
   "cell_type": "code",
   "execution_count": 242,
   "id": "01e3ae8e",
   "metadata": {},
   "outputs": [],
   "source": [
    "b = ~np.equal(train_predictions, y_tr_N)"
   ]
  },
  {
   "cell_type": "code",
   "execution_count": 243,
   "id": "0f951080",
   "metadata": {},
   "outputs": [
    {
     "name": "stdout",
     "output_type": "stream",
     "text": [
      "[  53   54   69   72   95  104  120  128  156  168  193  204  207  263\n",
      "  266  279  297  304  315  345  348  392  412  451  455  464  466  476\n",
      "  477  491  492  509  510  518  533  546  561  562  564  571  576  579\n",
      "  586  587  595  597  621  653  666  672  682  691  701  703  704  714\n",
      "  750  753  759  760  771  786  797  804  819  854  857  858  870  886\n",
      "  889  890  899  919  924  927  941  945  953  954  967  970  990  991\n",
      "  994  996  998 1002 1013 1016 1033 1055 1065 1066 1073 1087 1096 1121\n",
      " 1124 1125 1126 1135 1136 1139 1169 1171 1198 1199 1227 1229 1233 1235\n",
      " 1236 1237 1244 1265 1281 1285 1294 1296 1301 1309 1320 1324 1327 1333\n",
      " 1336 1347 1348 1354 1366 1373 1383 1426 1434 1438 1440 1451 1452 1456\n",
      " 1459 1464 1465 1472 1493 1498 1514 1515 1523 1529 1534 1538 1539 1542\n",
      " 1549 1563 1568 1583 1584 1586 1596 1613 1618 1632 1637 1639 1640 1641\n",
      " 1642 1655 1666 1669 1678 1686 1688 1692 1706 1730 1733 1739 1755 1759\n",
      " 1768 1772 1796 1817 1832 1834 1859 1881 1929 1961 1978 1989 1993 2001\n",
      " 2023 2024 2052 2054 2058 2066 2095 2097 2102 2104 2108 2117 2120 2121\n",
      " 2126 2135 2171 2180 2193 2206 2217 2236 2249 2254 2276 2282 2283 2313\n",
      " 2324 2340 2361 2362 2374 2378 2387 2396]\n"
     ]
    }
   ],
   "source": [
    "indices = np.flatnonzero(b)\n",
    "print(indices)"
   ]
  },
  {
   "cell_type": "code",
   "execution_count": 52,
   "id": "de07883e",
   "metadata": {},
   "outputs": [
    {
     "data": {
      "text/plain": [
       "'excellent starter wireless headset'"
      ]
     },
     "execution_count": 52,
     "metadata": {},
     "output_type": "execute_result"
    }
   ],
   "source": [
    "reviews_string.split(\"\\n\")[54]"
   ]
  },
  {
   "cell_type": "code",
   "execution_count": 53,
   "id": "af1f6867",
   "metadata": {},
   "outputs": [
    {
     "ename": "NameError",
     "evalue": "name 'train_predictions' is not defined",
     "output_type": "error",
     "traceback": [
      "\u001b[0;31m---------------------------------------------------------------------------\u001b[0m",
      "\u001b[0;31mNameError\u001b[0m                                 Traceback (most recent call last)",
      "Cell \u001b[0;32mIn[53], line 1\u001b[0m\n\u001b[0;32m----> 1\u001b[0m \u001b[43mtrain_predictions\u001b[49m[\u001b[38;5;241m54\u001b[39m]\n",
      "\u001b[0;31mNameError\u001b[0m: name 'train_predictions' is not defined"
     ]
    }
   ],
   "source": [
    "train_predictions[54]"
   ]
  },
  {
   "cell_type": "code",
   "execution_count": null,
   "id": "b291df0c",
   "metadata": {},
   "outputs": [],
   "source": []
  }
 ],
 "metadata": {
  "kernelspec": {
   "display_name": "Python 3 (ipykernel)",
   "language": "python",
   "name": "python3"
  },
  "language_info": {
   "codemirror_mode": {
    "name": "ipython",
    "version": 3
   },
   "file_extension": ".py",
   "mimetype": "text/x-python",
   "name": "python",
   "nbconvert_exporter": "python",
   "pygments_lexer": "ipython3",
   "version": "3.10.12"
  }
 },
 "nbformat": 4,
 "nbformat_minor": 5
}
