{
 "cells": [
  {
   "cell_type": "code",
   "execution_count": 1,
   "id": "d8e42ead",
   "metadata": {},
   "outputs": [],
   "source": [
    "import numpy as np\n",
    "import pandas as pd\n",
    "import os\n",
    "from sklearn.feature_extraction.text import CountVectorizer\n",
    "\n",
    "if __name__ == '__main__':\n",
    "    data_dir = 'data_reviews'\n",
    "    x_train_df = pd.read_csv(os.path.join(data_dir, 'x_train.csv'))\n",
    "    y_train_df = pd.read_csv(os.path.join(data_dir, 'y_train.csv'))"
   ]
  },
  {
   "cell_type": "code",
   "execution_count": 2,
   "id": "7b0b7330",
   "metadata": {},
   "outputs": [],
   "source": [
    "#load data into python\n",
    "x_train_df = pd.read_csv('data_reviews/x_train.csv')\n",
    "#concatenating review to make string processing easier\n",
    "tr_list_of_sentences = x_train_df['text'].str.cat(sep='\\n')\n",
    "#tr_list_of_sentences"
   ]
  },
  {
   "cell_type": "code",
   "execution_count": 3,
   "id": "ee721f8c",
   "metadata": {},
   "outputs": [],
   "source": [
    "#interesting model stuff\n",
    "import sklearn\n",
    "from sklearn.model_selection import RandomizedSearchCV\n",
    "from sklearn.model_selection import GridSearchCV\n",
    "from scipy.stats import loguniform\n",
    "from sklearn.pipeline import Pipeline\n",
    "from sklearn.linear_model import LogisticRegression"
   ]
  },
  {
   "cell_type": "code",
   "execution_count": 4,
   "id": "20902d5d",
   "metadata": {},
   "outputs": [],
   "source": [
    "y_train_df = pd.read_csv('data_reviews/y_train.csv')\n",
    "y_tr_N = y_train_df.is_positive_sentiment.values.astype(float)"
   ]
  },
  {
   "cell_type": "code",
   "execution_count": null,
   "id": "1a4a8dbf",
   "metadata": {},
   "outputs": [],
   "source": []
  },
  {
   "cell_type": "markdown",
   "id": "719381bf",
   "metadata": {},
   "source": [
    "# Preprocessing"
   ]
  },
  {
   "cell_type": "code",
   "execution_count": 5,
   "id": "ee7c2a73",
   "metadata": {},
   "outputs": [
    {
     "data": {
      "text/plain": [
       "'\\nSteps:\\n1. Remove all non-alpha numeric characters from the string\\n2. Remove stop words\\n3. Correct spelling\\n\\n'"
      ]
     },
     "execution_count": 5,
     "metadata": {},
     "output_type": "execute_result"
    }
   ],
   "source": [
    "'''\n",
    "Steps:\n",
    "1. Remove all non-alpha numeric characters from the string\n",
    "2. Remove stop words\n",
    "3. Correct spelling\n",
    "\n",
    "'''"
   ]
  },
  {
   "cell_type": "code",
   "execution_count": 6,
   "id": "c9ce3af4",
   "metadata": {},
   "outputs": [],
   "source": [
    "#remove all non-alpha numeric characters from the string\n",
    "import re"
   ]
  },
  {
   "cell_type": "code",
   "execution_count": 7,
   "id": "e2f6180a",
   "metadata": {},
   "outputs": [],
   "source": [
    "#using regex to remove non_alphanum\n",
    "def remove_non_alpha_num(reviews_string):\n",
    "    s = re.sub(r'[!]', ' ! ', reviews_string)\n",
    "    s = re.sub(r'[?]', ' ? ', s)\n",
    "    s = re.sub(r'[.]', ' ', s)\n",
    "    s = re.sub(r'[^A-Za-z\\'\\n\\s!?]+', '', s)\n",
    "    s = s.lower()\n",
    "    return s\n",
    "               \n",
    "    \n",
    "    "
   ]
  },
  {
   "cell_type": "code",
   "execution_count": 8,
   "id": "316216c3",
   "metadata": {},
   "outputs": [
    {
     "data": {
      "text/plain": [
       "\"can't do this\""
      ]
     },
     "execution_count": 8,
     "metadata": {},
     "output_type": "execute_result"
    }
   ],
   "source": [
    "#Unit Tests\n",
    "remove_non_alpha_num(\"can't.do this\")\n",
    "#remove_non_alpha_num(\"!?hello *&*^*^\")"
   ]
  },
  {
   "cell_type": "code",
   "execution_count": 9,
   "id": "09187f97",
   "metadata": {},
   "outputs": [],
   "source": [
    "#remove stop words\n",
    "from nltk.tokenize import word_tokenize\n",
    "from nltk.corpus import stopwords\n",
    "from nltk.corpus import wordnet\n"
   ]
  },
  {
   "cell_type": "code",
   "execution_count": 10,
   "id": "ab7cedff",
   "metadata": {},
   "outputs": [],
   "source": [
    "#stop_words"
   ]
  },
  {
   "cell_type": "code",
   "execution_count": 11,
   "id": "53a35b87",
   "metadata": {},
   "outputs": [],
   "source": [
    "stop_words = set(stopwords.words('english'))\n",
    "stop_words = {word.replace(\"'\", '') for word in stop_words}\n",
    "toRemove = {\"not\", \"couldn't\", \"shouldn't\", \"didn't\", \"doesn't\", \"don't\", \"wasn't\", \"wouldn't\", \"won't\", \"again\"}\n",
    "for entry in toRemove:\n",
    "    stop_words.discard(entry)"
   ]
  },
  {
   "cell_type": "code",
   "execution_count": null,
   "id": "344670ce",
   "metadata": {},
   "outputs": [],
   "source": []
  },
  {
   "cell_type": "code",
   "execution_count": 12,
   "id": "20462bdb",
   "metadata": {},
   "outputs": [],
   "source": [
    "#https://www.geeksforgeeks.org/removing-stop-words-nltk-python/\n",
    "def remove_stop_words(reviews_string, remove_words):\n",
    "    reviews_list = reviews_string.split('\\n')\n",
    "    filtered_sentences = []\n",
    "    for review in reviews_list:\n",
    "        r = review.split()\n",
    "        filtered_words = [w for w in r if w not in remove_words]\n",
    "        filtered_sentence = ' '.join(filtered_words)\n",
    "        filtered_sentences.append(filtered_sentence)\n",
    "    \n",
    "    filtered_sentences = '\\n'.join(filtered_sentences)\n",
    "    return filtered_sentences\n",
    "    "
   ]
  },
  {
   "cell_type": "code",
   "execution_count": 13,
   "id": "f3316ba9",
   "metadata": {},
   "outputs": [],
   "source": [
    "\n",
    "#using the approach from lab\n",
    "def tokenize_text(raw_text):\n",
    "    ''' Transform a plain-text string into a list of tokens\n",
    "    \n",
    "    We assume that *whitespace* divides tokens.\n",
    "    \n",
    "    Args\n",
    "    ----\n",
    "    raw_text : string\n",
    "    \n",
    "    Returns\n",
    "    -------\n",
    "    list_of_tokens : list of strings\n",
    "        Each element is one token in the provided text\n",
    "    '''\n",
    "    list_of_tokens = raw_text.split() # split method divides on whitespace by default\n",
    "    for pp in range(len(list_of_tokens)):\n",
    "        cur_token = list_of_tokens[pp]\n",
    "        # Remove punctuation\n",
    "        for punc in ['_', '.', ',', '\"', '/']:\n",
    "            cur_token = cur_token.replace(punc, \"\")\n",
    "        # Turn to lower case\n",
    "        clean_token = cur_token.lower()\n",
    "        # Replace the cleaned token into the original list\n",
    "        list_of_tokens[pp] = clean_token\n",
    "    return list_of_tokens"
   ]
  },
  {
   "cell_type": "code",
   "execution_count": 14,
   "id": "3ba4519d",
   "metadata": {},
   "outputs": [
    {
     "data": {
      "text/plain": [
       "['!']"
      ]
     },
     "execution_count": 14,
     "metadata": {},
     "output_type": "execute_result"
    }
   ],
   "source": [
    "tokenize_text(\" ! \")"
   ]
  },
  {
   "cell_type": "code",
   "execution_count": 15,
   "id": "6fab8fae",
   "metadata": {},
   "outputs": [],
   "source": [
    "from spellchecker import SpellChecker"
   ]
  },
  {
   "cell_type": "code",
   "execution_count": 16,
   "id": "ac0afb0a",
   "metadata": {},
   "outputs": [],
   "source": [
    "#correct spelling\n",
    "#https://pyspellchecker.readthedocs.io/en/latest/\n",
    "def correct_spelling(reviews_string):\n",
    "    reviews_list = reviews_string.split('\\n')\n",
    "    correctly_spelled_sentences = []\n",
    "    \n",
    "    speller = SpellChecker()\n",
    "    \n",
    "    for review in reviews_list:\n",
    "        words = review.split()\n",
    "        correctly_spelled_words = [speller.correction(word) if speller.correction(word) is not None else word for word in words]\n",
    "        correct_sentence = ' '.join(correctly_spelled_words)\n",
    "        correctly_spelled_sentences.append(correct_sentence)\n",
    "    \n",
    "    corrected_reviews_string = '\\n'.join(correctly_spelled_sentences)\n",
    "    return corrected_reviews_string\n"
   ]
  },
  {
   "cell_type": "code",
   "execution_count": 17,
   "id": "76dd5d67",
   "metadata": {},
   "outputs": [],
   "source": [
    "import nltk\n",
    "#nltk.download('averaged_perceptron_tagger')\n",
    "from nltk.stem import WordNetLemmatizer\n",
    "#nltk.download('wordnet')"
   ]
  },
  {
   "cell_type": "code",
   "execution_count": 18,
   "id": "50ef51ed",
   "metadata": {},
   "outputs": [
    {
     "data": {
      "text/plain": [
       "'N'"
      ]
     },
     "execution_count": 18,
     "metadata": {},
     "output_type": "execute_result"
    }
   ],
   "source": [
    "nltk.pos_tag([\"beautiful\"])[0][1][0]"
   ]
  },
  {
   "cell_type": "code",
   "execution_count": 19,
   "id": "99e6d885",
   "metadata": {},
   "outputs": [],
   "source": [
    "#https://www.geeksforgeeks.org/part-speech-tagging-stop-words-using-nltk-python/\n",
    "#nltk.pos_tag([\"hello\"])[0][1][0].lower()\n",
    "def get_pos_tag(word):\n",
    "    word_tag = nltk.pos_tag([word])[0][1][0].lower()\n",
    "    tag_dict = {\"j\": wordnet.ADJ, \"n\": wordnet.NOUN, \"v\": wordnet.VERB, \"r\": wordnet.ADV}\n",
    "    \n",
    "    return tag_dict.get(word_tag, \"n\")\n"
   ]
  },
  {
   "cell_type": "code",
   "execution_count": null,
   "id": "3a4c199d",
   "metadata": {},
   "outputs": [],
   "source": []
  },
  {
   "cell_type": "code",
   "execution_count": null,
   "id": "331eafc8",
   "metadata": {},
   "outputs": [],
   "source": []
  },
  {
   "cell_type": "code",
   "execution_count": 20,
   "id": "9434e01d",
   "metadata": {},
   "outputs": [],
   "source": [
    "def lemmatize_words(reviews_string):\n",
    "    reviews_list = reviews_string.split('\\n')\n",
    "    wnl = WordNetLemmatizer()\n",
    "    \n",
    "    \n",
    "    lemmatized_text = [\" \".join([wnl.lemmatize(word, get_pos_tag(word)) for word in tokenize_text(review)]) for review in reviews_list]\n",
    "    \n",
    "    lemmatized_data = \"\\n\".join(lemmatized_text)\n",
    "    \n",
    "    return lemmatized_data\n",
    "\n"
   ]
  },
  {
   "cell_type": "code",
   "execution_count": null,
   "id": "5fb99fbb",
   "metadata": {},
   "outputs": [],
   "source": []
  },
  {
   "cell_type": "code",
   "execution_count": 21,
   "id": "8d025b0d",
   "metadata": {},
   "outputs": [],
   "source": [
    "#The following code is from the Bag of Words Lab\n",
    "\n",
    "def create_tok_count(list_of_sentences):\n",
    "    \n",
    "    tok_count_dict = dict()\n",
    "\n",
    "    for line in list_of_sentences:\n",
    "        tok_list = tokenize_text(line)\n",
    "        for tok in tok_list:\n",
    "            if tok in tok_count_dict:\n",
    "                tok_count_dict[tok] += 1\n",
    "            else:\n",
    "                tok_count_dict[tok] = 1\n",
    "                    \n",
    "    return tok_count_dict"
   ]
  },
  {
   "cell_type": "code",
   "execution_count": 22,
   "id": "011088e2",
   "metadata": {},
   "outputs": [],
   "source": [
    "import afinn"
   ]
  },
  {
   "cell_type": "code",
   "execution_count": 23,
   "id": "b1dcadba",
   "metadata": {},
   "outputs": [],
   "source": [
    "\n",
    "from afinn import Afinn\n",
    "\n",
    "def determine_sentiment(word):\n",
    "    afinn = Afinn()\n",
    "    score = afinn.score(word)\n",
    "    \n",
    "    if score > 0:\n",
    "        return 1  # Positive sentiment\n",
    "    elif score < 0:\n",
    "        return -1  # Negative sentiment\n",
    "    else:\n",
    "        return 0  # Neutral/Indeterminate sentiment\n",
    "\n"
   ]
  },
  {
   "cell_type": "code",
   "execution_count": 24,
   "id": "85be0956",
   "metadata": {},
   "outputs": [
    {
     "name": "stdout",
     "output_type": "stream",
     "text": [
      "0\n"
     ]
    }
   ],
   "source": [
    "# Example usage\n",
    "word = \"okay\"\n",
    "result = determine_sentiment(word)\n",
    "print(result)  # 1 for positive sentiment"
   ]
  },
  {
   "cell_type": "code",
   "execution_count": 25,
   "id": "9c08d1f0",
   "metadata": {},
   "outputs": [],
   "source": [
    "FREQ_THRESHOLD = 2\n",
    "def build_vocab_list(reviews_string):\n",
    "    list_of_sentences = reviews_string.split('\\n')\n",
    "    \n",
    "    tok_count_dict = create_tok_count(list_of_sentences)\n",
    "    sorted_tokens = list(sorted(tok_count_dict, key=tok_count_dict.get, reverse=True))\n",
    "    \n",
    "    vocab_list = [w for w in sorted_tokens[:] if ((tok_count_dict[w] >= FREQ_THRESHOLD) or (determine_sentiment(w) != 0))]\n",
    "    #vocab_list = [w for w in sorted_tokens[:] if ((tok_count_dict[w] >= FREQ_THRESHOLD))]\n",
    "    \n",
    "    vocab_dict = dict()\n",
    "    for vocab_id, tok in enumerate(vocab_list):\n",
    "        vocab_dict[tok] = vocab_id\n",
    "    \n",
    "    return vocab_dict, len(list_of_sentences), len(vocab_list)\n",
    "    "
   ]
  },
  {
   "cell_type": "code",
   "execution_count": 26,
   "id": "2767db2c",
   "metadata": {},
   "outputs": [],
   "source": [
    "\n",
    "# list_of_sentences = reviews_string.split('\\n')\n",
    "    \n",
    "# tok_count_dict = create_tok_count(list_of_sentences)\n",
    "# sorted_tokens = list(sorted(tok_count_dict, key=tok_count_dict.get, reverse=True))\n",
    "\n",
    "# vocab_list = [w for w in sorted_tokens[:] if tok_count_dict[w] >= FREQ_THRESHOLD]\n",
    "\n",
    "# vocab_dict = dict()\n",
    "# for vocab_id, tok in enumerate(vocab_list):\n",
    "#     vocab_dict[tok] = vocab_id\n",
    "\n",
    "    "
   ]
  },
  {
   "cell_type": "code",
   "execution_count": 27,
   "id": "ed3f9cb1",
   "metadata": {},
   "outputs": [],
   "source": [
    "# tok_count_dict[sorted_tokens[0]]\n",
    "# sorted_tokens[0]"
   ]
  },
  {
   "cell_type": "code",
   "execution_count": 28,
   "id": "e5745a47",
   "metadata": {},
   "outputs": [],
   "source": [
    "def transform_text_into_feature_vector(text, vocab_dict):\n",
    "    ''' Produce count feature vector for provided text\n",
    "    \n",
    "    Args\n",
    "    ----\n",
    "    text : string\n",
    "        A string of raw text, representing a single 'review'\n",
    "    vocab_dict : dict with string keys\n",
    "        If token is in vocabulary, will exist as key in the dict\n",
    "        If token is not in vocabulary, will not be in the dict\n",
    "\n",
    "    Returns\n",
    "    -------\n",
    "    count_V : 1D numpy array, shape (V,) = (n_vocab,)\n",
    "        Count vector, indicating how often each vocab word\n",
    "        appears in the provided text string\n",
    "    '''\n",
    "    V = len(vocab_dict.keys())\n",
    "    count_V = np.zeros(V)\n",
    "    for tok in tokenize_text(text):\n",
    "        if tok in vocab_dict:\n",
    "            vv = vocab_dict[tok]\n",
    "            count_V[vv] += 1\n",
    "    return count_V"
   ]
  },
  {
   "cell_type": "code",
   "execution_count": null,
   "id": "5fb78b93",
   "metadata": {},
   "outputs": [],
   "source": []
  },
  {
   "cell_type": "code",
   "execution_count": 29,
   "id": "beb6b7c1",
   "metadata": {},
   "outputs": [],
   "source": [
    "#DO NOT TOUCH THESE: THEY TAKE A LONG TIME TO RUN"
   ]
  },
  {
   "cell_type": "code",
   "execution_count": 30,
   "id": "242e52b7",
   "metadata": {},
   "outputs": [],
   "source": [
    "def preprocess_string(tr_list_of_sentences):\n",
    "    original_review_string = tr_list_of_sentences\n",
    "    reviews_string = remove_non_alpha_num(tr_list_of_sentences)\n",
    "    reviews_string = correct_spelling(reviews_string)\n",
    "    reviews_string = lemmatize_words(reviews_string)\n",
    "    reviews_string = remove_stop_words(reviews_string, stop_words)\n",
    "    return reviews_string, original_review_string"
   ]
  },
  {
   "cell_type": "code",
   "execution_count": 31,
   "id": "55ebb7fc",
   "metadata": {},
   "outputs": [],
   "source": [
    "\n",
    "reviews_string, original_review_string = preprocess_string(tr_list_of_sentences)"
   ]
  },
  {
   "cell_type": "code",
   "execution_count": 189,
   "id": "8146f2bb",
   "metadata": {},
   "outputs": [],
   "source": [
    "\n",
    "# original_review_string = tr_list_of_sentences\n",
    "# reviews_string = remove_non_alpha_num(tr_list_of_sentences)\n",
    "# reviews_string = correct_spelling(reviews_string)\n",
    "# reviews_string = lemmatize_words(reviews_string)"
   ]
  },
  {
   "cell_type": "code",
   "execution_count": 190,
   "id": "885238cb",
   "metadata": {},
   "outputs": [],
   "source": [
    "# reviews_string = remove_stop_words(reviews_string, stop_words)"
   ]
  },
  {
   "cell_type": "code",
   "execution_count": 191,
   "id": "d7d043a2",
   "metadata": {},
   "outputs": [],
   "source": [
    "#original_review_string = tr_list_of_sentences\n",
    "# reviews_string"
   ]
  },
  {
   "cell_type": "code",
   "execution_count": 192,
   "id": "b8217fcd",
   "metadata": {},
   "outputs": [],
   "source": [
    "#I think I have just improved the text processing. Let's see what models can do for me now"
   ]
  },
  {
   "cell_type": "code",
   "execution_count": null,
   "id": "913f8c55",
   "metadata": {},
   "outputs": [],
   "source": []
  },
  {
   "cell_type": "code",
   "execution_count": 65,
   "id": "03414361",
   "metadata": {},
   "outputs": [],
   "source": [
    "ngram_tuple = (1, 1)"
   ]
  },
  {
   "cell_type": "code",
   "execution_count": 66,
   "id": "81e99d9a",
   "metadata": {},
   "outputs": [],
   "source": [
    "\n",
    "vectorizer = CountVectorizer(ngram_range = ngram_tuple)\n",
    "X = vectorizer.fit_transform(reviews_string.split(\"\\n\"))\n",
    "x_prepared_NV = X.toarray()"
   ]
  },
  {
   "cell_type": "code",
   "execution_count": 67,
   "id": "a6d073d4",
   "metadata": {},
   "outputs": [
    {
     "data": {
      "text/plain": [
       "3620"
      ]
     },
     "execution_count": 67,
     "metadata": {},
     "output_type": "execute_result"
    }
   ],
   "source": [
    "V = x_prepared_NV.shape[1]\n",
    "V"
   ]
  },
  {
   "cell_type": "code",
   "execution_count": null,
   "id": "906f8005",
   "metadata": {},
   "outputs": [],
   "source": []
  },
  {
   "cell_type": "code",
   "execution_count": null,
   "id": "52989e49",
   "metadata": {},
   "outputs": [],
   "source": []
  },
  {
   "cell_type": "code",
   "execution_count": null,
   "id": "2147868b",
   "metadata": {},
   "outputs": [],
   "source": []
  },
  {
   "cell_type": "code",
   "execution_count": 78,
   "id": "17195dd7",
   "metadata": {},
   "outputs": [],
   "source": [
    "vocab_dict, N, V = build_vocab_list(reviews_string)\n",
    "x_prepared_NV = np.zeros((N, V))\n",
    "for nn, raw_text_line in enumerate(reviews_string.split(\"\\n\")):\n",
    "    x_prepared_NV[nn] = transform_text_into_feature_vector(raw_text_line, vocab_dict)"
   ]
  },
  {
   "cell_type": "code",
   "execution_count": null,
   "id": "30df88ab",
   "metadata": {},
   "outputs": [],
   "source": []
  },
  {
   "cell_type": "markdown",
   "id": "1d365119",
   "metadata": {},
   "source": [
    "# Creating Model"
   ]
  },
  {
   "cell_type": "code",
   "execution_count": null,
   "id": "88b78f63",
   "metadata": {},
   "outputs": [],
   "source": []
  },
  {
   "cell_type": "code",
   "execution_count": null,
   "id": "02ae9bed",
   "metadata": {},
   "outputs": [],
   "source": []
  },
  {
   "cell_type": "code",
   "execution_count": null,
   "id": "a30342bf",
   "metadata": {},
   "outputs": [],
   "source": []
  },
  {
   "cell_type": "code",
   "execution_count": null,
   "id": "dacf8a39",
   "metadata": {},
   "outputs": [],
   "source": []
  },
  {
   "cell_type": "code",
   "execution_count": 79,
   "id": "55c0bfba",
   "metadata": {},
   "outputs": [],
   "source": [
    "model = sklearn.linear_model.LogisticRegression(solver='lbfgs', max_iter=300)\n",
    "SEED = 2\n",
    "FOLDS = 15\n"
   ]
  },
  {
   "cell_type": "code",
   "execution_count": null,
   "id": "ab7c6126",
   "metadata": {},
   "outputs": [],
   "source": []
  },
  {
   "cell_type": "code",
   "execution_count": 80,
   "id": "fe8e178e",
   "metadata": {},
   "outputs": [],
   "source": [
    "cRange = loguniform(1e-3, 1e3)\n",
    "tol = [0, 1e-1,1e-2,1e-3,1e-4,1e-5]"
   ]
  },
  {
   "cell_type": "code",
   "execution_count": 81,
   "id": "135dd9c3",
   "metadata": {},
   "outputs": [],
   "source": [
    "#solver 'lbfgs' does not support an l1 penalty\n",
    "distributions = {\n",
    "    'C': cRange,\n",
    "    'penalty': ['l2']\n",
    "    #'tol': tol,\n",
    "    #'fit_intercept': [True, False]\n",
    "}"
   ]
  },
  {
   "cell_type": "code",
   "execution_count": null,
   "id": "418a3c46",
   "metadata": {},
   "outputs": [],
   "source": []
  },
  {
   "cell_type": "code",
   "execution_count": 100,
   "id": "b33aa2a5",
   "metadata": {},
   "outputs": [],
   "source": [
    "curr_search = RandomizedSearchCV(\n",
    "    estimator = model,\n",
    "    param_distributions = distributions,\n",
    "    scoring = 'roc_auc',\n",
    "    cv = FOLDS,\n",
    "    return_train_score = True\n",
    "    \n",
    "    )"
   ]
  },
  {
   "cell_type": "code",
   "execution_count": 101,
   "id": "45765969",
   "metadata": {},
   "outputs": [],
   "source": [
    "import matplotlib\n",
    "import matplotlib.pyplot as plt"
   ]
  },
  {
   "cell_type": "code",
   "execution_count": 102,
   "id": "3ffacf24",
   "metadata": {},
   "outputs": [
    {
     "data": {
      "text/plain": [
       "array([1.00000000e-06, 2.15443469e-05, 4.64158883e-04, 1.00000000e-02,\n",
       "       2.15443469e-01, 4.64158883e+00, 1.00000000e+02, 2.15443469e+03,\n",
       "       4.64158883e+04, 1.00000000e+06])"
      ]
     },
     "execution_count": 102,
     "metadata": {},
     "output_type": "execute_result"
    }
   ],
   "source": [
    "C_grid = np.logspace(-6, 6, 10)\n",
    "C_grid"
   ]
  },
  {
   "cell_type": "code",
   "execution_count": null,
   "id": "8895496d",
   "metadata": {},
   "outputs": [],
   "source": []
  },
  {
   "cell_type": "code",
   "execution_count": null,
   "id": "24936a14",
   "metadata": {},
   "outputs": [],
   "source": []
  },
  {
   "cell_type": "code",
   "execution_count": 103,
   "id": "b0de420a",
   "metadata": {},
   "outputs": [],
   "source": [
    "#all of a sudden this takes a really long time, which is frustrating"
   ]
  },
  {
   "cell_type": "code",
   "execution_count": 104,
   "id": "ebface95",
   "metadata": {},
   "outputs": [
    {
     "name": "stderr",
     "output_type": "stream",
     "text": [
      "/Users/liam/micromamba/envs/cs135_env/lib/python3.10/site-packages/sklearn/linear_model/_logistic.py:458: ConvergenceWarning: lbfgs failed to converge (status=1):\n",
      "STOP: TOTAL NO. of ITERATIONS REACHED LIMIT.\n",
      "\n",
      "Increase the number of iterations (max_iter) or scale the data as shown in:\n",
      "    https://scikit-learn.org/stable/modules/preprocessing.html\n",
      "Please also refer to the documentation for alternative solver options:\n",
      "    https://scikit-learn.org/stable/modules/linear_model.html#logistic-regression\n",
      "  n_iter_i = _check_optimize_result(\n",
      "/Users/liam/micromamba/envs/cs135_env/lib/python3.10/site-packages/sklearn/linear_model/_logistic.py:458: ConvergenceWarning: lbfgs failed to converge (status=1):\n",
      "STOP: TOTAL NO. of ITERATIONS REACHED LIMIT.\n",
      "\n",
      "Increase the number of iterations (max_iter) or scale the data as shown in:\n",
      "    https://scikit-learn.org/stable/modules/preprocessing.html\n",
      "Please also refer to the documentation for alternative solver options:\n",
      "    https://scikit-learn.org/stable/modules/linear_model.html#logistic-regression\n",
      "  n_iter_i = _check_optimize_result(\n",
      "/Users/liam/micromamba/envs/cs135_env/lib/python3.10/site-packages/sklearn/linear_model/_logistic.py:458: ConvergenceWarning: lbfgs failed to converge (status=1):\n",
      "STOP: TOTAL NO. of ITERATIONS REACHED LIMIT.\n",
      "\n",
      "Increase the number of iterations (max_iter) or scale the data as shown in:\n",
      "    https://scikit-learn.org/stable/modules/preprocessing.html\n",
      "Please also refer to the documentation for alternative solver options:\n",
      "    https://scikit-learn.org/stable/modules/linear_model.html#logistic-regression\n",
      "  n_iter_i = _check_optimize_result(\n",
      "/Users/liam/micromamba/envs/cs135_env/lib/python3.10/site-packages/sklearn/linear_model/_logistic.py:458: ConvergenceWarning: lbfgs failed to converge (status=1):\n",
      "STOP: TOTAL NO. of ITERATIONS REACHED LIMIT.\n",
      "\n",
      "Increase the number of iterations (max_iter) or scale the data as shown in:\n",
      "    https://scikit-learn.org/stable/modules/preprocessing.html\n",
      "Please also refer to the documentation for alternative solver options:\n",
      "    https://scikit-learn.org/stable/modules/linear_model.html#logistic-regression\n",
      "  n_iter_i = _check_optimize_result(\n",
      "/Users/liam/micromamba/envs/cs135_env/lib/python3.10/site-packages/sklearn/linear_model/_logistic.py:458: ConvergenceWarning: lbfgs failed to converge (status=1):\n",
      "STOP: TOTAL NO. of ITERATIONS REACHED LIMIT.\n",
      "\n",
      "Increase the number of iterations (max_iter) or scale the data as shown in:\n",
      "    https://scikit-learn.org/stable/modules/preprocessing.html\n",
      "Please also refer to the documentation for alternative solver options:\n",
      "    https://scikit-learn.org/stable/modules/linear_model.html#logistic-regression\n",
      "  n_iter_i = _check_optimize_result(\n",
      "/Users/liam/micromamba/envs/cs135_env/lib/python3.10/site-packages/sklearn/linear_model/_logistic.py:458: ConvergenceWarning: lbfgs failed to converge (status=1):\n",
      "STOP: TOTAL NO. of ITERATIONS REACHED LIMIT.\n",
      "\n",
      "Increase the number of iterations (max_iter) or scale the data as shown in:\n",
      "    https://scikit-learn.org/stable/modules/preprocessing.html\n",
      "Please also refer to the documentation for alternative solver options:\n",
      "    https://scikit-learn.org/stable/modules/linear_model.html#logistic-regression\n",
      "  n_iter_i = _check_optimize_result(\n",
      "/Users/liam/micromamba/envs/cs135_env/lib/python3.10/site-packages/sklearn/linear_model/_logistic.py:458: ConvergenceWarning: lbfgs failed to converge (status=1):\n",
      "STOP: TOTAL NO. of ITERATIONS REACHED LIMIT.\n",
      "\n",
      "Increase the number of iterations (max_iter) or scale the data as shown in:\n",
      "    https://scikit-learn.org/stable/modules/preprocessing.html\n",
      "Please also refer to the documentation for alternative solver options:\n",
      "    https://scikit-learn.org/stable/modules/linear_model.html#logistic-regression\n",
      "  n_iter_i = _check_optimize_result(\n",
      "/Users/liam/micromamba/envs/cs135_env/lib/python3.10/site-packages/sklearn/linear_model/_logistic.py:458: ConvergenceWarning: lbfgs failed to converge (status=1):\n",
      "STOP: TOTAL NO. of ITERATIONS REACHED LIMIT.\n",
      "\n",
      "Increase the number of iterations (max_iter) or scale the data as shown in:\n",
      "    https://scikit-learn.org/stable/modules/preprocessing.html\n",
      "Please also refer to the documentation for alternative solver options:\n",
      "    https://scikit-learn.org/stable/modules/linear_model.html#logistic-regression\n",
      "  n_iter_i = _check_optimize_result(\n",
      "/Users/liam/micromamba/envs/cs135_env/lib/python3.10/site-packages/sklearn/linear_model/_logistic.py:458: ConvergenceWarning: lbfgs failed to converge (status=1):\n",
      "STOP: TOTAL NO. of ITERATIONS REACHED LIMIT.\n",
      "\n",
      "Increase the number of iterations (max_iter) or scale the data as shown in:\n",
      "    https://scikit-learn.org/stable/modules/preprocessing.html\n",
      "Please also refer to the documentation for alternative solver options:\n",
      "    https://scikit-learn.org/stable/modules/linear_model.html#logistic-regression\n",
      "  n_iter_i = _check_optimize_result(\n",
      "/Users/liam/micromamba/envs/cs135_env/lib/python3.10/site-packages/sklearn/linear_model/_logistic.py:458: ConvergenceWarning: lbfgs failed to converge (status=1):\n",
      "STOP: TOTAL NO. of ITERATIONS REACHED LIMIT.\n",
      "\n",
      "Increase the number of iterations (max_iter) or scale the data as shown in:\n",
      "    https://scikit-learn.org/stable/modules/preprocessing.html\n",
      "Please also refer to the documentation for alternative solver options:\n",
      "    https://scikit-learn.org/stable/modules/linear_model.html#logistic-regression\n",
      "  n_iter_i = _check_optimize_result(\n",
      "/Users/liam/micromamba/envs/cs135_env/lib/python3.10/site-packages/sklearn/linear_model/_logistic.py:458: ConvergenceWarning: lbfgs failed to converge (status=1):\n",
      "STOP: TOTAL NO. of ITERATIONS REACHED LIMIT.\n",
      "\n",
      "Increase the number of iterations (max_iter) or scale the data as shown in:\n",
      "    https://scikit-learn.org/stable/modules/preprocessing.html\n",
      "Please also refer to the documentation for alternative solver options:\n",
      "    https://scikit-learn.org/stable/modules/linear_model.html#logistic-regression\n",
      "  n_iter_i = _check_optimize_result(\n",
      "/Users/liam/micromamba/envs/cs135_env/lib/python3.10/site-packages/sklearn/linear_model/_logistic.py:458: ConvergenceWarning: lbfgs failed to converge (status=1):\n",
      "STOP: TOTAL NO. of ITERATIONS REACHED LIMIT.\n",
      "\n",
      "Increase the number of iterations (max_iter) or scale the data as shown in:\n",
      "    https://scikit-learn.org/stable/modules/preprocessing.html\n",
      "Please also refer to the documentation for alternative solver options:\n",
      "    https://scikit-learn.org/stable/modules/linear_model.html#logistic-regression\n",
      "  n_iter_i = _check_optimize_result(\n",
      "/Users/liam/micromamba/envs/cs135_env/lib/python3.10/site-packages/sklearn/linear_model/_logistic.py:458: ConvergenceWarning: lbfgs failed to converge (status=1):\n",
      "STOP: TOTAL NO. of ITERATIONS REACHED LIMIT.\n",
      "\n",
      "Increase the number of iterations (max_iter) or scale the data as shown in:\n",
      "    https://scikit-learn.org/stable/modules/preprocessing.html\n",
      "Please also refer to the documentation for alternative solver options:\n",
      "    https://scikit-learn.org/stable/modules/linear_model.html#logistic-regression\n",
      "  n_iter_i = _check_optimize_result(\n"
     ]
    },
    {
     "data": {
      "text/html": [
       "<style>#sk-container-id-8 {color: black;background-color: white;}#sk-container-id-8 pre{padding: 0;}#sk-container-id-8 div.sk-toggleable {background-color: white;}#sk-container-id-8 label.sk-toggleable__label {cursor: pointer;display: block;width: 100%;margin-bottom: 0;padding: 0.3em;box-sizing: border-box;text-align: center;}#sk-container-id-8 label.sk-toggleable__label-arrow:before {content: \"▸\";float: left;margin-right: 0.25em;color: #696969;}#sk-container-id-8 label.sk-toggleable__label-arrow:hover:before {color: black;}#sk-container-id-8 div.sk-estimator:hover label.sk-toggleable__label-arrow:before {color: black;}#sk-container-id-8 div.sk-toggleable__content {max-height: 0;max-width: 0;overflow: hidden;text-align: left;background-color: #f0f8ff;}#sk-container-id-8 div.sk-toggleable__content pre {margin: 0.2em;color: black;border-radius: 0.25em;background-color: #f0f8ff;}#sk-container-id-8 input.sk-toggleable__control:checked~div.sk-toggleable__content {max-height: 200px;max-width: 100%;overflow: auto;}#sk-container-id-8 input.sk-toggleable__control:checked~label.sk-toggleable__label-arrow:before {content: \"▾\";}#sk-container-id-8 div.sk-estimator input.sk-toggleable__control:checked~label.sk-toggleable__label {background-color: #d4ebff;}#sk-container-id-8 div.sk-label input.sk-toggleable__control:checked~label.sk-toggleable__label {background-color: #d4ebff;}#sk-container-id-8 input.sk-hidden--visually {border: 0;clip: rect(1px 1px 1px 1px);clip: rect(1px, 1px, 1px, 1px);height: 1px;margin: -1px;overflow: hidden;padding: 0;position: absolute;width: 1px;}#sk-container-id-8 div.sk-estimator {font-family: monospace;background-color: #f0f8ff;border: 1px dotted black;border-radius: 0.25em;box-sizing: border-box;margin-bottom: 0.5em;}#sk-container-id-8 div.sk-estimator:hover {background-color: #d4ebff;}#sk-container-id-8 div.sk-parallel-item::after {content: \"\";width: 100%;border-bottom: 1px solid gray;flex-grow: 1;}#sk-container-id-8 div.sk-label:hover label.sk-toggleable__label {background-color: #d4ebff;}#sk-container-id-8 div.sk-serial::before {content: \"\";position: absolute;border-left: 1px solid gray;box-sizing: border-box;top: 0;bottom: 0;left: 50%;z-index: 0;}#sk-container-id-8 div.sk-serial {display: flex;flex-direction: column;align-items: center;background-color: white;padding-right: 0.2em;padding-left: 0.2em;position: relative;}#sk-container-id-8 div.sk-item {position: relative;z-index: 1;}#sk-container-id-8 div.sk-parallel {display: flex;align-items: stretch;justify-content: center;background-color: white;position: relative;}#sk-container-id-8 div.sk-item::before, #sk-container-id-8 div.sk-parallel-item::before {content: \"\";position: absolute;border-left: 1px solid gray;box-sizing: border-box;top: 0;bottom: 0;left: 50%;z-index: -1;}#sk-container-id-8 div.sk-parallel-item {display: flex;flex-direction: column;z-index: 1;position: relative;background-color: white;}#sk-container-id-8 div.sk-parallel-item:first-child::after {align-self: flex-end;width: 50%;}#sk-container-id-8 div.sk-parallel-item:last-child::after {align-self: flex-start;width: 50%;}#sk-container-id-8 div.sk-parallel-item:only-child::after {width: 0;}#sk-container-id-8 div.sk-dashed-wrapped {border: 1px dashed gray;margin: 0 0.4em 0.5em 0.4em;box-sizing: border-box;padding-bottom: 0.4em;background-color: white;}#sk-container-id-8 div.sk-label label {font-family: monospace;font-weight: bold;display: inline-block;line-height: 1.2em;}#sk-container-id-8 div.sk-label-container {text-align: center;}#sk-container-id-8 div.sk-container {/* jupyter's `normalize.less` sets `[hidden] { display: none; }` but bootstrap.min.css set `[hidden] { display: none !important; }` so we also need the `!important` here to be able to override the default hidden behavior on the sphinx rendered scikit-learn.org. See: https://github.com/scikit-learn/scikit-learn/issues/21755 */display: inline-block !important;position: relative;}#sk-container-id-8 div.sk-text-repr-fallback {display: none;}</style><div id=\"sk-container-id-8\" class=\"sk-top-container\"><div class=\"sk-text-repr-fallback\"><pre>RandomizedSearchCV(cv=15, estimator=LogisticRegression(max_iter=300),\n",
       "                   param_distributions={&#x27;C&#x27;: &lt;scipy.stats._distn_infrastructure.rv_continuous_frozen object at 0x7fb3268076a0&gt;,\n",
       "                                        &#x27;penalty&#x27;: [&#x27;l2&#x27;]},\n",
       "                   return_train_score=True, scoring=&#x27;roc_auc&#x27;)</pre><b>In a Jupyter environment, please rerun this cell to show the HTML representation or trust the notebook. <br />On GitHub, the HTML representation is unable to render, please try loading this page with nbviewer.org.</b></div><div class=\"sk-container\" hidden><div class=\"sk-item sk-dashed-wrapped\"><div class=\"sk-label-container\"><div class=\"sk-label sk-toggleable\"><input class=\"sk-toggleable__control sk-hidden--visually\" id=\"sk-estimator-id-14\" type=\"checkbox\" ><label for=\"sk-estimator-id-14\" class=\"sk-toggleable__label sk-toggleable__label-arrow\">RandomizedSearchCV</label><div class=\"sk-toggleable__content\"><pre>RandomizedSearchCV(cv=15, estimator=LogisticRegression(max_iter=300),\n",
       "                   param_distributions={&#x27;C&#x27;: &lt;scipy.stats._distn_infrastructure.rv_continuous_frozen object at 0x7fb3268076a0&gt;,\n",
       "                                        &#x27;penalty&#x27;: [&#x27;l2&#x27;]},\n",
       "                   return_train_score=True, scoring=&#x27;roc_auc&#x27;)</pre></div></div></div><div class=\"sk-parallel\"><div class=\"sk-parallel-item\"><div class=\"sk-item\"><div class=\"sk-label-container\"><div class=\"sk-label sk-toggleable\"><input class=\"sk-toggleable__control sk-hidden--visually\" id=\"sk-estimator-id-15\" type=\"checkbox\" ><label for=\"sk-estimator-id-15\" class=\"sk-toggleable__label sk-toggleable__label-arrow\">estimator: LogisticRegression</label><div class=\"sk-toggleable__content\"><pre>LogisticRegression(max_iter=300)</pre></div></div></div><div class=\"sk-serial\"><div class=\"sk-item\"><div class=\"sk-estimator sk-toggleable\"><input class=\"sk-toggleable__control sk-hidden--visually\" id=\"sk-estimator-id-16\" type=\"checkbox\" ><label for=\"sk-estimator-id-16\" class=\"sk-toggleable__label sk-toggleable__label-arrow\">LogisticRegression</label><div class=\"sk-toggleable__content\"><pre>LogisticRegression(max_iter=300)</pre></div></div></div></div></div></div></div></div></div></div>"
      ],
      "text/plain": [
       "RandomizedSearchCV(cv=15, estimator=LogisticRegression(max_iter=300),\n",
       "                   param_distributions={'C': <scipy.stats._distn_infrastructure.rv_continuous_frozen object at 0x7fb3268076a0>,\n",
       "                                        'penalty': ['l2']},\n",
       "                   return_train_score=True, scoring='roc_auc')"
      ]
     },
     "execution_count": 104,
     "metadata": {},
     "output_type": "execute_result"
    }
   ],
   "source": [
    "curr_search.fit(x_prepared_NV, y_tr_N)"
   ]
  },
  {
   "cell_type": "code",
   "execution_count": null,
   "id": "2df1bb7d",
   "metadata": {},
   "outputs": [],
   "source": []
  },
  {
   "cell_type": "code",
   "execution_count": 105,
   "id": "1ccc43ff",
   "metadata": {},
   "outputs": [],
   "source": [
    "#Best score:\n",
    "#ngrams: \n",
    "# (1, 2) 0.90636\n",
    "# (2, 2) 0.74 (absolute garbage, clearly I need the 1)\n",
    "# (1, 3) 0.90410 (I am thinking that anything beyond 2 n grams isn't super helpful)"
   ]
  },
  {
   "cell_type": "code",
   "execution_count": 106,
   "id": "fb86e65a",
   "metadata": {},
   "outputs": [
    {
     "name": "stdout",
     "output_type": "stream",
     "text": [
      "Best params: {'C': 0.5537145316943337, 'penalty': 'l2'}\n",
      "Best score: 0.8944479166666668\n",
      "Best pipeline: LogisticRegression(C=0.5537145316943337, max_iter=300)\n",
      "Index of best pipeline: 0\n"
     ]
    },
    {
     "data": {
      "text/html": [
       "<div>\n",
       "<style scoped>\n",
       "    .dataframe tbody tr th:only-of-type {\n",
       "        vertical-align: middle;\n",
       "    }\n",
       "\n",
       "    .dataframe tbody tr th {\n",
       "        vertical-align: top;\n",
       "    }\n",
       "\n",
       "    .dataframe thead th {\n",
       "        text-align: right;\n",
       "    }\n",
       "</style>\n",
       "<table border=\"1\" class=\"dataframe\">\n",
       "  <thead>\n",
       "    <tr style=\"text-align: right;\">\n",
       "      <th></th>\n",
       "      <th>mean_fit_time</th>\n",
       "      <th>std_fit_time</th>\n",
       "      <th>mean_score_time</th>\n",
       "      <th>std_score_time</th>\n",
       "      <th>param_C</th>\n",
       "      <th>param_penalty</th>\n",
       "      <th>params</th>\n",
       "      <th>split0_test_score</th>\n",
       "      <th>split1_test_score</th>\n",
       "      <th>split2_test_score</th>\n",
       "      <th>...</th>\n",
       "      <th>split7_train_score</th>\n",
       "      <th>split8_train_score</th>\n",
       "      <th>split9_train_score</th>\n",
       "      <th>split10_train_score</th>\n",
       "      <th>split11_train_score</th>\n",
       "      <th>split12_train_score</th>\n",
       "      <th>split13_train_score</th>\n",
       "      <th>split14_train_score</th>\n",
       "      <th>mean_train_score</th>\n",
       "      <th>std_train_score</th>\n",
       "    </tr>\n",
       "  </thead>\n",
       "  <tbody>\n",
       "    <tr>\n",
       "      <th>0</th>\n",
       "      <td>0.102324</td>\n",
       "      <td>0.010050</td>\n",
       "      <td>0.001774</td>\n",
       "      <td>0.000167</td>\n",
       "      <td>0.553715</td>\n",
       "      <td>l2</td>\n",
       "      <td>{'C': 0.5537145316943337, 'penalty': 'l2'}</td>\n",
       "      <td>0.935000</td>\n",
       "      <td>0.960469</td>\n",
       "      <td>0.926406</td>\n",
       "      <td>...</td>\n",
       "      <td>0.976071</td>\n",
       "      <td>0.976789</td>\n",
       "      <td>0.976584</td>\n",
       "      <td>0.976595</td>\n",
       "      <td>0.976163</td>\n",
       "      <td>0.976584</td>\n",
       "      <td>0.976630</td>\n",
       "      <td>0.976128</td>\n",
       "      <td>0.976502</td>\n",
       "      <td>0.000510</td>\n",
       "    </tr>\n",
       "    <tr>\n",
       "      <th>1</th>\n",
       "      <td>0.042798</td>\n",
       "      <td>0.001282</td>\n",
       "      <td>0.001692</td>\n",
       "      <td>0.000058</td>\n",
       "      <td>0.039795</td>\n",
       "      <td>l2</td>\n",
       "      <td>{'C': 0.03979472220431256, 'penalty': 'l2'}</td>\n",
       "      <td>0.898594</td>\n",
       "      <td>0.935000</td>\n",
       "      <td>0.914219</td>\n",
       "      <td>...</td>\n",
       "      <td>0.921891</td>\n",
       "      <td>0.920622</td>\n",
       "      <td>0.922780</td>\n",
       "      <td>0.921857</td>\n",
       "      <td>0.921987</td>\n",
       "      <td>0.922317</td>\n",
       "      <td>0.920411</td>\n",
       "      <td>0.922653</td>\n",
       "      <td>0.921348</td>\n",
       "      <td>0.001473</td>\n",
       "    </tr>\n",
       "    <tr>\n",
       "      <th>2</th>\n",
       "      <td>0.699317</td>\n",
       "      <td>0.036652</td>\n",
       "      <td>0.002150</td>\n",
       "      <td>0.000128</td>\n",
       "      <td>710.173359</td>\n",
       "      <td>l2</td>\n",
       "      <td>{'C': 710.1733588118464, 'penalty': 'l2'}</td>\n",
       "      <td>0.856719</td>\n",
       "      <td>0.870781</td>\n",
       "      <td>0.849687</td>\n",
       "      <td>...</td>\n",
       "      <td>0.999969</td>\n",
       "      <td>0.999980</td>\n",
       "      <td>0.999987</td>\n",
       "      <td>0.999996</td>\n",
       "      <td>0.999990</td>\n",
       "      <td>0.999973</td>\n",
       "      <td>0.999989</td>\n",
       "      <td>0.999992</td>\n",
       "      <td>0.999980</td>\n",
       "      <td>0.000011</td>\n",
       "    </tr>\n",
       "    <tr>\n",
       "      <th>3</th>\n",
       "      <td>0.034162</td>\n",
       "      <td>0.001705</td>\n",
       "      <td>0.001834</td>\n",
       "      <td>0.000180</td>\n",
       "      <td>0.010175</td>\n",
       "      <td>l2</td>\n",
       "      <td>{'C': 0.010175409168846865, 'penalty': 'l2'}</td>\n",
       "      <td>0.865313</td>\n",
       "      <td>0.911875</td>\n",
       "      <td>0.895781</td>\n",
       "      <td>...</td>\n",
       "      <td>0.889653</td>\n",
       "      <td>0.889170</td>\n",
       "      <td>0.891474</td>\n",
       "      <td>0.890958</td>\n",
       "      <td>0.890768</td>\n",
       "      <td>0.890477</td>\n",
       "      <td>0.888681</td>\n",
       "      <td>0.891388</td>\n",
       "      <td>0.889748</td>\n",
       "      <td>0.001767</td>\n",
       "    </tr>\n",
       "    <tr>\n",
       "      <th>4</th>\n",
       "      <td>0.030578</td>\n",
       "      <td>0.002617</td>\n",
       "      <td>0.001968</td>\n",
       "      <td>0.000256</td>\n",
       "      <td>0.001251</td>\n",
       "      <td>l2</td>\n",
       "      <td>{'C': 0.0012509073827598088, 'penalty': 'l2'}</td>\n",
       "      <td>0.841094</td>\n",
       "      <td>0.897188</td>\n",
       "      <td>0.883281</td>\n",
       "      <td>...</td>\n",
       "      <td>0.863583</td>\n",
       "      <td>0.862504</td>\n",
       "      <td>0.864571</td>\n",
       "      <td>0.865920</td>\n",
       "      <td>0.864780</td>\n",
       "      <td>0.863515</td>\n",
       "      <td>0.861513</td>\n",
       "      <td>0.863605</td>\n",
       "      <td>0.862943</td>\n",
       "      <td>0.002087</td>\n",
       "    </tr>\n",
       "    <tr>\n",
       "      <th>5</th>\n",
       "      <td>0.037658</td>\n",
       "      <td>0.002717</td>\n",
       "      <td>0.002133</td>\n",
       "      <td>0.000286</td>\n",
       "      <td>0.003075</td>\n",
       "      <td>l2</td>\n",
       "      <td>{'C': 0.0030750491364945074, 'penalty': 'l2'}</td>\n",
       "      <td>0.846875</td>\n",
       "      <td>0.900000</td>\n",
       "      <td>0.887656</td>\n",
       "      <td>...</td>\n",
       "      <td>0.871006</td>\n",
       "      <td>0.870249</td>\n",
       "      <td>0.872547</td>\n",
       "      <td>0.872916</td>\n",
       "      <td>0.872434</td>\n",
       "      <td>0.871422</td>\n",
       "      <td>0.869453</td>\n",
       "      <td>0.871938</td>\n",
       "      <td>0.870782</td>\n",
       "      <td>0.001987</td>\n",
       "    </tr>\n",
       "    <tr>\n",
       "      <th>6</th>\n",
       "      <td>0.046125</td>\n",
       "      <td>0.003062</td>\n",
       "      <td>0.002289</td>\n",
       "      <td>0.000481</td>\n",
       "      <td>0.027071</td>\n",
       "      <td>l2</td>\n",
       "      <td>{'C': 0.027071178635407974, 'penalty': 'l2'}</td>\n",
       "      <td>0.888906</td>\n",
       "      <td>0.928281</td>\n",
       "      <td>0.907500</td>\n",
       "      <td>...</td>\n",
       "      <td>0.912094</td>\n",
       "      <td>0.911232</td>\n",
       "      <td>0.913536</td>\n",
       "      <td>0.912574</td>\n",
       "      <td>0.912480</td>\n",
       "      <td>0.912731</td>\n",
       "      <td>0.910953</td>\n",
       "      <td>0.913605</td>\n",
       "      <td>0.911881</td>\n",
       "      <td>0.001609</td>\n",
       "    </tr>\n",
       "    <tr>\n",
       "      <th>7</th>\n",
       "      <td>0.247425</td>\n",
       "      <td>0.019688</td>\n",
       "      <td>0.002058</td>\n",
       "      <td>0.000348</td>\n",
       "      <td>10.65628</td>\n",
       "      <td>l2</td>\n",
       "      <td>{'C': 10.656280068735473, 'penalty': 'l2'}</td>\n",
       "      <td>0.910312</td>\n",
       "      <td>0.936406</td>\n",
       "      <td>0.912031</td>\n",
       "      <td>...</td>\n",
       "      <td>0.997226</td>\n",
       "      <td>0.997571</td>\n",
       "      <td>0.997699</td>\n",
       "      <td>0.997933</td>\n",
       "      <td>0.997433</td>\n",
       "      <td>0.997685</td>\n",
       "      <td>0.997781</td>\n",
       "      <td>0.997452</td>\n",
       "      <td>0.997709</td>\n",
       "      <td>0.000323</td>\n",
       "    </tr>\n",
       "    <tr>\n",
       "      <th>8</th>\n",
       "      <td>0.094751</td>\n",
       "      <td>0.032928</td>\n",
       "      <td>0.001833</td>\n",
       "      <td>0.000076</td>\n",
       "      <td>0.234503</td>\n",
       "      <td>l2</td>\n",
       "      <td>{'C': 0.23450318406824378, 'penalty': 'l2'}</td>\n",
       "      <td>0.930313</td>\n",
       "      <td>0.957969</td>\n",
       "      <td>0.925781</td>\n",
       "      <td>...</td>\n",
       "      <td>0.961930</td>\n",
       "      <td>0.961685</td>\n",
       "      <td>0.961702</td>\n",
       "      <td>0.961826</td>\n",
       "      <td>0.961831</td>\n",
       "      <td>0.961982</td>\n",
       "      <td>0.961553</td>\n",
       "      <td>0.961750</td>\n",
       "      <td>0.961676</td>\n",
       "      <td>0.000716</td>\n",
       "    </tr>\n",
       "    <tr>\n",
       "      <th>9</th>\n",
       "      <td>0.028814</td>\n",
       "      <td>0.000940</td>\n",
       "      <td>0.001875</td>\n",
       "      <td>0.000232</td>\n",
       "      <td>0.001657</td>\n",
       "      <td>l2</td>\n",
       "      <td>{'C': 0.0016570004265670825, 'penalty': 'l2'}</td>\n",
       "      <td>0.841719</td>\n",
       "      <td>0.896875</td>\n",
       "      <td>0.884375</td>\n",
       "      <td>...</td>\n",
       "      <td>0.865342</td>\n",
       "      <td>0.864406</td>\n",
       "      <td>0.866605</td>\n",
       "      <td>0.867661</td>\n",
       "      <td>0.866637</td>\n",
       "      <td>0.865483</td>\n",
       "      <td>0.863441</td>\n",
       "      <td>0.865650</td>\n",
       "      <td>0.864857</td>\n",
       "      <td>0.002075</td>\n",
       "    </tr>\n",
       "  </tbody>\n",
       "</table>\n",
       "<p>10 rows × 42 columns</p>\n",
       "</div>"
      ],
      "text/plain": [
       "   mean_fit_time  std_fit_time  mean_score_time  std_score_time     param_C  \\\n",
       "0       0.102324      0.010050         0.001774        0.000167    0.553715   \n",
       "1       0.042798      0.001282         0.001692        0.000058    0.039795   \n",
       "2       0.699317      0.036652         0.002150        0.000128  710.173359   \n",
       "3       0.034162      0.001705         0.001834        0.000180    0.010175   \n",
       "4       0.030578      0.002617         0.001968        0.000256    0.001251   \n",
       "5       0.037658      0.002717         0.002133        0.000286    0.003075   \n",
       "6       0.046125      0.003062         0.002289        0.000481    0.027071   \n",
       "7       0.247425      0.019688         0.002058        0.000348    10.65628   \n",
       "8       0.094751      0.032928         0.001833        0.000076    0.234503   \n",
       "9       0.028814      0.000940         0.001875        0.000232    0.001657   \n",
       "\n",
       "  param_penalty                                         params  \\\n",
       "0            l2     {'C': 0.5537145316943337, 'penalty': 'l2'}   \n",
       "1            l2    {'C': 0.03979472220431256, 'penalty': 'l2'}   \n",
       "2            l2      {'C': 710.1733588118464, 'penalty': 'l2'}   \n",
       "3            l2   {'C': 0.010175409168846865, 'penalty': 'l2'}   \n",
       "4            l2  {'C': 0.0012509073827598088, 'penalty': 'l2'}   \n",
       "5            l2  {'C': 0.0030750491364945074, 'penalty': 'l2'}   \n",
       "6            l2   {'C': 0.027071178635407974, 'penalty': 'l2'}   \n",
       "7            l2     {'C': 10.656280068735473, 'penalty': 'l2'}   \n",
       "8            l2    {'C': 0.23450318406824378, 'penalty': 'l2'}   \n",
       "9            l2  {'C': 0.0016570004265670825, 'penalty': 'l2'}   \n",
       "\n",
       "   split0_test_score  split1_test_score  split2_test_score  ...  \\\n",
       "0           0.935000           0.960469           0.926406  ...   \n",
       "1           0.898594           0.935000           0.914219  ...   \n",
       "2           0.856719           0.870781           0.849687  ...   \n",
       "3           0.865313           0.911875           0.895781  ...   \n",
       "4           0.841094           0.897188           0.883281  ...   \n",
       "5           0.846875           0.900000           0.887656  ...   \n",
       "6           0.888906           0.928281           0.907500  ...   \n",
       "7           0.910312           0.936406           0.912031  ...   \n",
       "8           0.930313           0.957969           0.925781  ...   \n",
       "9           0.841719           0.896875           0.884375  ...   \n",
       "\n",
       "   split7_train_score  split8_train_score  split9_train_score  \\\n",
       "0            0.976071            0.976789            0.976584   \n",
       "1            0.921891            0.920622            0.922780   \n",
       "2            0.999969            0.999980            0.999987   \n",
       "3            0.889653            0.889170            0.891474   \n",
       "4            0.863583            0.862504            0.864571   \n",
       "5            0.871006            0.870249            0.872547   \n",
       "6            0.912094            0.911232            0.913536   \n",
       "7            0.997226            0.997571            0.997699   \n",
       "8            0.961930            0.961685            0.961702   \n",
       "9            0.865342            0.864406            0.866605   \n",
       "\n",
       "   split10_train_score  split11_train_score  split12_train_score  \\\n",
       "0             0.976595             0.976163             0.976584   \n",
       "1             0.921857             0.921987             0.922317   \n",
       "2             0.999996             0.999990             0.999973   \n",
       "3             0.890958             0.890768             0.890477   \n",
       "4             0.865920             0.864780             0.863515   \n",
       "5             0.872916             0.872434             0.871422   \n",
       "6             0.912574             0.912480             0.912731   \n",
       "7             0.997933             0.997433             0.997685   \n",
       "8             0.961826             0.961831             0.961982   \n",
       "9             0.867661             0.866637             0.865483   \n",
       "\n",
       "   split13_train_score  split14_train_score  mean_train_score  std_train_score  \n",
       "0             0.976630             0.976128          0.976502         0.000510  \n",
       "1             0.920411             0.922653          0.921348         0.001473  \n",
       "2             0.999989             0.999992          0.999980         0.000011  \n",
       "3             0.888681             0.891388          0.889748         0.001767  \n",
       "4             0.861513             0.863605          0.862943         0.002087  \n",
       "5             0.869453             0.871938          0.870782         0.001987  \n",
       "6             0.910953             0.913605          0.911881         0.001609  \n",
       "7             0.997781             0.997452          0.997709         0.000323  \n",
       "8             0.961553             0.961750          0.961676         0.000716  \n",
       "9             0.863441             0.865650          0.864857         0.002075  \n",
       "\n",
       "[10 rows x 42 columns]"
      ]
     },
     "execution_count": 106,
     "metadata": {},
     "output_type": "execute_result"
    }
   ],
   "source": [
    "print('Best params:', curr_search.best_params_)\n",
    "print('Best score:', curr_search.best_score_)\n",
    "print('Best pipeline:', curr_search.best_estimator_)\n",
    "print('Index of best pipeline:', curr_search.best_index_)\n",
    "results=pd.DataFrame(curr_search.cv_results_)\n",
    "results #see results of test"
   ]
  },
  {
   "cell_type": "code",
   "execution_count": 107,
   "id": "9ae0d873",
   "metadata": {},
   "outputs": [],
   "source": [
    "final_model = sklearn.linear_model.LogisticRegression(C=0.5537145316943337, penalty='l2', solver='lbfgs', max_iter=300)"
   ]
  },
  {
   "cell_type": "code",
   "execution_count": 108,
   "id": "4ea26b34",
   "metadata": {},
   "outputs": [
    {
     "data": {
      "text/html": [
       "<style>#sk-container-id-9 {color: black;background-color: white;}#sk-container-id-9 pre{padding: 0;}#sk-container-id-9 div.sk-toggleable {background-color: white;}#sk-container-id-9 label.sk-toggleable__label {cursor: pointer;display: block;width: 100%;margin-bottom: 0;padding: 0.3em;box-sizing: border-box;text-align: center;}#sk-container-id-9 label.sk-toggleable__label-arrow:before {content: \"▸\";float: left;margin-right: 0.25em;color: #696969;}#sk-container-id-9 label.sk-toggleable__label-arrow:hover:before {color: black;}#sk-container-id-9 div.sk-estimator:hover label.sk-toggleable__label-arrow:before {color: black;}#sk-container-id-9 div.sk-toggleable__content {max-height: 0;max-width: 0;overflow: hidden;text-align: left;background-color: #f0f8ff;}#sk-container-id-9 div.sk-toggleable__content pre {margin: 0.2em;color: black;border-radius: 0.25em;background-color: #f0f8ff;}#sk-container-id-9 input.sk-toggleable__control:checked~div.sk-toggleable__content {max-height: 200px;max-width: 100%;overflow: auto;}#sk-container-id-9 input.sk-toggleable__control:checked~label.sk-toggleable__label-arrow:before {content: \"▾\";}#sk-container-id-9 div.sk-estimator input.sk-toggleable__control:checked~label.sk-toggleable__label {background-color: #d4ebff;}#sk-container-id-9 div.sk-label input.sk-toggleable__control:checked~label.sk-toggleable__label {background-color: #d4ebff;}#sk-container-id-9 input.sk-hidden--visually {border: 0;clip: rect(1px 1px 1px 1px);clip: rect(1px, 1px, 1px, 1px);height: 1px;margin: -1px;overflow: hidden;padding: 0;position: absolute;width: 1px;}#sk-container-id-9 div.sk-estimator {font-family: monospace;background-color: #f0f8ff;border: 1px dotted black;border-radius: 0.25em;box-sizing: border-box;margin-bottom: 0.5em;}#sk-container-id-9 div.sk-estimator:hover {background-color: #d4ebff;}#sk-container-id-9 div.sk-parallel-item::after {content: \"\";width: 100%;border-bottom: 1px solid gray;flex-grow: 1;}#sk-container-id-9 div.sk-label:hover label.sk-toggleable__label {background-color: #d4ebff;}#sk-container-id-9 div.sk-serial::before {content: \"\";position: absolute;border-left: 1px solid gray;box-sizing: border-box;top: 0;bottom: 0;left: 50%;z-index: 0;}#sk-container-id-9 div.sk-serial {display: flex;flex-direction: column;align-items: center;background-color: white;padding-right: 0.2em;padding-left: 0.2em;position: relative;}#sk-container-id-9 div.sk-item {position: relative;z-index: 1;}#sk-container-id-9 div.sk-parallel {display: flex;align-items: stretch;justify-content: center;background-color: white;position: relative;}#sk-container-id-9 div.sk-item::before, #sk-container-id-9 div.sk-parallel-item::before {content: \"\";position: absolute;border-left: 1px solid gray;box-sizing: border-box;top: 0;bottom: 0;left: 50%;z-index: -1;}#sk-container-id-9 div.sk-parallel-item {display: flex;flex-direction: column;z-index: 1;position: relative;background-color: white;}#sk-container-id-9 div.sk-parallel-item:first-child::after {align-self: flex-end;width: 50%;}#sk-container-id-9 div.sk-parallel-item:last-child::after {align-self: flex-start;width: 50%;}#sk-container-id-9 div.sk-parallel-item:only-child::after {width: 0;}#sk-container-id-9 div.sk-dashed-wrapped {border: 1px dashed gray;margin: 0 0.4em 0.5em 0.4em;box-sizing: border-box;padding-bottom: 0.4em;background-color: white;}#sk-container-id-9 div.sk-label label {font-family: monospace;font-weight: bold;display: inline-block;line-height: 1.2em;}#sk-container-id-9 div.sk-label-container {text-align: center;}#sk-container-id-9 div.sk-container {/* jupyter's `normalize.less` sets `[hidden] { display: none; }` but bootstrap.min.css set `[hidden] { display: none !important; }` so we also need the `!important` here to be able to override the default hidden behavior on the sphinx rendered scikit-learn.org. See: https://github.com/scikit-learn/scikit-learn/issues/21755 */display: inline-block !important;position: relative;}#sk-container-id-9 div.sk-text-repr-fallback {display: none;}</style><div id=\"sk-container-id-9\" class=\"sk-top-container\"><div class=\"sk-text-repr-fallback\"><pre>LogisticRegression(C=0.5537145316943337, max_iter=300)</pre><b>In a Jupyter environment, please rerun this cell to show the HTML representation or trust the notebook. <br />On GitHub, the HTML representation is unable to render, please try loading this page with nbviewer.org.</b></div><div class=\"sk-container\" hidden><div class=\"sk-item\"><div class=\"sk-estimator sk-toggleable\"><input class=\"sk-toggleable__control sk-hidden--visually\" id=\"sk-estimator-id-17\" type=\"checkbox\" checked><label for=\"sk-estimator-id-17\" class=\"sk-toggleable__label sk-toggleable__label-arrow\">LogisticRegression</label><div class=\"sk-toggleable__content\"><pre>LogisticRegression(C=0.5537145316943337, max_iter=300)</pre></div></div></div></div></div>"
      ],
      "text/plain": [
       "LogisticRegression(C=0.5537145316943337, max_iter=300)"
      ]
     },
     "execution_count": 108,
     "metadata": {},
     "output_type": "execute_result"
    }
   ],
   "source": [
    "final_model.fit(x_prepared_NV, y_tr_N)"
   ]
  },
  {
   "cell_type": "code",
   "execution_count": 792,
   "id": "5f968c52",
   "metadata": {},
   "outputs": [
    {
     "data": {
      "text/plain": [
       "0      0.526177\n",
       "1      8.896969\n",
       "2      0.001676\n",
       "3      0.538111\n",
       "4    803.043292\n",
       "5    196.865769\n",
       "6      0.018225\n",
       "7      0.081482\n",
       "8     64.408414\n",
       "9    423.831727\n",
       "Name: param_C, dtype: object"
      ]
     },
     "execution_count": 792,
     "metadata": {},
     "output_type": "execute_result"
    }
   ],
   "source": [
    "results['param_C']"
   ]
  },
  {
   "cell_type": "code",
   "execution_count": 793,
   "id": "55e384f1",
   "metadata": {},
   "outputs": [
    {
     "data": {
      "text/plain": [
       "0    0.894569\n",
       "1    0.883583\n",
       "2    0.824417\n",
       "3    0.894611\n",
       "4    0.822000\n",
       "5    0.840958\n",
       "6    0.852014\n",
       "7    0.876986\n",
       "8    0.857444\n",
       "9    0.830236\n",
       "Name: mean_test_score, dtype: float64"
      ]
     },
     "execution_count": 793,
     "metadata": {},
     "output_type": "execute_result"
    }
   ],
   "source": [
    "results['mean_test_score']"
   ]
  },
  {
   "cell_type": "code",
   "execution_count": 112,
   "id": "d88f04a6",
   "metadata": {},
   "outputs": [
    {
     "data": {
      "text/plain": [
       "0    0.976502\n",
       "1    0.921348\n",
       "2    0.999980\n",
       "3    0.889748\n",
       "4    0.862943\n",
       "5    0.870782\n",
       "6    0.911881\n",
       "7    0.997709\n",
       "8    0.961676\n",
       "9    0.864857\n",
       "Name: mean_train_score, dtype: float64"
      ]
     },
     "execution_count": 112,
     "metadata": {},
     "output_type": "execute_result"
    }
   ],
   "source": [
    "results['mean_train_score']"
   ]
  },
  {
   "cell_type": "code",
   "execution_count": null,
   "id": "dd43474a",
   "metadata": {},
   "outputs": [],
   "source": []
  },
  {
   "cell_type": "code",
   "execution_count": 123,
   "id": "ecec203e",
   "metadata": {},
   "outputs": [
    {
     "data": {
      "text/plain": [
       "(-0.5, 2.5)"
      ]
     },
     "execution_count": 123,
     "metadata": {},
     "output_type": "execute_result"
    },
    {
     "data": {
      "image/png": "[encoded data removed]",
      "text/plain": [
       "<Figure size 640x480 with 1 Axes>"
      ]
     },
     "metadata": {},
     "output_type": "display_data"
    }
   ],
   "source": [
    "plt.plot(results['param_C'], results['mean_test_score'], 'ro', label='mean_test_score on validation set')\n",
    "plt.plot(results['param_C'], results['mean_train_score'], 'bo', label='mean_train_score on validation set')\n",
    "\n",
    "# plt.plot(np.log10(C_grid), tr_err_list, 'b:', label='train err')\n",
    "# plt.plot(np.log10(C_grid), va_err_list, 'r:', label='valid err')\n",
    "\n",
    "plt.ylabel('error')\n",
    "plt.xlabel(\"$\\log_{10} C$\");\n",
    "plt.legend(bbox_to_anchor=(1.5, 0.5)) # make legend outside plot\n",
    "plt.ylim([0.8, 1.0]);\n",
    "plt.xlim([-0.5, 2.5])"
   ]
  },
  {
   "cell_type": "code",
   "execution_count": null,
   "id": "0f17bfb9",
   "metadata": {},
   "outputs": [],
   "source": []
  },
  {
   "cell_type": "code",
   "execution_count": 109,
   "id": "f15870d7",
   "metadata": {},
   "outputs": [],
   "source": [
    "#getting a leaderboard score:\n",
    "x_test_df = pd.read_csv('data_reviews/x_test.csv')\n",
    "test_list_of_sentences = x_test_df['text'].str.cat(sep='\\n')"
   ]
  },
  {
   "cell_type": "code",
   "execution_count": 110,
   "id": "92db3d32",
   "metadata": {},
   "outputs": [],
   "source": [
    "#cleaning test data"
   ]
  },
  {
   "cell_type": "code",
   "execution_count": 111,
   "id": "a806eab9",
   "metadata": {},
   "outputs": [],
   "source": [
    "test_list_of_sentences, blah = preprocess_string(test_list_of_sentences)"
   ]
  },
  {
   "cell_type": "code",
   "execution_count": 48,
   "id": "f1b1c76f",
   "metadata": {},
   "outputs": [],
   "source": [
    "# test_list_of_sentences = remove_non_alpha_num(test_list_of_sentences)"
   ]
  },
  {
   "cell_type": "code",
   "execution_count": 49,
   "id": "d6c9a7f8",
   "metadata": {},
   "outputs": [],
   "source": [
    "#test_list_of_sentences = correct_spelling(test_list_of_sentences)"
   ]
  },
  {
   "cell_type": "code",
   "execution_count": 50,
   "id": "d90e178d",
   "metadata": {},
   "outputs": [],
   "source": [
    "# test_list_of_sentences = remove_stop_words(test_list_of_sentences, stop_words)\n",
    "#"
   ]
  },
  {
   "cell_type": "code",
   "execution_count": 51,
   "id": "a5953cfa",
   "metadata": {},
   "outputs": [],
   "source": [
    "Y = vectorizer.transform(test_list_of_sentences.split(\"\\n\"))\n",
    "#Y.transform(test_list_of_sentences.split(\"\\n\")).toarray()\n"
   ]
  },
  {
   "cell_type": "code",
   "execution_count": 52,
   "id": "0cb53289",
   "metadata": {},
   "outputs": [],
   "source": [
    "predict_array = Y.toarray()"
   ]
  },
  {
   "cell_type": "code",
   "execution_count": 53,
   "id": "c05d91f5",
   "metadata": {},
   "outputs": [],
   "source": [
    "# predict_array[:, :].shape"
   ]
  },
  {
   "cell_type": "code",
   "execution_count": 113,
   "id": "47cf2b38",
   "metadata": {},
   "outputs": [],
   "source": [
    "#determining test data size\n",
    "list_of_sentences2 = test_list_of_sentences.split('\\n')\n",
    "Z = len(list_of_sentences2)\n",
    "x_tr_ZV = np.zeros((Z, V))"
   ]
  },
  {
   "cell_type": "code",
   "execution_count": 114,
   "id": "e0165d40",
   "metadata": {},
   "outputs": [],
   "source": [
    "for nn2, raw_text_line2 in enumerate(list_of_sentences2):\n",
    "    x_tr_ZV[nn2] = transform_text_into_feature_vector(raw_text_line2, vocab_dict)"
   ]
  },
  {
   "cell_type": "code",
   "execution_count": 115,
   "id": "65197b6b",
   "metadata": {},
   "outputs": [],
   "source": [
    "predict_array = x_tr_ZV"
   ]
  },
  {
   "cell_type": "code",
   "execution_count": 116,
   "id": "0b8352f9",
   "metadata": {},
   "outputs": [],
   "source": [
    "yhat_test_N = final_model.predict_proba(predict_array)"
   ]
  },
  {
   "cell_type": "code",
   "execution_count": 117,
   "id": "b71c2e61",
   "metadata": {},
   "outputs": [],
   "source": [
    "np.savetxt(\"yproba1_test.txt\", yhat_test_N[:, 1])"
   ]
  },
  {
   "cell_type": "code",
   "execution_count": null,
   "id": "b3d3fc33",
   "metadata": {},
   "outputs": [],
   "source": []
  },
  {
   "cell_type": "code",
   "execution_count": null,
   "id": "1ff6d33f",
   "metadata": {},
   "outputs": [],
   "source": []
  },
  {
   "cell_type": "code",
   "execution_count": 265,
   "id": "435f5638",
   "metadata": {},
   "outputs": [
    {
     "name": "stdout",
     "output_type": "stream",
     "text": [
      "3\n"
     ]
    }
   ],
   "source": [
    "train_predictions = curr_search.predict(x_prepared_NV)\n",
    "probas = curr_search.predict_proba(x_prepared_NV)\n",
    "b = ~np.equal(train_predictions, y_tr_N)\n",
    "indices = np.flatnonzero(b)\n",
    "print(len(indices))"
   ]
  },
  {
   "cell_type": "code",
   "execution_count": null,
   "id": "01e3ae8e",
   "metadata": {},
   "outputs": [],
   "source": []
  },
  {
   "cell_type": "code",
   "execution_count": null,
   "id": "0f951080",
   "metadata": {},
   "outputs": [],
   "source": []
  },
  {
   "cell_type": "code",
   "execution_count": 266,
   "id": "efacc737",
   "metadata": {},
   "outputs": [],
   "source": [
    "#ok... so it is only getting 4 wrong! This seems really good... not sure how I'm going to improve this"
   ]
  },
  {
   "cell_type": "code",
   "execution_count": 267,
   "id": "de07883e",
   "metadata": {},
   "outputs": [
    {
     "name": "stdout",
     "output_type": "stream",
     "text": [
      "Butchered Review:\n",
      "highly recommend\n",
      "Original Review:\n",
      "Highly unrecommended.  \n",
      "Probability: [0.28549099 0.71450901]\n",
      "Predicted: 1.0\n",
      "Actual: 0.0\n",
      "\n",
      "\n",
      "Butchered Review:\n",
      "\n",
      "Original Review:\n",
      "10/10  \n",
      "Probability: [0.54308816 0.45691184]\n",
      "Predicted: 0.0\n",
      "Actual: 1.0\n",
      "\n",
      "\n",
      "Butchered Review:\n",
      "\n",
      "Original Review:\n",
      "10/10  \n",
      "Probability: [0.54308816 0.45691184]\n",
      "Predicted: 0.0\n",
      "Actual: 1.0\n",
      "\n",
      "\n"
     ]
    }
   ],
   "source": [
    "for i in indices:\n",
    "    print(\"Butchered Review:\")\n",
    "    print(reviews_string.split(\"\\n\")[i])\n",
    "    #print('\\n')\n",
    "    print(\"Original Review:\")\n",
    "    print(original_review_string.split(\"\\n\")[i])\n",
    "    #print('\\n')\n",
    "    print(\"Probability:\", probas[i])\n",
    "    print(\"Predicted:\", train_predictions[i])\n",
    "    print(\"Actual:\", y_tr_N[i])\n",
    "    print('\\n')\n",
    "    \n",
    "    "
   ]
  },
  {
   "cell_type": "code",
   "execution_count": 729,
   "id": "af1f6867",
   "metadata": {},
   "outputs": [],
   "source": [
    "\n",
    "test_string = \"Plan on ordering from them again and again.\"\n",
    "#preprocess_string(test_string)\n",
    "reviews_string3 = test_string"
   ]
  },
  {
   "cell_type": "code",
   "execution_count": 730,
   "id": "b291df0c",
   "metadata": {},
   "outputs": [
    {
     "data": {
      "text/plain": [
       "'plan on ordering from them again and again '"
      ]
     },
     "execution_count": 730,
     "metadata": {},
     "output_type": "execute_result"
    }
   ],
   "source": [
    "reviews_string3 = remove_non_alpha_num(reviews_string3)\n",
    "reviews_string3"
   ]
  },
  {
   "cell_type": "code",
   "execution_count": 731,
   "id": "161aec85",
   "metadata": {},
   "outputs": [
    {
     "data": {
      "text/plain": [
       "'plan on ordering from them again and again'"
      ]
     },
     "execution_count": 731,
     "metadata": {},
     "output_type": "execute_result"
    }
   ],
   "source": [
    "reviews_string3 = correct_spelling(reviews_string3)\n",
    "reviews_string3"
   ]
  },
  {
   "cell_type": "code",
   "execution_count": null,
   "id": "c744bf5f",
   "metadata": {},
   "outputs": [],
   "source": []
  },
  {
   "cell_type": "code",
   "execution_count": null,
   "id": "456008a6",
   "metadata": {},
   "outputs": [],
   "source": []
  },
  {
   "cell_type": "code",
   "execution_count": null,
   "id": "c5eae76b",
   "metadata": {},
   "outputs": [],
   "source": []
  },
  {
   "cell_type": "code",
   "execution_count": 732,
   "id": "7bd75061",
   "metadata": {},
   "outputs": [
    {
     "data": {
      "text/plain": [
       "'plan on order from them again and again'"
      ]
     },
     "execution_count": 732,
     "metadata": {},
     "output_type": "execute_result"
    }
   ],
   "source": [
    "reviews_string3 = lemmatize_words(reviews_string3)\n",
    "reviews_string3"
   ]
  },
  {
   "cell_type": "code",
   "execution_count": 734,
   "id": "2b5c2234",
   "metadata": {},
   "outputs": [
    {
     "data": {
      "text/plain": [
       "'plan order'"
      ]
     },
     "execution_count": 734,
     "metadata": {},
     "output_type": "execute_result"
    }
   ],
   "source": [
    "reviews_string3 = remove_stop_words(reviews_string3, stop_words)\n",
    "reviews_string3"
   ]
  },
  {
   "cell_type": "code",
   "execution_count": null,
   "id": "772b0fe3",
   "metadata": {},
   "outputs": [],
   "source": []
  }
 ],
 "metadata": {
  "kernelspec": {
   "display_name": "Python 3 (ipykernel)",
   "language": "python",
   "name": "python3"
  },
  "language_info": {
   "codemirror_mode": {
    "name": "ipython",
    "version": 3
   },
   "file_extension": ".py",
   "mimetype": "text/x-python",
   "name": "python",
   "nbconvert_exporter": "python",
   "pygments_lexer": "ipython3",
   "version": "3.10.12"
  }
 },
 "nbformat": 4,
 "nbformat_minor": 5
}
