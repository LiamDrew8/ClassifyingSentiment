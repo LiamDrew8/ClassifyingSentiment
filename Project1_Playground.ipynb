{
 "cells": [
  {
   "cell_type": "code",
   "execution_count": 2,
   "id": "a7c356db",
   "metadata": {},
   "outputs": [
    {
     "name": "stdout",
     "output_type": "stream",
     "text": [
      "Shape of x_train_df: (2400, 2)\n",
      "Shape of y_train_df: (2400, 1)\n",
      "row     0 | y = 0 | Oh and I forgot to also mention the weird color effect it has on your phone.\n",
      "row     1 | y = 0 | THAT one didn't work either.\n",
      "row     2 | y = 0 | Waste of 13 bucks.\n",
      "row     3 | y = 0 | Product is useless, since it does not have enough charging current to charge the 2 cellphones I was planning to use it with.\n",
      "row     4 | y = 0 | None of the three sizes they sent with the headset would stay in my ears.\n",
      "...\n",
      "row  2395 | y = 1 | The sweet potato fries were very good and seasoned well.\n",
      "row  2396 | y = 1 | I could eat their bruschetta all day it is devine.\n",
      "row  2397 | y = 1 | Ambience is perfect.\n",
      "row  2398 | y = 1 | We ordered the duck rare and it was pink and tender on the inside with a nice char on the outside.\n",
      "row  2399 | y = 1 | Service was good and the company was better!\n"
     ]
    }
   ],
   "source": [
    "import numpy as np\n",
    "import pandas as pd\n",
    "import os\n",
    "\n",
    "\n",
    "if __name__ == '__main__':\n",
    "    data_dir = 'data_reviews'\n",
    "    x_train_df = pd.read_csv(os.path.join(data_dir, 'x_train.csv'))\n",
    "    y_train_df = pd.read_csv(os.path.join(data_dir, 'y_train.csv'))\n",
    "\n",
    "    N, n_cols = x_train_df.shape\n",
    "    print(\"Shape of x_train_df: (%d, %d)\" % (N,n_cols))\n",
    "    print(\"Shape of y_train_df: %s\" % str(y_train_df.shape))\n",
    "\n",
    "    # Print out the first five rows and last five rows\n",
    "    tr_text_list = x_train_df['text'].values.tolist()\n",
    "    rows = np.arange(0, 5)\n",
    "    for row_id in rows:\n",
    "        text = tr_text_list[row_id]\n",
    "        print(\"row %5d | y = %d | %s\" % (row_id, y_train_df.values[row_id,0], text))\n",
    "\n",
    "    print(\"...\")\n",
    "    rows = np.arange(N - 5, N)\n",
    "    for row_id in rows:\n",
    "        text = tr_text_list[row_id]\n",
    "        print(\"row %5d | y = %d | %s\" % (row_id, y_train_df.values[row_id,0], text))\n"
   ]
  },
  {
   "cell_type": "code",
   "execution_count": null,
   "id": "933113f6",
   "metadata": {},
   "outputs": [],
   "source": []
  }
 ],
 "metadata": {
  "kernelspec": {
   "display_name": "Python 3 (ipykernel)",
   "language": "python",
   "name": "python3"
  },
  "language_info": {
   "codemirror_mode": {
    "name": "ipython",
    "version": 3
   },
   "file_extension": ".py",
   "mimetype": "text/x-python",
   "name": "python",
   "nbconvert_exporter": "python",
   "pygments_lexer": "ipython3",
   "version": "3.10.12"
  }
 },
 "nbformat": 4,
 "nbformat_minor": 5
}
