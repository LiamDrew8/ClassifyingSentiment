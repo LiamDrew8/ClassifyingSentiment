{
 "cells": [
  {
   "cell_type": "code",
   "execution_count": 14,
   "id": "d8e42ead",
   "metadata": {},
   "outputs": [],
   "source": [
    "import numpy as np\n",
    "import pandas as pd\n",
    "import os\n",
    "\n",
    "\n",
    "if __name__ == '__main__':\n",
    "    data_dir = 'data_reviews'\n",
    "    x_train_df = pd.read_csv(os.path.join(data_dir, 'x_train.csv'))\n",
    "    y_train_df = pd.read_csv(os.path.join(data_dir, 'y_train.csv'))"
   ]
  },
  {
   "cell_type": "code",
   "execution_count": 15,
   "id": "7b0b7330",
   "metadata": {},
   "outputs": [],
   "source": [
    "#load data into python\n",
    "x_train_df = pd.read_csv('data_reviews/x_train.csv')\n",
    "#concatenating review to make string processing easier\n",
    "tr_list_of_sentences = x_train_df['text'].str.cat(sep='\\n')\n",
    "#tr_list_of_sentences"
   ]
  },
  {
   "cell_type": "code",
   "execution_count": null,
   "id": "ee721f8c",
   "metadata": {},
   "outputs": [],
   "source": []
  },
  {
   "cell_type": "code",
   "execution_count": null,
   "id": "20902d5d",
   "metadata": {},
   "outputs": [],
   "source": []
  },
  {
   "cell_type": "code",
   "execution_count": null,
   "id": "1a4a8dbf",
   "metadata": {},
   "outputs": [],
   "source": []
  },
  {
   "cell_type": "markdown",
   "id": "719381bf",
   "metadata": {},
   "source": [
    "# Preprocessing"
   ]
  },
  {
   "cell_type": "code",
   "execution_count": 18,
   "id": "ee7c2a73",
   "metadata": {},
   "outputs": [
    {
     "data": {
      "text/plain": [
       "'\\nSteps:\\n1. Remove all non-alpha numeric characters from the string\\n2. Remove stop words\\n3. Correct spelling\\n\\n'"
      ]
     },
     "execution_count": 18,
     "metadata": {},
     "output_type": "execute_result"
    }
   ],
   "source": [
    "'''\n",
    "Steps:\n",
    "1. Remove all non-alpha numeric characters from the string\n",
    "2. Remove stop words\n",
    "3. Correct spelling\n",
    "\n",
    "'''"
   ]
  },
  {
   "cell_type": "code",
   "execution_count": 19,
   "id": "c9ce3af4",
   "metadata": {},
   "outputs": [],
   "source": [
    "#remove all non-alpha numeric characters from the string\n",
    "import re"
   ]
  },
  {
   "cell_type": "code",
   "execution_count": 20,
   "id": "e2f6180a",
   "metadata": {},
   "outputs": [],
   "source": [
    "#using regex to remove non_alphanum\n",
    "def remove_non_alpha_num(reviews_string):\n",
    "    s = re.sub(r'[^A-Za-z\\n\\s]+', '', reviews_string)\n",
    "    s = s.lower()\n",
    "    return s\n",
    "               \n",
    "    \n",
    "        "
   ]
  },
  {
   "cell_type": "code",
   "execution_count": 21,
   "id": "09187f97",
   "metadata": {},
   "outputs": [],
   "source": [
    "#remove stop words\n",
    "from nltk.tokenize import word_tokenize\n",
    "from nltk.corpus import stopwords"
   ]
  },
  {
   "cell_type": "code",
   "execution_count": 22,
   "id": "53a35b87",
   "metadata": {},
   "outputs": [],
   "source": [
    "stop_words = set(stopwords.words('english'))\n",
    "stop_words = {word.replace(\"'\", '') for word in stop_words}\n",
    "toRemove = {'not', 'couldnt', 'shouldnt', 'didnt'}\n",
    "for entry in toRemove:\n",
    "    stop_words.discard(entry)"
   ]
  },
  {
   "cell_type": "code",
   "execution_count": null,
   "id": "344670ce",
   "metadata": {},
   "outputs": [],
   "source": []
  },
  {
   "cell_type": "code",
   "execution_count": 23,
   "id": "20462bdb",
   "metadata": {},
   "outputs": [],
   "source": [
    "#https://www.geeksforgeeks.org/removing-stop-words-nltk-python/\n",
    "def remove_stop_words(reviews_string, remove_words):\n",
    "    reviews_list = reviews_string.split('\\n')\n",
    "    filtered_sentences = []\n",
    "    for review in reviews_list:\n",
    "        r = review.split()\n",
    "        filtered_words = [w for w in r if w not in remove_words]\n",
    "        filtered_sentence = ' '.join(filtered_words)\n",
    "        filtered_sentences.append(filtered_sentence)\n",
    "    \n",
    "    filtered_sentences = '\\n'.join(filtered_sentences)\n",
    "    return filtered_sentences\n",
    "    "
   ]
  },
  {
   "cell_type": "code",
   "execution_count": 24,
   "id": "f3316ba9",
   "metadata": {},
   "outputs": [],
   "source": [
    "v = remove_non_alpha_num(tr_list_of_sentences)\n",
    "x = remove_stop_words(v, stop_words)\n",
    "\n"
   ]
  },
  {
   "cell_type": "code",
   "execution_count": 25,
   "id": "6fab8fae",
   "metadata": {},
   "outputs": [],
   "source": [
    "from spellchecker import SpellChecker"
   ]
  },
  {
   "cell_type": "code",
   "execution_count": 34,
   "id": "ac0afb0a",
   "metadata": {},
   "outputs": [],
   "source": [
    "#correct spelling\n",
    "#https://pyspellchecker.readthedocs.io/en/latest/\n",
    "def correct_spelling(reviews_string):\n",
    "    reviews_list = reviews_string.split('/n')\n",
    "    correctly_spelled_sentences = []\n",
    "    \n",
    "    speller = SpellChecker()\n",
    "    \n",
    "    for review in reviews_list:\n",
    "        words = review.split()\n",
    "        correctly_spelled_words = [speller.correction(word) if speller.correction(word) is not None else word for word in words]\n",
    "        correct_sentence = ' '.join(correctly_spelled_words)\n",
    "        correctly_spelled_sentences.append(correct_sentence)\n",
    "    \n",
    "    corrected_reviews_string = '\\n'.join(correctly_spelled_sentences)\n",
    "    return corrected_reviews_string\n"
   ]
  },
  {
   "cell_type": "code",
   "execution_count": 47,
   "id": "4ec0011c",
   "metadata": {},
   "outputs": [],
   "source": [
    "#The following code is from the Bag of Words Lab\n",
    "\n",
    "def create_tok_count(list_of_sentences):\n",
    "    \n",
    "    tok_count_dict = dict()\n",
    "\n",
    "    for line in list_of_sentences:\n",
    "        tok_list = word_tokenize(line)\n",
    "        for tok in tok_list:\n",
    "            if tok in tok_count_dict:\n",
    "                tok_count_dict[tok] += 1\n",
    "            else:\n",
    "                tok_count_dict[tok] = 1\n",
    "                    \n",
    "    return tok_count_dict"
   ]
  },
  {
   "cell_type": "code",
   "execution_count": 100,
   "id": "f4ed9bc9",
   "metadata": {},
   "outputs": [],
   "source": [
    "FREQ_THRESHOLD = 2\n",
    "def build_vocab_list(reviews_string):\n",
    "    list_of_sentences = reviews_string.split('\\n')\n",
    "    \n",
    "    tok_count_dict = create_tok_count(list_of_sentences)\n",
    "    sorted_tokens = list(sorted(tok_count_dict, key=tok_count_dict.get, reverse=True))\n",
    "    \n",
    "    vocab_list = [w for w in sorted_tokens[:] if tok_count_dict[w] >= FREQ_THRESHOLD]\n",
    "    \n",
    "    vocab_dict = dict()\n",
    "    for vocab_id, tok in enumerate(vocab_list):\n",
    "        vocab_dict[tok] = vocab_id\n",
    "    \n",
    "    return vocab_dict, len(list_of_sentences), len(vocab_list)\n",
    "    "
   ]
  },
  {
   "cell_type": "code",
   "execution_count": null,
   "id": "81d264f2",
   "metadata": {},
   "outputs": [],
   "source": [
    "\n"
   ]
  },
  {
   "cell_type": "code",
   "execution_count": 54,
   "id": "75abc3c8",
   "metadata": {},
   "outputs": [],
   "source": [
    "def transform_text_into_feature_vector(text, vocab_dict):\n",
    "    ''' Produce count feature vector for provided text\n",
    "    \n",
    "    Args\n",
    "    ----\n",
    "    text : string\n",
    "        A string of raw text, representing a single 'review'\n",
    "    vocab_dict : dict with string keys\n",
    "        If token is in vocabulary, will exist as key in the dict\n",
    "        If token is not in vocabulary, will not be in the dict\n",
    "\n",
    "    Returns\n",
    "    -------\n",
    "    count_V : 1D numpy array, shape (V,) = (n_vocab,)\n",
    "        Count vector, indicating how often each vocab word\n",
    "        appears in the provided text string\n",
    "    '''\n",
    "    V = len(vocab_dict.keys())\n",
    "    count_V = np.zeros(V)\n",
    "    for tok in word_tokenize(text):\n",
    "        if tok in vocab_dict:\n",
    "            vv = vocab_dict[tok]\n",
    "            count_V[vv] += 1\n",
    "    return count_V"
   ]
  },
  {
   "cell_type": "code",
   "execution_count": null,
   "id": "e9aec1ea",
   "metadata": {},
   "outputs": [],
   "source": []
  },
  {
   "cell_type": "code",
   "execution_count": null,
   "id": "06aaa144",
   "metadata": {},
   "outputs": [],
   "source": [
    "#DO NOT TOUCH THESE: THEY TAKE A LONG TIME TO RUN"
   ]
  },
  {
   "cell_type": "code",
   "execution_count": 90,
   "id": "de56b91d",
   "metadata": {},
   "outputs": [],
   "source": [
    "reviews_string = remove_non_alpha_num(tr_list_of_sentences)\n"
   ]
  },
  {
   "cell_type": "code",
   "execution_count": 91,
   "id": "ad73ed00",
   "metadata": {},
   "outputs": [],
   "source": [
    "# reviews_string = correct_spelling(reviews_string)\n",
    "# reviews_string"
   ]
  },
  {
   "cell_type": "code",
   "execution_count": 101,
   "id": "00fe6973",
   "metadata": {},
   "outputs": [],
   "source": [
    "reviews_string = remove_stop_words(reviews_string, stop_words)\n",
    "# list_of_sentences = reviews_string.split('\\n')\n",
    "# list_of_sentences"
   ]
  },
  {
   "cell_type": "code",
   "execution_count": 102,
   "id": "d40255a9",
   "metadata": {},
   "outputs": [
    {
     "data": {
      "text/plain": [
       "2400"
      ]
     },
     "execution_count": 102,
     "metadata": {},
     "output_type": "execute_result"
    }
   ],
   "source": [
    "vocab_dict, N, V = build_vocab_list(reviews_string)\n",
    "N"
   ]
  },
  {
   "cell_type": "code",
   "execution_count": 103,
   "id": "8b470b91",
   "metadata": {},
   "outputs": [],
   "source": [
    "x_prepared_NV = np.zeros((N, V))\n",
    "for nn, raw_text_line in enumerate(reviews_string.split(\"\\n\")):\n",
    "    x_prepared_NV[nn] = transform_text_into_feature_vector(raw_text_line, vocab_dict)"
   ]
  },
  {
   "cell_type": "code",
   "execution_count": 104,
   "id": "757ce269",
   "metadata": {},
   "outputs": [
    {
     "data": {
      "text/plain": [
       "(2400, 1757)"
      ]
     },
     "execution_count": 104,
     "metadata": {},
     "output_type": "execute_result"
    }
   ],
   "source": [
    "x_prepared_NV.shape"
   ]
  },
  {
   "cell_type": "markdown",
   "id": "863194b5",
   "metadata": {},
   "source": [
    "# Creating Model"
   ]
  },
  {
   "cell_type": "code",
   "execution_count": 105,
   "id": "02fda82f",
   "metadata": {},
   "outputs": [],
   "source": [
    "#interesting model stuff\n",
    "import sklearn\n",
    "from sklearn.model_selection import RandomizedSearchCV\n",
    "from sklearn.model_selection import GridSearchCV\n",
    "from scipy.stats import loguniform\n",
    "from sklearn.pipeline import Pipeline\n",
    "from sklearn.linear_model import LogisticRegression"
   ]
  },
  {
   "cell_type": "code",
   "execution_count": null,
   "id": "9af42ad5",
   "metadata": {},
   "outputs": [],
   "source": []
  },
  {
   "cell_type": "code",
   "execution_count": 106,
   "id": "ea8c8719",
   "metadata": {},
   "outputs": [],
   "source": [
    "y_train_df = pd.read_csv('data_reviews/y_train.csv')\n",
    "y_tr_N = y_train_df.is_positive_sentiment.values.astype(float)"
   ]
  },
  {
   "cell_type": "code",
   "execution_count": 107,
   "id": "954d6e00",
   "metadata": {},
   "outputs": [
    {
     "data": {
      "text/plain": [
       "(2400,)"
      ]
     },
     "execution_count": 107,
     "metadata": {},
     "output_type": "execute_result"
    }
   ],
   "source": [
    "y_tr_N.shape"
   ]
  },
  {
   "cell_type": "code",
   "execution_count": 108,
   "id": "4d4a98a6",
   "metadata": {},
   "outputs": [],
   "source": [
    "model = sklearn.linear_model.LogisticRegression(solver='lbfgs')\n",
    "SEED = 2\n",
    "FOLDS = 15"
   ]
  },
  {
   "cell_type": "code",
   "execution_count": 109,
   "id": "d7fcdade",
   "metadata": {},
   "outputs": [],
   "source": [
    "cRange = loguniform(1e-3, 1e3)\n",
    "tol = [1e-1,1e-2,1e-3,1e-4,1e-5]\n",
    "SEED = 1\n",
    "#max_iter_values = [100, 200, 300, 400, 500]\n",
    "param_rand = {\n",
    "    'clf__C': cRange,\n",
    "    'clf__tol': tol,\n",
    "    'clf__fit_intercept': [True, False]\n",
    "    \n",
    "    #clf__max_iter': max_iter_values\n",
    "    \n",
    "}\n",
    "\n",
    "# pipeRand = Pipeline([['scaler', StandardScaler()],\n",
    "#                      ['clf', LogisticRegression(penalty = 'l2',\n",
    "#                                                 max_iter=300)]\n",
    "#                     ])\n",
    "pipeRand = Pipeline([['clf', sklearn.linear_model.LogisticRegression(penalty = 'l2',\n",
    "                                                max_iter=400)]\n",
    "                    ])"
   ]
  },
  {
   "cell_type": "code",
   "execution_count": 110,
   "id": "3d8e7b81",
   "metadata": {},
   "outputs": [],
   "source": [
    "param_rand = {\n",
    "    'clf__C': cRange,\n",
    "    'clf__tol': tol,\n",
    "    'clf__fit_intercept': [True, False]\n",
    "    \n",
    "    #clf__max_iter': max_iter_values\n",
    "    \n",
    "}"
   ]
  },
  {
   "cell_type": "code",
   "execution_count": 111,
   "id": "e955a86f",
   "metadata": {},
   "outputs": [],
   "source": [
    "curr_search = RandomizedSearchCV(\n",
    "    estimator = pipeRand,\n",
    "    param_distributions = param_rand,\n",
    "    cv = FOLDS,\n",
    "    scoring = 'roc_auc',\n",
    "    random_state = SEED,\n",
    "    )"
   ]
  },
  {
   "cell_type": "code",
   "execution_count": null,
   "id": "97e0194d",
   "metadata": {},
   "outputs": [],
   "source": []
  },
  {
   "cell_type": "code",
   "execution_count": 115,
   "id": "c2a36e83",
   "metadata": {},
   "outputs": [
    {
     "data": {
      "text/html": [
       "<style>#sk-container-id-1 {color: black;background-color: white;}#sk-container-id-1 pre{padding: 0;}#sk-container-id-1 div.sk-toggleable {background-color: white;}#sk-container-id-1 label.sk-toggleable__label {cursor: pointer;display: block;width: 100%;margin-bottom: 0;padding: 0.3em;box-sizing: border-box;text-align: center;}#sk-container-id-1 label.sk-toggleable__label-arrow:before {content: \"▸\";float: left;margin-right: 0.25em;color: #696969;}#sk-container-id-1 label.sk-toggleable__label-arrow:hover:before {color: black;}#sk-container-id-1 div.sk-estimator:hover label.sk-toggleable__label-arrow:before {color: black;}#sk-container-id-1 div.sk-toggleable__content {max-height: 0;max-width: 0;overflow: hidden;text-align: left;background-color: #f0f8ff;}#sk-container-id-1 div.sk-toggleable__content pre {margin: 0.2em;color: black;border-radius: 0.25em;background-color: #f0f8ff;}#sk-container-id-1 input.sk-toggleable__control:checked~div.sk-toggleable__content {max-height: 200px;max-width: 100%;overflow: auto;}#sk-container-id-1 input.sk-toggleable__control:checked~label.sk-toggleable__label-arrow:before {content: \"▾\";}#sk-container-id-1 div.sk-estimator input.sk-toggleable__control:checked~label.sk-toggleable__label {background-color: #d4ebff;}#sk-container-id-1 div.sk-label input.sk-toggleable__control:checked~label.sk-toggleable__label {background-color: #d4ebff;}#sk-container-id-1 input.sk-hidden--visually {border: 0;clip: rect(1px 1px 1px 1px);clip: rect(1px, 1px, 1px, 1px);height: 1px;margin: -1px;overflow: hidden;padding: 0;position: absolute;width: 1px;}#sk-container-id-1 div.sk-estimator {font-family: monospace;background-color: #f0f8ff;border: 1px dotted black;border-radius: 0.25em;box-sizing: border-box;margin-bottom: 0.5em;}#sk-container-id-1 div.sk-estimator:hover {background-color: #d4ebff;}#sk-container-id-1 div.sk-parallel-item::after {content: \"\";width: 100%;border-bottom: 1px solid gray;flex-grow: 1;}#sk-container-id-1 div.sk-label:hover label.sk-toggleable__label {background-color: #d4ebff;}#sk-container-id-1 div.sk-serial::before {content: \"\";position: absolute;border-left: 1px solid gray;box-sizing: border-box;top: 0;bottom: 0;left: 50%;z-index: 0;}#sk-container-id-1 div.sk-serial {display: flex;flex-direction: column;align-items: center;background-color: white;padding-right: 0.2em;padding-left: 0.2em;position: relative;}#sk-container-id-1 div.sk-item {position: relative;z-index: 1;}#sk-container-id-1 div.sk-parallel {display: flex;align-items: stretch;justify-content: center;background-color: white;position: relative;}#sk-container-id-1 div.sk-item::before, #sk-container-id-1 div.sk-parallel-item::before {content: \"\";position: absolute;border-left: 1px solid gray;box-sizing: border-box;top: 0;bottom: 0;left: 50%;z-index: -1;}#sk-container-id-1 div.sk-parallel-item {display: flex;flex-direction: column;z-index: 1;position: relative;background-color: white;}#sk-container-id-1 div.sk-parallel-item:first-child::after {align-self: flex-end;width: 50%;}#sk-container-id-1 div.sk-parallel-item:last-child::after {align-self: flex-start;width: 50%;}#sk-container-id-1 div.sk-parallel-item:only-child::after {width: 0;}#sk-container-id-1 div.sk-dashed-wrapped {border: 1px dashed gray;margin: 0 0.4em 0.5em 0.4em;box-sizing: border-box;padding-bottom: 0.4em;background-color: white;}#sk-container-id-1 div.sk-label label {font-family: monospace;font-weight: bold;display: inline-block;line-height: 1.2em;}#sk-container-id-1 div.sk-label-container {text-align: center;}#sk-container-id-1 div.sk-container {/* jupyter's `normalize.less` sets `[hidden] { display: none; }` but bootstrap.min.css set `[hidden] { display: none !important; }` so we also need the `!important` here to be able to override the default hidden behavior on the sphinx rendered scikit-learn.org. See: https://github.com/scikit-learn/scikit-learn/issues/21755 */display: inline-block !important;position: relative;}#sk-container-id-1 div.sk-text-repr-fallback {display: none;}</style><div id=\"sk-container-id-1\" class=\"sk-top-container\"><div class=\"sk-text-repr-fallback\"><pre>RandomizedSearchCV(cv=15,\n",
       "                   estimator=Pipeline(steps=[[&#x27;clf&#x27;,\n",
       "                                              LogisticRegression(max_iter=400)]]),\n",
       "                   param_distributions={&#x27;clf__C&#x27;: &lt;scipy.stats._distn_infrastructure.rv_continuous_frozen object at 0x7fbb75441cc0&gt;,\n",
       "                                        &#x27;clf__fit_intercept&#x27;: [True, False],\n",
       "                                        &#x27;clf__tol&#x27;: [0.1, 0.01, 0.001, 0.0001,\n",
       "                                                     1e-05]},\n",
       "                   random_state=1, scoring=&#x27;roc_auc&#x27;)</pre><b>In a Jupyter environment, please rerun this cell to show the HTML representation or trust the notebook. <br />On GitHub, the HTML representation is unable to render, please try loading this page with nbviewer.org.</b></div><div class=\"sk-container\" hidden><div class=\"sk-item sk-dashed-wrapped\"><div class=\"sk-label-container\"><div class=\"sk-label sk-toggleable\"><input class=\"sk-toggleable__control sk-hidden--visually\" id=\"sk-estimator-id-1\" type=\"checkbox\" ><label for=\"sk-estimator-id-1\" class=\"sk-toggleable__label sk-toggleable__label-arrow\">RandomizedSearchCV</label><div class=\"sk-toggleable__content\"><pre>RandomizedSearchCV(cv=15,\n",
       "                   estimator=Pipeline(steps=[[&#x27;clf&#x27;,\n",
       "                                              LogisticRegression(max_iter=400)]]),\n",
       "                   param_distributions={&#x27;clf__C&#x27;: &lt;scipy.stats._distn_infrastructure.rv_continuous_frozen object at 0x7fbb75441cc0&gt;,\n",
       "                                        &#x27;clf__fit_intercept&#x27;: [True, False],\n",
       "                                        &#x27;clf__tol&#x27;: [0.1, 0.01, 0.001, 0.0001,\n",
       "                                                     1e-05]},\n",
       "                   random_state=1, scoring=&#x27;roc_auc&#x27;)</pre></div></div></div><div class=\"sk-parallel\"><div class=\"sk-parallel-item\"><div class=\"sk-item\"><div class=\"sk-label-container\"><div class=\"sk-label sk-toggleable\"><input class=\"sk-toggleable__control sk-hidden--visually\" id=\"sk-estimator-id-2\" type=\"checkbox\" ><label for=\"sk-estimator-id-2\" class=\"sk-toggleable__label sk-toggleable__label-arrow\">estimator: Pipeline</label><div class=\"sk-toggleable__content\"><pre>Pipeline(steps=[[&#x27;clf&#x27;, LogisticRegression(max_iter=400)]])</pre></div></div></div><div class=\"sk-serial\"><div class=\"sk-item\"><div class=\"sk-serial\"><div class=\"sk-item\"><div class=\"sk-estimator sk-toggleable\"><input class=\"sk-toggleable__control sk-hidden--visually\" id=\"sk-estimator-id-3\" type=\"checkbox\" ><label for=\"sk-estimator-id-3\" class=\"sk-toggleable__label sk-toggleable__label-arrow\">LogisticRegression</label><div class=\"sk-toggleable__content\"><pre>LogisticRegression(max_iter=400)</pre></div></div></div></div></div></div></div></div></div></div></div></div>"
      ],
      "text/plain": [
       "RandomizedSearchCV(cv=15,\n",
       "                   estimator=Pipeline(steps=[['clf',\n",
       "                                              LogisticRegression(max_iter=400)]]),\n",
       "                   param_distributions={'clf__C': <scipy.stats._distn_infrastructure.rv_continuous_frozen object at 0x7fbb75441cc0>,\n",
       "                                        'clf__fit_intercept': [True, False],\n",
       "                                        'clf__tol': [0.1, 0.01, 0.001, 0.0001,\n",
       "                                                     1e-05]},\n",
       "                   random_state=1, scoring='roc_auc')"
      ]
     },
     "execution_count": 115,
     "metadata": {},
     "output_type": "execute_result"
    }
   ],
   "source": [
    "curr_search.fit(x_prepared_NV, y_tr_N)"
   ]
  },
  {
   "cell_type": "code",
   "execution_count": 116,
   "id": "e35773f4",
   "metadata": {},
   "outputs": [
    {
     "name": "stdout",
     "output_type": "stream",
     "text": [
      "Best params: {'clf__C': 0.32746665712253886, 'clf__fit_intercept': True, 'clf__tol': 1e-05}\n",
      "Best score: 0.8861875\n",
      "Best pipeline: Pipeline(steps=[['clf',\n",
      "                 LogisticRegression(C=0.32746665712253886, max_iter=400,\n",
      "                                    tol=1e-05)]])\n",
      "Index of best pipeline: 4\n"
     ]
    },
    {
     "data": {
      "text/html": [
       "<div>\n",
       "<style scoped>\n",
       "    .dataframe tbody tr th:only-of-type {\n",
       "        vertical-align: middle;\n",
       "    }\n",
       "\n",
       "    .dataframe tbody tr th {\n",
       "        vertical-align: top;\n",
       "    }\n",
       "\n",
       "    .dataframe thead th {\n",
       "        text-align: right;\n",
       "    }\n",
       "</style>\n",
       "<table border=\"1\" class=\"dataframe\">\n",
       "  <thead>\n",
       "    <tr style=\"text-align: right;\">\n",
       "      <th></th>\n",
       "      <th>mean_fit_time</th>\n",
       "      <th>std_fit_time</th>\n",
       "      <th>mean_score_time</th>\n",
       "      <th>std_score_time</th>\n",
       "      <th>param_clf__C</th>\n",
       "      <th>param_clf__fit_intercept</th>\n",
       "      <th>param_clf__tol</th>\n",
       "      <th>params</th>\n",
       "      <th>split0_test_score</th>\n",
       "      <th>split1_test_score</th>\n",
       "      <th>...</th>\n",
       "      <th>split8_test_score</th>\n",
       "      <th>split9_test_score</th>\n",
       "      <th>split10_test_score</th>\n",
       "      <th>split11_test_score</th>\n",
       "      <th>split12_test_score</th>\n",
       "      <th>split13_test_score</th>\n",
       "      <th>split14_test_score</th>\n",
       "      <th>mean_test_score</th>\n",
       "      <th>std_test_score</th>\n",
       "      <th>rank_test_score</th>\n",
       "    </tr>\n",
       "  </thead>\n",
       "  <tbody>\n",
       "    <tr>\n",
       "      <th>0</th>\n",
       "      <td>0.048083</td>\n",
       "      <td>0.008840</td>\n",
       "      <td>0.001857</td>\n",
       "      <td>0.000274</td>\n",
       "      <td>0.317784</td>\n",
       "      <td>True</td>\n",
       "      <td>0.1</td>\n",
       "      <td>{'clf__C': 0.3177840006884069, 'clf__fit_inter...</td>\n",
       "      <td>0.913438</td>\n",
       "      <td>0.943594</td>\n",
       "      <td>...</td>\n",
       "      <td>0.880625</td>\n",
       "      <td>0.826797</td>\n",
       "      <td>0.883750</td>\n",
       "      <td>0.845000</td>\n",
       "      <td>0.896250</td>\n",
       "      <td>0.943281</td>\n",
       "      <td>0.882500</td>\n",
       "      <td>0.885990</td>\n",
       "      <td>0.036930</td>\n",
       "      <td>2</td>\n",
       "    </tr>\n",
       "    <tr>\n",
       "      <th>1</th>\n",
       "      <td>0.020796</td>\n",
       "      <td>0.001393</td>\n",
       "      <td>0.001989</td>\n",
       "      <td>0.000350</td>\n",
       "      <td>0.001002</td>\n",
       "      <td>False</td>\n",
       "      <td>0.1</td>\n",
       "      <td>{'clf__C': 0.001001581395585897, 'clf__fit_int...</td>\n",
       "      <td>0.872969</td>\n",
       "      <td>0.896406</td>\n",
       "      <td>...</td>\n",
       "      <td>0.861406</td>\n",
       "      <td>0.806953</td>\n",
       "      <td>0.863750</td>\n",
       "      <td>0.807969</td>\n",
       "      <td>0.847812</td>\n",
       "      <td>0.909844</td>\n",
       "      <td>0.819531</td>\n",
       "      <td>0.842542</td>\n",
       "      <td>0.045052</td>\n",
       "      <td>9</td>\n",
       "    </tr>\n",
       "    <tr>\n",
       "      <th>2</th>\n",
       "      <td>0.029900</td>\n",
       "      <td>0.002537</td>\n",
       "      <td>0.002209</td>\n",
       "      <td>0.000338</td>\n",
       "      <td>0.003581</td>\n",
       "      <td>True</td>\n",
       "      <td>0.00001</td>\n",
       "      <td>{'clf__C': 0.0035812246787002297, 'clf__fit_in...</td>\n",
       "      <td>0.876250</td>\n",
       "      <td>0.900000</td>\n",
       "      <td>...</td>\n",
       "      <td>0.861563</td>\n",
       "      <td>0.807734</td>\n",
       "      <td>0.865156</td>\n",
       "      <td>0.811094</td>\n",
       "      <td>0.851875</td>\n",
       "      <td>0.915000</td>\n",
       "      <td>0.822969</td>\n",
       "      <td>0.845490</td>\n",
       "      <td>0.044943</td>\n",
       "      <td>7</td>\n",
       "    </tr>\n",
       "    <tr>\n",
       "      <th>3</th>\n",
       "      <td>0.060386</td>\n",
       "      <td>0.005993</td>\n",
       "      <td>0.001998</td>\n",
       "      <td>0.000439</td>\n",
       "      <td>0.240218</td>\n",
       "      <td>True</td>\n",
       "      <td>0.00001</td>\n",
       "      <td>{'clf__C': 0.24021761202431602, 'clf__fit_inte...</td>\n",
       "      <td>0.909531</td>\n",
       "      <td>0.942969</td>\n",
       "      <td>...</td>\n",
       "      <td>0.877656</td>\n",
       "      <td>0.824297</td>\n",
       "      <td>0.883906</td>\n",
       "      <td>0.841250</td>\n",
       "      <td>0.894219</td>\n",
       "      <td>0.942344</td>\n",
       "      <td>0.877188</td>\n",
       "      <td>0.883396</td>\n",
       "      <td>0.038142</td>\n",
       "      <td>4</td>\n",
       "    </tr>\n",
       "    <tr>\n",
       "      <th>4</th>\n",
       "      <td>0.064078</td>\n",
       "      <td>0.005566</td>\n",
       "      <td>0.002008</td>\n",
       "      <td>0.000368</td>\n",
       "      <td>0.327467</td>\n",
       "      <td>True</td>\n",
       "      <td>0.00001</td>\n",
       "      <td>{'clf__C': 0.32746665712253886, 'clf__fit_inte...</td>\n",
       "      <td>0.913281</td>\n",
       "      <td>0.943594</td>\n",
       "      <td>...</td>\n",
       "      <td>0.880781</td>\n",
       "      <td>0.827109</td>\n",
       "      <td>0.884219</td>\n",
       "      <td>0.845469</td>\n",
       "      <td>0.896094</td>\n",
       "      <td>0.943281</td>\n",
       "      <td>0.883125</td>\n",
       "      <td>0.886188</td>\n",
       "      <td>0.036739</td>\n",
       "      <td>1</td>\n",
       "    </tr>\n",
       "    <tr>\n",
       "      <th>5</th>\n",
       "      <td>0.034405</td>\n",
       "      <td>0.004149</td>\n",
       "      <td>0.001899</td>\n",
       "      <td>0.000249</td>\n",
       "      <td>0.016854</td>\n",
       "      <td>True</td>\n",
       "      <td>0.00001</td>\n",
       "      <td>{'clf__C': 0.01685440782816938, 'clf__fit_inte...</td>\n",
       "      <td>0.887813</td>\n",
       "      <td>0.915625</td>\n",
       "      <td>...</td>\n",
       "      <td>0.859062</td>\n",
       "      <td>0.812109</td>\n",
       "      <td>0.870000</td>\n",
       "      <td>0.817188</td>\n",
       "      <td>0.863594</td>\n",
       "      <td>0.929688</td>\n",
       "      <td>0.828906</td>\n",
       "      <td>0.856312</td>\n",
       "      <td>0.044312</td>\n",
       "      <td>5</td>\n",
       "    </tr>\n",
       "    <tr>\n",
       "      <th>6</th>\n",
       "      <td>0.024054</td>\n",
       "      <td>0.001534</td>\n",
       "      <td>0.001800</td>\n",
       "      <td>0.000219</td>\n",
       "      <td>0.00146</td>\n",
       "      <td>True</td>\n",
       "      <td>0.00001</td>\n",
       "      <td>{'clf__C': 0.0014599082378876644, 'clf__fit_in...</td>\n",
       "      <td>0.873437</td>\n",
       "      <td>0.896563</td>\n",
       "      <td>...</td>\n",
       "      <td>0.861875</td>\n",
       "      <td>0.807578</td>\n",
       "      <td>0.863594</td>\n",
       "      <td>0.808281</td>\n",
       "      <td>0.848281</td>\n",
       "      <td>0.911250</td>\n",
       "      <td>0.820000</td>\n",
       "      <td>0.843021</td>\n",
       "      <td>0.044979</td>\n",
       "      <td>8</td>\n",
       "    </tr>\n",
       "    <tr>\n",
       "      <th>7</th>\n",
       "      <td>0.047137</td>\n",
       "      <td>0.004659</td>\n",
       "      <td>0.001872</td>\n",
       "      <td>0.000299</td>\n",
       "      <td>0.319028</td>\n",
       "      <td>False</td>\n",
       "      <td>0.01</td>\n",
       "      <td>{'clf__C': 0.3190280094957601, 'clf__fit_inter...</td>\n",
       "      <td>0.913594</td>\n",
       "      <td>0.941719</td>\n",
       "      <td>...</td>\n",
       "      <td>0.880937</td>\n",
       "      <td>0.826797</td>\n",
       "      <td>0.885938</td>\n",
       "      <td>0.842969</td>\n",
       "      <td>0.897656</td>\n",
       "      <td>0.944063</td>\n",
       "      <td>0.880625</td>\n",
       "      <td>0.885583</td>\n",
       "      <td>0.036861</td>\n",
       "      <td>3</td>\n",
       "    </tr>\n",
       "    <tr>\n",
       "      <th>8</th>\n",
       "      <td>0.028533</td>\n",
       "      <td>0.003484</td>\n",
       "      <td>0.001942</td>\n",
       "      <td>0.000200</td>\n",
       "      <td>0.006955</td>\n",
       "      <td>True</td>\n",
       "      <td>0.01</td>\n",
       "      <td>{'clf__C': 0.006955392321661605, 'clf__fit_int...</td>\n",
       "      <td>0.880937</td>\n",
       "      <td>0.904844</td>\n",
       "      <td>...</td>\n",
       "      <td>0.860313</td>\n",
       "      <td>0.808516</td>\n",
       "      <td>0.867344</td>\n",
       "      <td>0.813438</td>\n",
       "      <td>0.856875</td>\n",
       "      <td>0.920469</td>\n",
       "      <td>0.824688</td>\n",
       "      <td>0.849104</td>\n",
       "      <td>0.045032</td>\n",
       "      <td>6</td>\n",
       "    </tr>\n",
       "    <tr>\n",
       "      <th>9</th>\n",
       "      <td>0.222698</td>\n",
       "      <td>0.020187</td>\n",
       "      <td>0.002248</td>\n",
       "      <td>0.000433</td>\n",
       "      <td>645.014465</td>\n",
       "      <td>False</td>\n",
       "      <td>0.01</td>\n",
       "      <td>{'clf__C': 645.0144652189368, 'clf__fit_interc...</td>\n",
       "      <td>0.860781</td>\n",
       "      <td>0.844375</td>\n",
       "      <td>...</td>\n",
       "      <td>0.817187</td>\n",
       "      <td>0.740547</td>\n",
       "      <td>0.805469</td>\n",
       "      <td>0.814688</td>\n",
       "      <td>0.815469</td>\n",
       "      <td>0.877188</td>\n",
       "      <td>0.847187</td>\n",
       "      <td>0.821146</td>\n",
       "      <td>0.031950</td>\n",
       "      <td>10</td>\n",
       "    </tr>\n",
       "  </tbody>\n",
       "</table>\n",
       "<p>10 rows × 26 columns</p>\n",
       "</div>"
      ],
      "text/plain": [
       "   mean_fit_time  std_fit_time  mean_score_time  std_score_time param_clf__C  \\\n",
       "0       0.048083      0.008840         0.001857        0.000274     0.317784   \n",
       "1       0.020796      0.001393         0.001989        0.000350     0.001002   \n",
       "2       0.029900      0.002537         0.002209        0.000338     0.003581   \n",
       "3       0.060386      0.005993         0.001998        0.000439     0.240218   \n",
       "4       0.064078      0.005566         0.002008        0.000368     0.327467   \n",
       "5       0.034405      0.004149         0.001899        0.000249     0.016854   \n",
       "6       0.024054      0.001534         0.001800        0.000219      0.00146   \n",
       "7       0.047137      0.004659         0.001872        0.000299     0.319028   \n",
       "8       0.028533      0.003484         0.001942        0.000200     0.006955   \n",
       "9       0.222698      0.020187         0.002248        0.000433   645.014465   \n",
       "\n",
       "  param_clf__fit_intercept param_clf__tol  \\\n",
       "0                     True            0.1   \n",
       "1                    False            0.1   \n",
       "2                     True        0.00001   \n",
       "3                     True        0.00001   \n",
       "4                     True        0.00001   \n",
       "5                     True        0.00001   \n",
       "6                     True        0.00001   \n",
       "7                    False           0.01   \n",
       "8                     True           0.01   \n",
       "9                    False           0.01   \n",
       "\n",
       "                                              params  split0_test_score  \\\n",
       "0  {'clf__C': 0.3177840006884069, 'clf__fit_inter...           0.913438   \n",
       "1  {'clf__C': 0.001001581395585897, 'clf__fit_int...           0.872969   \n",
       "2  {'clf__C': 0.0035812246787002297, 'clf__fit_in...           0.876250   \n",
       "3  {'clf__C': 0.24021761202431602, 'clf__fit_inte...           0.909531   \n",
       "4  {'clf__C': 0.32746665712253886, 'clf__fit_inte...           0.913281   \n",
       "5  {'clf__C': 0.01685440782816938, 'clf__fit_inte...           0.887813   \n",
       "6  {'clf__C': 0.0014599082378876644, 'clf__fit_in...           0.873437   \n",
       "7  {'clf__C': 0.3190280094957601, 'clf__fit_inter...           0.913594   \n",
       "8  {'clf__C': 0.006955392321661605, 'clf__fit_int...           0.880937   \n",
       "9  {'clf__C': 645.0144652189368, 'clf__fit_interc...           0.860781   \n",
       "\n",
       "   split1_test_score  ...  split8_test_score  split9_test_score  \\\n",
       "0           0.943594  ...           0.880625           0.826797   \n",
       "1           0.896406  ...           0.861406           0.806953   \n",
       "2           0.900000  ...           0.861563           0.807734   \n",
       "3           0.942969  ...           0.877656           0.824297   \n",
       "4           0.943594  ...           0.880781           0.827109   \n",
       "5           0.915625  ...           0.859062           0.812109   \n",
       "6           0.896563  ...           0.861875           0.807578   \n",
       "7           0.941719  ...           0.880937           0.826797   \n",
       "8           0.904844  ...           0.860313           0.808516   \n",
       "9           0.844375  ...           0.817187           0.740547   \n",
       "\n",
       "   split10_test_score  split11_test_score  split12_test_score  \\\n",
       "0            0.883750            0.845000            0.896250   \n",
       "1            0.863750            0.807969            0.847812   \n",
       "2            0.865156            0.811094            0.851875   \n",
       "3            0.883906            0.841250            0.894219   \n",
       "4            0.884219            0.845469            0.896094   \n",
       "5            0.870000            0.817188            0.863594   \n",
       "6            0.863594            0.808281            0.848281   \n",
       "7            0.885938            0.842969            0.897656   \n",
       "8            0.867344            0.813438            0.856875   \n",
       "9            0.805469            0.814688            0.815469   \n",
       "\n",
       "   split13_test_score  split14_test_score  mean_test_score  std_test_score  \\\n",
       "0            0.943281            0.882500         0.885990        0.036930   \n",
       "1            0.909844            0.819531         0.842542        0.045052   \n",
       "2            0.915000            0.822969         0.845490        0.044943   \n",
       "3            0.942344            0.877188         0.883396        0.038142   \n",
       "4            0.943281            0.883125         0.886188        0.036739   \n",
       "5            0.929688            0.828906         0.856312        0.044312   \n",
       "6            0.911250            0.820000         0.843021        0.044979   \n",
       "7            0.944063            0.880625         0.885583        0.036861   \n",
       "8            0.920469            0.824688         0.849104        0.045032   \n",
       "9            0.877188            0.847187         0.821146        0.031950   \n",
       "\n",
       "   rank_test_score  \n",
       "0                2  \n",
       "1                9  \n",
       "2                7  \n",
       "3                4  \n",
       "4                1  \n",
       "5                5  \n",
       "6                8  \n",
       "7                3  \n",
       "8                6  \n",
       "9               10  \n",
       "\n",
       "[10 rows x 26 columns]"
      ]
     },
     "execution_count": 116,
     "metadata": {},
     "output_type": "execute_result"
    }
   ],
   "source": [
    "print('Best params:', curr_search.best_params_)\n",
    "print('Best score:', curr_search.best_score_)\n",
    "print('Best pipeline:', curr_search.best_estimator_)\n",
    "print('Index of best pipeline:', curr_search.best_index_)\n",
    "results=pd.DataFrame(curr_search.cv_results_)\n",
    "results #see results of test"
   ]
  },
  {
   "cell_type": "code",
   "execution_count": 117,
   "id": "aa49aff0",
   "metadata": {},
   "outputs": [],
   "source": [
    "#getting a leaderboard score:\n",
    "x_test_df = pd.read_csv('data_reviews/x_test.csv')\n",
    "test_list_of_sentences = x_test_df['text'].str.cat(sep='\\n')"
   ]
  },
  {
   "cell_type": "code",
   "execution_count": 126,
   "id": "8494806b",
   "metadata": {},
   "outputs": [],
   "source": [
    "#cleaning test data"
   ]
  },
  {
   "cell_type": "code",
   "execution_count": 118,
   "id": "cdd656f7",
   "metadata": {},
   "outputs": [],
   "source": [
    "test_list_of_sentences = remove_non_alpha_num(test_list_of_sentences)"
   ]
  },
  {
   "cell_type": "code",
   "execution_count": 120,
   "id": "0cd26afb",
   "metadata": {},
   "outputs": [],
   "source": [
    "test_list_of_sentences = remove_stop_words(test_list_of_sentences, stop_words)"
   ]
  },
  {
   "cell_type": "code",
   "execution_count": 122,
   "id": "8969aa73",
   "metadata": {},
   "outputs": [],
   "source": [
    "#determining test data size\n",
    "list_of_sentences2 = test_list_of_sentences.split('\\n')\n",
    "Z = len(list_of_sentences2)\n",
    "x_tr_ZV = np.zeros((Z, V))"
   ]
  },
  {
   "cell_type": "code",
   "execution_count": 123,
   "id": "ed5cbc31",
   "metadata": {},
   "outputs": [],
   "source": [
    "for nn2, raw_text_line2 in enumerate(list_of_sentences2):\n",
    "    x_tr_ZV[nn2] = transform_text_into_feature_vector(raw_text_line2, vocab_dict)"
   ]
  },
  {
   "cell_type": "code",
   "execution_count": 124,
   "id": "30133fc6",
   "metadata": {},
   "outputs": [],
   "source": [
    "yhat_test_N = curr_search.predict_proba(x_tr_ZV)"
   ]
  },
  {
   "cell_type": "code",
   "execution_count": 125,
   "id": "af9f15e4",
   "metadata": {},
   "outputs": [],
   "source": [
    "np.savetxt(\"yproba1_test.txt\", yhat_test_N[:, 1])"
   ]
  },
  {
   "cell_type": "code",
   "execution_count": null,
   "id": "3ba2c3d3",
   "metadata": {},
   "outputs": [],
   "source": []
  }
 ],
 "metadata": {
  "kernelspec": {
   "display_name": "Python 3 (ipykernel)",
   "language": "python",
   "name": "python3"
  },
  "language_info": {
   "codemirror_mode": {
    "name": "ipython",
    "version": 3
   },
   "file_extension": ".py",
   "mimetype": "text/x-python",
   "name": "python",
   "nbconvert_exporter": "python",
   "pygments_lexer": "ipython3",
   "version": "3.10.12"
  }
 },
 "nbformat": 4,
 "nbformat_minor": 5
}
