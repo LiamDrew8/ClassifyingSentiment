{
 "cells": [
  {
   "cell_type": "code",
   "execution_count": 60,
   "id": "d8e42ead",
   "metadata": {},
   "outputs": [],
   "source": [
    "import numpy as np\n",
    "import pandas as pd\n",
    "import os\n",
    "from sklearn.feature_extraction.text import CountVectorizer\n",
    "\n",
    "if __name__ == '__main__':\n",
    "    data_dir = 'data_reviews'\n",
    "    x_train_df = pd.read_csv(os.path.join(data_dir, 'x_train.csv'))\n",
    "    y_train_df = pd.read_csv(os.path.join(data_dir, 'y_train.csv'))"
   ]
  },
  {
   "cell_type": "code",
   "execution_count": 61,
   "id": "7b0b7330",
   "metadata": {},
   "outputs": [],
   "source": [
    "#load data into python\n",
    "x_train_df = pd.read_csv('data_reviews/x_train.csv')\n",
    "#concatenating review to make string processing easier\n",
    "tr_list_of_sentences = x_train_df['text'].str.cat(sep='\\n')\n",
    "#tr_list_of_sentences"
   ]
  },
  {
   "cell_type": "code",
   "execution_count": 62,
   "id": "ee721f8c",
   "metadata": {},
   "outputs": [],
   "source": [
    "#interesting model stuff\n",
    "import sklearn\n",
    "from sklearn.model_selection import RandomizedSearchCV\n",
    "from sklearn.model_selection import GridSearchCV\n",
    "from scipy.stats import loguniform\n",
    "from sklearn.pipeline import Pipeline\n",
    "from sklearn.linear_model import LogisticRegression"
   ]
  },
  {
   "cell_type": "code",
   "execution_count": 63,
   "id": "20902d5d",
   "metadata": {},
   "outputs": [],
   "source": [
    "y_train_df = pd.read_csv('data_reviews/y_train.csv')\n",
    "y_tr_N = y_train_df.is_positive_sentiment.values.astype(float)"
   ]
  },
  {
   "cell_type": "code",
   "execution_count": null,
   "id": "1a4a8dbf",
   "metadata": {},
   "outputs": [],
   "source": []
  },
  {
   "cell_type": "markdown",
   "id": "719381bf",
   "metadata": {},
   "source": [
    "# Preprocessing"
   ]
  },
  {
   "cell_type": "code",
   "execution_count": 64,
   "id": "ee7c2a73",
   "metadata": {},
   "outputs": [
    {
     "data": {
      "text/plain": [
       "'\\nSteps:\\n1. Remove all non-alpha numeric characters from the string\\n2. Remove stop words\\n3. Correct spelling\\n\\n'"
      ]
     },
     "execution_count": 64,
     "metadata": {},
     "output_type": "execute_result"
    }
   ],
   "source": [
    "'''\n",
    "Steps:\n",
    "1. Remove all non-alpha numeric characters from the string\n",
    "2. Remove stop words\n",
    "3. Correct spelling\n",
    "\n",
    "'''"
   ]
  },
  {
   "cell_type": "code",
   "execution_count": 65,
   "id": "c9ce3af4",
   "metadata": {},
   "outputs": [],
   "source": [
    "#remove all non-alpha numeric characters from the string\n",
    "import re"
   ]
  },
  {
   "cell_type": "code",
   "execution_count": 66,
   "id": "e2f6180a",
   "metadata": {},
   "outputs": [],
   "source": [
    "#using regex to remove non_alphanum\n",
    "def remove_non_alpha_num(reviews_string):\n",
    "    s = re.sub(r'[!]', ' ! ', reviews_string)\n",
    "    s = re.sub(r'[?]', ' ? ', s)\n",
    "    s = re.sub(r'[.]', ' ', s)\n",
    "    s = re.sub(r'[^A-Za-z\\'\\n\\s!?]+', '', s)\n",
    "    s = s.lower()\n",
    "    return s\n",
    "               \n",
    "    \n",
    "    "
   ]
  },
  {
   "cell_type": "code",
   "execution_count": 67,
   "id": "316216c3",
   "metadata": {},
   "outputs": [
    {
     "data": {
      "text/plain": [
       "\"can't do this\""
      ]
     },
     "execution_count": 67,
     "metadata": {},
     "output_type": "execute_result"
    }
   ],
   "source": [
    "#Unit Tests\n",
    "remove_non_alpha_num(\"can't.do this\")\n",
    "#remove_non_alpha_num(\"!?hello *&*^*^\")"
   ]
  },
  {
   "cell_type": "code",
   "execution_count": 68,
   "id": "09187f97",
   "metadata": {},
   "outputs": [],
   "source": [
    "#remove stop words\n",
    "from nltk.tokenize import word_tokenize\n",
    "from nltk.corpus import stopwords\n",
    "from nltk.corpus import wordnet\n"
   ]
  },
  {
   "cell_type": "code",
   "execution_count": 69,
   "id": "ab7cedff",
   "metadata": {},
   "outputs": [],
   "source": [
    "#stop_words"
   ]
  },
  {
   "cell_type": "code",
   "execution_count": 70,
   "id": "53a35b87",
   "metadata": {},
   "outputs": [],
   "source": [
    "stop_words = set(stopwords.words('english'))\n",
    "stop_words = {word.replace(\"'\", '') for word in stop_words}\n",
    "toRemove = {\"not\", \"couldn't\", \"shouldn't\", \"didn't\", \"doesn't\", \"don't\", \"wasn't\", \"wouldn't\", \"won't\", \"again\"}\n",
    "for entry in toRemove:\n",
    "    stop_words.discard(entry)"
   ]
  },
  {
   "cell_type": "code",
   "execution_count": null,
   "id": "344670ce",
   "metadata": {},
   "outputs": [],
   "source": []
  },
  {
   "cell_type": "code",
   "execution_count": 71,
   "id": "20462bdb",
   "metadata": {},
   "outputs": [],
   "source": [
    "#https://www.geeksforgeeks.org/removing-stop-words-nltk-python/\n",
    "def remove_stop_words(reviews_string, remove_words):\n",
    "    reviews_list = reviews_string.split('\\n')\n",
    "    filtered_sentences = []\n",
    "    for review in reviews_list:\n",
    "        r = review.split()\n",
    "        filtered_words = [w for w in r if w not in remove_words]\n",
    "        filtered_sentence = ' '.join(filtered_words)\n",
    "        filtered_sentences.append(filtered_sentence)\n",
    "    \n",
    "    filtered_sentences = '\\n'.join(filtered_sentences)\n",
    "    return filtered_sentences\n",
    "    "
   ]
  },
  {
   "cell_type": "code",
   "execution_count": 72,
   "id": "f3316ba9",
   "metadata": {},
   "outputs": [],
   "source": [
    "\n",
    "#using the approach from lab\n",
    "def tokenize_text(raw_text):\n",
    "    ''' Transform a plain-text string into a list of tokens\n",
    "    \n",
    "    We assume that *whitespace* divides tokens.\n",
    "    \n",
    "    Args\n",
    "    ----\n",
    "    raw_text : string\n",
    "    \n",
    "    Returns\n",
    "    -------\n",
    "    list_of_tokens : list of strings\n",
    "        Each element is one token in the provided text\n",
    "    '''\n",
    "    list_of_tokens = raw_text.split() # split method divides on whitespace by default\n",
    "    for pp in range(len(list_of_tokens)):\n",
    "        cur_token = list_of_tokens[pp]\n",
    "        # Remove punctuation\n",
    "        for punc in ['_', '.', ',', '\"', '/']:\n",
    "            cur_token = cur_token.replace(punc, \"\")\n",
    "        # Turn to lower case\n",
    "        clean_token = cur_token.lower()\n",
    "        # Replace the cleaned token into the original list\n",
    "        list_of_tokens[pp] = clean_token\n",
    "    return list_of_tokens"
   ]
  },
  {
   "cell_type": "code",
   "execution_count": 73,
   "id": "3ba4519d",
   "metadata": {},
   "outputs": [
    {
     "data": {
      "text/plain": [
       "['!']"
      ]
     },
     "execution_count": 73,
     "metadata": {},
     "output_type": "execute_result"
    }
   ],
   "source": [
    "tokenize_text(\" ! \")"
   ]
  },
  {
   "cell_type": "code",
   "execution_count": 74,
   "id": "6fab8fae",
   "metadata": {},
   "outputs": [],
   "source": [
    "from spellchecker import SpellChecker"
   ]
  },
  {
   "cell_type": "code",
   "execution_count": 75,
   "id": "ac0afb0a",
   "metadata": {},
   "outputs": [],
   "source": [
    "#correct spelling\n",
    "#https://pyspellchecker.readthedocs.io/en/latest/\n",
    "def correct_spelling(reviews_string):\n",
    "    reviews_list = reviews_string.split('\\n')\n",
    "    correctly_spelled_sentences = []\n",
    "    \n",
    "    speller = SpellChecker()\n",
    "    \n",
    "    for review in reviews_list:\n",
    "        words = review.split()\n",
    "        correctly_spelled_words = [speller.correction(word) if speller.correction(word) is not None else word for word in words]\n",
    "        correct_sentence = ' '.join(correctly_spelled_words)\n",
    "        correctly_spelled_sentences.append(correct_sentence)\n",
    "    \n",
    "    corrected_reviews_string = '\\n'.join(correctly_spelled_sentences)\n",
    "    return corrected_reviews_string\n"
   ]
  },
  {
   "cell_type": "code",
   "execution_count": 76,
   "id": "76dd5d67",
   "metadata": {},
   "outputs": [],
   "source": [
    "import nltk\n",
    "#nltk.download('averaged_perceptron_tagger')\n",
    "from nltk.stem import WordNetLemmatizer\n",
    "#nltk.download('wordnet')"
   ]
  },
  {
   "cell_type": "code",
   "execution_count": 77,
   "id": "50ef51ed",
   "metadata": {},
   "outputs": [
    {
     "data": {
      "text/plain": [
       "'N'"
      ]
     },
     "execution_count": 77,
     "metadata": {},
     "output_type": "execute_result"
    }
   ],
   "source": [
    "nltk.pos_tag([\"beautiful\"])[0][1][0]"
   ]
  },
  {
   "cell_type": "code",
   "execution_count": 78,
   "id": "99e6d885",
   "metadata": {},
   "outputs": [],
   "source": [
    "#https://www.geeksforgeeks.org/part-speech-tagging-stop-words-using-nltk-python/\n",
    "#nltk.pos_tag([\"hello\"])[0][1][0].lower()\n",
    "def get_pos_tag(word):\n",
    "    word_tag = nltk.pos_tag([word])[0][1][0].lower()\n",
    "    tag_dict = {\"j\": wordnet.ADJ, \"n\": wordnet.NOUN, \"v\": wordnet.VERB, \"r\": wordnet.ADV}\n",
    "    \n",
    "    return tag_dict.get(word_tag, \"n\")\n"
   ]
  },
  {
   "cell_type": "code",
   "execution_count": null,
   "id": "3a4c199d",
   "metadata": {},
   "outputs": [],
   "source": []
  },
  {
   "cell_type": "code",
   "execution_count": null,
   "id": "331eafc8",
   "metadata": {},
   "outputs": [],
   "source": []
  },
  {
   "cell_type": "code",
   "execution_count": 79,
   "id": "9434e01d",
   "metadata": {},
   "outputs": [],
   "source": [
    "def lemmatize_words(reviews_string):\n",
    "    reviews_list = reviews_string.split('\\n')\n",
    "    wnl = WordNetLemmatizer()\n",
    "    \n",
    "    \n",
    "    lemmatized_text = [\" \".join([wnl.lemmatize(word, get_pos_tag(word)) for word in tokenize_text(review)]) for review in reviews_list]\n",
    "    \n",
    "    lemmatized_data = \"\\n\".join(lemmatized_text)\n",
    "    \n",
    "    return lemmatized_data\n",
    "\n"
   ]
  },
  {
   "cell_type": "code",
   "execution_count": null,
   "id": "5fb99fbb",
   "metadata": {},
   "outputs": [],
   "source": []
  },
  {
   "cell_type": "code",
   "execution_count": 80,
   "id": "8d025b0d",
   "metadata": {},
   "outputs": [],
   "source": [
    "#The following code is from the Bag of Words Lab\n",
    "\n",
    "def create_tok_count(list_of_sentences):\n",
    "    \n",
    "    tok_count_dict = dict()\n",
    "\n",
    "    for line in list_of_sentences:\n",
    "        tok_list = tokenize_text(line)\n",
    "        for tok in tok_list:\n",
    "            if tok in tok_count_dict:\n",
    "                tok_count_dict[tok] += 1\n",
    "            else:\n",
    "                tok_count_dict[tok] = 1\n",
    "                    \n",
    "    return tok_count_dict"
   ]
  },
  {
   "cell_type": "code",
   "execution_count": 81,
   "id": "011088e2",
   "metadata": {},
   "outputs": [],
   "source": [
    "import afinn"
   ]
  },
  {
   "cell_type": "code",
   "execution_count": 82,
   "id": "b1dcadba",
   "metadata": {},
   "outputs": [],
   "source": [
    "\n",
    "from afinn import Afinn\n",
    "\n",
    "def determine_sentiment(word):\n",
    "    afinn = Afinn()\n",
    "    score = afinn.score(word)\n",
    "    \n",
    "    if score > 0:\n",
    "        return 1  # Positive sentiment\n",
    "    elif score < 0:\n",
    "        return -1  # Negative sentiment\n",
    "    else:\n",
    "        return 0  # Neutral/Indeterminate sentiment\n",
    "\n"
   ]
  },
  {
   "cell_type": "code",
   "execution_count": 83,
   "id": "85be0956",
   "metadata": {},
   "outputs": [
    {
     "name": "stdout",
     "output_type": "stream",
     "text": [
      "0\n"
     ]
    }
   ],
   "source": [
    "# Example usage\n",
    "word = \"okay\"\n",
    "result = determine_sentiment(word)\n",
    "print(result)  # 1 for positive sentiment"
   ]
  },
  {
   "cell_type": "code",
   "execution_count": 84,
   "id": "9c08d1f0",
   "metadata": {},
   "outputs": [],
   "source": [
    "FREQ_THRESHOLD = 2\n",
    "def build_vocab_list(reviews_string):\n",
    "    list_of_sentences = reviews_string.split('\\n')\n",
    "    \n",
    "    tok_count_dict = create_tok_count(list_of_sentences)\n",
    "    sorted_tokens = list(sorted(tok_count_dict, key=tok_count_dict.get, reverse=True))\n",
    "    \n",
    "    vocab_list = [w for w in sorted_tokens[:] if ((tok_count_dict[w] >= FREQ_THRESHOLD) or (determine_sentiment(w) != 0))]\n",
    "    #vocab_list = [w for w in sorted_tokens[:] if ((tok_count_dict[w] >= FREQ_THRESHOLD))]\n",
    "    \n",
    "    vocab_dict = dict()\n",
    "    for vocab_id, tok in enumerate(vocab_list):\n",
    "        vocab_dict[tok] = vocab_id\n",
    "    \n",
    "    return vocab_dict, len(list_of_sentences), len(vocab_list)\n",
    "    "
   ]
  },
  {
   "cell_type": "code",
   "execution_count": 85,
   "id": "2767db2c",
   "metadata": {},
   "outputs": [],
   "source": [
    "\n",
    "# list_of_sentences = reviews_string.split('\\n')\n",
    "    \n",
    "# tok_count_dict = create_tok_count(list_of_sentences)\n",
    "# sorted_tokens = list(sorted(tok_count_dict, key=tok_count_dict.get, reverse=True))\n",
    "\n",
    "# vocab_list = [w for w in sorted_tokens[:] if tok_count_dict[w] >= FREQ_THRESHOLD]\n",
    "\n",
    "# vocab_dict = dict()\n",
    "# for vocab_id, tok in enumerate(vocab_list):\n",
    "#     vocab_dict[tok] = vocab_id\n",
    "\n",
    "    "
   ]
  },
  {
   "cell_type": "code",
   "execution_count": 86,
   "id": "ed3f9cb1",
   "metadata": {},
   "outputs": [],
   "source": [
    "# tok_count_dict[sorted_tokens[0]]\n",
    "# sorted_tokens[0]"
   ]
  },
  {
   "cell_type": "code",
   "execution_count": 87,
   "id": "e5745a47",
   "metadata": {},
   "outputs": [],
   "source": [
    "def transform_text_into_feature_vector(text, vocab_dict):\n",
    "    ''' Produce count feature vector for provided text\n",
    "    \n",
    "    Args\n",
    "    ----\n",
    "    text : string\n",
    "        A string of raw text, representing a single 'review'\n",
    "    vocab_dict : dict with string keys\n",
    "        If token is in vocabulary, will exist as key in the dict\n",
    "        If token is not in vocabulary, will not be in the dict\n",
    "\n",
    "    Returns\n",
    "    -------\n",
    "    count_V : 1D numpy array, shape (V,) = (n_vocab,)\n",
    "        Count vector, indicating how often each vocab word\n",
    "        appears in the provided text string\n",
    "    '''\n",
    "    V = len(vocab_dict.keys())\n",
    "    count_V = np.zeros(V)\n",
    "    for tok in tokenize_text(text):\n",
    "        if tok in vocab_dict:\n",
    "            vv = vocab_dict[tok]\n",
    "            count_V[vv] += 1\n",
    "    return count_V"
   ]
  },
  {
   "cell_type": "code",
   "execution_count": null,
   "id": "5fb78b93",
   "metadata": {},
   "outputs": [],
   "source": []
  },
  {
   "cell_type": "code",
   "execution_count": 88,
   "id": "beb6b7c1",
   "metadata": {},
   "outputs": [],
   "source": [
    "#DO NOT TOUCH THESE: THEY TAKE A LONG TIME TO RUN"
   ]
  },
  {
   "cell_type": "code",
   "execution_count": 89,
   "id": "242e52b7",
   "metadata": {},
   "outputs": [],
   "source": [
    "def preprocess_string(tr_list_of_sentences):\n",
    "    original_review_string = tr_list_of_sentences\n",
    "    reviews_string = remove_non_alpha_num(tr_list_of_sentences)\n",
    "    reviews_string = correct_spelling(reviews_string)\n",
    "    reviews_string = lemmatize_words(reviews_string)\n",
    "    reviews_string = remove_stop_words(reviews_string, stop_words)\n",
    "    return reviews_string, original_review_string"
   ]
  },
  {
   "cell_type": "code",
   "execution_count": 90,
   "id": "55ebb7fc",
   "metadata": {},
   "outputs": [],
   "source": [
    "\n",
    "reviews_string, original_review_string = preprocess_string(tr_list_of_sentences)"
   ]
  },
  {
   "cell_type": "code",
   "execution_count": 91,
   "id": "8146f2bb",
   "metadata": {},
   "outputs": [],
   "source": [
    "\n",
    "# original_review_string = tr_list_of_sentences\n",
    "# reviews_string = remove_non_alpha_num(tr_list_of_sentences)\n",
    "# reviews_string = correct_spelling(reviews_string)\n",
    "# reviews_string = lemmatize_words(reviews_string)"
   ]
  },
  {
   "cell_type": "code",
   "execution_count": 92,
   "id": "885238cb",
   "metadata": {},
   "outputs": [],
   "source": [
    "# reviews_string = remove_stop_words(reviews_string, stop_words)"
   ]
  },
  {
   "cell_type": "code",
   "execution_count": 93,
   "id": "d7d043a2",
   "metadata": {},
   "outputs": [],
   "source": [
    "#original_review_string = tr_list_of_sentences\n",
    "# reviews_string"
   ]
  },
  {
   "cell_type": "code",
   "execution_count": 94,
   "id": "b8217fcd",
   "metadata": {},
   "outputs": [],
   "source": [
    "#I think I have just improved the text processing. Let's see what models can do for me now"
   ]
  },
  {
   "cell_type": "code",
   "execution_count": null,
   "id": "913f8c55",
   "metadata": {},
   "outputs": [],
   "source": []
  },
  {
   "cell_type": "code",
   "execution_count": 95,
   "id": "03414361",
   "metadata": {},
   "outputs": [],
   "source": [
    "ngram_tuple = (1, 1)"
   ]
  },
  {
   "cell_type": "code",
   "execution_count": 96,
   "id": "81e99d9a",
   "metadata": {},
   "outputs": [],
   "source": [
    "\n",
    "vectorizer = CountVectorizer(ngram_range = ngram_tuple)\n",
    "X = vectorizer.fit_transform(reviews_string.split(\"\\n\"))\n",
    "x_prepared_NV = X.toarray()"
   ]
  },
  {
   "cell_type": "code",
   "execution_count": 97,
   "id": "a6d073d4",
   "metadata": {},
   "outputs": [
    {
     "data": {
      "text/plain": [
       "3620"
      ]
     },
     "execution_count": 97,
     "metadata": {},
     "output_type": "execute_result"
    }
   ],
   "source": [
    "V = x_prepared_NV.shape[1]\n",
    "V"
   ]
  },
  {
   "cell_type": "code",
   "execution_count": null,
   "id": "906f8005",
   "metadata": {},
   "outputs": [],
   "source": []
  },
  {
   "cell_type": "code",
   "execution_count": null,
   "id": "52989e49",
   "metadata": {},
   "outputs": [],
   "source": []
  },
  {
   "cell_type": "code",
   "execution_count": null,
   "id": "2147868b",
   "metadata": {},
   "outputs": [],
   "source": []
  },
  {
   "cell_type": "code",
   "execution_count": 98,
   "id": "17195dd7",
   "metadata": {},
   "outputs": [],
   "source": [
    "vocab_dict, N, V = build_vocab_list(reviews_string)\n",
    "x_prepared_NV = np.zeros((N, V))\n",
    "for nn, raw_text_line in enumerate(reviews_string.split(\"\\n\")):\n",
    "    x_prepared_NV[nn] = transform_text_into_feature_vector(raw_text_line, vocab_dict)"
   ]
  },
  {
   "cell_type": "code",
   "execution_count": null,
   "id": "30df88ab",
   "metadata": {},
   "outputs": [],
   "source": []
  },
  {
   "cell_type": "markdown",
   "id": "1d365119",
   "metadata": {},
   "source": [
    "# Creating Model"
   ]
  },
  {
   "cell_type": "code",
   "execution_count": null,
   "id": "88b78f63",
   "metadata": {},
   "outputs": [],
   "source": []
  },
  {
   "cell_type": "code",
   "execution_count": null,
   "id": "02ae9bed",
   "metadata": {},
   "outputs": [],
   "source": []
  },
  {
   "cell_type": "code",
   "execution_count": null,
   "id": "a30342bf",
   "metadata": {},
   "outputs": [],
   "source": []
  },
  {
   "cell_type": "code",
   "execution_count": null,
   "id": "dacf8a39",
   "metadata": {},
   "outputs": [],
   "source": []
  },
  {
   "cell_type": "code",
   "execution_count": 99,
   "id": "55c0bfba",
   "metadata": {},
   "outputs": [],
   "source": [
    "model = sklearn.linear_model.LogisticRegression(solver='lbfgs', max_iter=300)\n",
    "SEED = 2\n",
    "FOLDS = 15\n"
   ]
  },
  {
   "cell_type": "code",
   "execution_count": null,
   "id": "ab7c6126",
   "metadata": {},
   "outputs": [],
   "source": []
  },
  {
   "cell_type": "code",
   "execution_count": 100,
   "id": "fe8e178e",
   "metadata": {},
   "outputs": [],
   "source": [
    "cRange = loguniform(1e-3, 1e3)\n",
    "tol = [0, 1e-1,1e-2,1e-3,1e-4,1e-5]\n",
    "C_grid = np.logspace(-6, 3, 30)"
   ]
  },
  {
   "cell_type": "code",
   "execution_count": 101,
   "id": "135dd9c3",
   "metadata": {},
   "outputs": [],
   "source": [
    "#solver 'lbfgs' does not support an l1 penalty\n",
    "distributions = {\n",
    "    'C': C_grid,\n",
    "    'penalty': ['l2']\n",
    "    #'tol': tol,\n",
    "    #'fit_intercept': [True, False]\n",
    "}"
   ]
  },
  {
   "cell_type": "code",
   "execution_count": null,
   "id": "418a3c46",
   "metadata": {},
   "outputs": [],
   "source": []
  },
  {
   "cell_type": "code",
   "execution_count": 102,
   "id": "b33aa2a5",
   "metadata": {},
   "outputs": [],
   "source": [
    "curr_search = RandomizedSearchCV(\n",
    "    estimator = model,\n",
    "    param_distributions = distributions,\n",
    "    scoring = 'roc_auc',\n",
    "    cv = FOLDS,\n",
    "    return_train_score = True\n",
    "    \n",
    "    )"
   ]
  },
  {
   "cell_type": "code",
   "execution_count": 103,
   "id": "45765969",
   "metadata": {},
   "outputs": [],
   "source": [
    "import matplotlib\n",
    "import matplotlib.pyplot as plt"
   ]
  },
  {
   "cell_type": "code",
   "execution_count": 104,
   "id": "3ffacf24",
   "metadata": {},
   "outputs": [],
   "source": [
    "# C_grid = np.logspace(-6, 2, 30)\n",
    "# C_grid"
   ]
  },
  {
   "cell_type": "code",
   "execution_count": null,
   "id": "8895496d",
   "metadata": {},
   "outputs": [],
   "source": []
  },
  {
   "cell_type": "code",
   "execution_count": null,
   "id": "24936a14",
   "metadata": {},
   "outputs": [],
   "source": []
  },
  {
   "cell_type": "code",
   "execution_count": 105,
   "id": "b0de420a",
   "metadata": {},
   "outputs": [],
   "source": [
    "#all of a sudden this takes a really long time, which is frustrating"
   ]
  },
  {
   "cell_type": "code",
   "execution_count": 106,
   "id": "ebface95",
   "metadata": {},
   "outputs": [
    {
     "data": {
      "text/html": [
       "<style>#sk-container-id-3 {color: black;background-color: white;}#sk-container-id-3 pre{padding: 0;}#sk-container-id-3 div.sk-toggleable {background-color: white;}#sk-container-id-3 label.sk-toggleable__label {cursor: pointer;display: block;width: 100%;margin-bottom: 0;padding: 0.3em;box-sizing: border-box;text-align: center;}#sk-container-id-3 label.sk-toggleable__label-arrow:before {content: \"▸\";float: left;margin-right: 0.25em;color: #696969;}#sk-container-id-3 label.sk-toggleable__label-arrow:hover:before {color: black;}#sk-container-id-3 div.sk-estimator:hover label.sk-toggleable__label-arrow:before {color: black;}#sk-container-id-3 div.sk-toggleable__content {max-height: 0;max-width: 0;overflow: hidden;text-align: left;background-color: #f0f8ff;}#sk-container-id-3 div.sk-toggleable__content pre {margin: 0.2em;color: black;border-radius: 0.25em;background-color: #f0f8ff;}#sk-container-id-3 input.sk-toggleable__control:checked~div.sk-toggleable__content {max-height: 200px;max-width: 100%;overflow: auto;}#sk-container-id-3 input.sk-toggleable__control:checked~label.sk-toggleable__label-arrow:before {content: \"▾\";}#sk-container-id-3 div.sk-estimator input.sk-toggleable__control:checked~label.sk-toggleable__label {background-color: #d4ebff;}#sk-container-id-3 div.sk-label input.sk-toggleable__control:checked~label.sk-toggleable__label {background-color: #d4ebff;}#sk-container-id-3 input.sk-hidden--visually {border: 0;clip: rect(1px 1px 1px 1px);clip: rect(1px, 1px, 1px, 1px);height: 1px;margin: -1px;overflow: hidden;padding: 0;position: absolute;width: 1px;}#sk-container-id-3 div.sk-estimator {font-family: monospace;background-color: #f0f8ff;border: 1px dotted black;border-radius: 0.25em;box-sizing: border-box;margin-bottom: 0.5em;}#sk-container-id-3 div.sk-estimator:hover {background-color: #d4ebff;}#sk-container-id-3 div.sk-parallel-item::after {content: \"\";width: 100%;border-bottom: 1px solid gray;flex-grow: 1;}#sk-container-id-3 div.sk-label:hover label.sk-toggleable__label {background-color: #d4ebff;}#sk-container-id-3 div.sk-serial::before {content: \"\";position: absolute;border-left: 1px solid gray;box-sizing: border-box;top: 0;bottom: 0;left: 50%;z-index: 0;}#sk-container-id-3 div.sk-serial {display: flex;flex-direction: column;align-items: center;background-color: white;padding-right: 0.2em;padding-left: 0.2em;position: relative;}#sk-container-id-3 div.sk-item {position: relative;z-index: 1;}#sk-container-id-3 div.sk-parallel {display: flex;align-items: stretch;justify-content: center;background-color: white;position: relative;}#sk-container-id-3 div.sk-item::before, #sk-container-id-3 div.sk-parallel-item::before {content: \"\";position: absolute;border-left: 1px solid gray;box-sizing: border-box;top: 0;bottom: 0;left: 50%;z-index: -1;}#sk-container-id-3 div.sk-parallel-item {display: flex;flex-direction: column;z-index: 1;position: relative;background-color: white;}#sk-container-id-3 div.sk-parallel-item:first-child::after {align-self: flex-end;width: 50%;}#sk-container-id-3 div.sk-parallel-item:last-child::after {align-self: flex-start;width: 50%;}#sk-container-id-3 div.sk-parallel-item:only-child::after {width: 0;}#sk-container-id-3 div.sk-dashed-wrapped {border: 1px dashed gray;margin: 0 0.4em 0.5em 0.4em;box-sizing: border-box;padding-bottom: 0.4em;background-color: white;}#sk-container-id-3 div.sk-label label {font-family: monospace;font-weight: bold;display: inline-block;line-height: 1.2em;}#sk-container-id-3 div.sk-label-container {text-align: center;}#sk-container-id-3 div.sk-container {/* jupyter's `normalize.less` sets `[hidden] { display: none; }` but bootstrap.min.css set `[hidden] { display: none !important; }` so we also need the `!important` here to be able to override the default hidden behavior on the sphinx rendered scikit-learn.org. See: https://github.com/scikit-learn/scikit-learn/issues/21755 */display: inline-block !important;position: relative;}#sk-container-id-3 div.sk-text-repr-fallback {display: none;}</style><div id=\"sk-container-id-3\" class=\"sk-top-container\"><div class=\"sk-text-repr-fallback\"><pre>RandomizedSearchCV(cv=15, estimator=LogisticRegression(max_iter=300),\n",
       "                   param_distributions={&#x27;C&#x27;: array([1.00000000e-06, 2.04335972e-06, 4.17531894e-06, 8.53167852e-06,\n",
       "       1.74332882e-05, 3.56224789e-05, 7.27895384e-05, 1.48735211e-04,\n",
       "       3.03919538e-04, 6.21016942e-04, 1.26896100e-03, 2.59294380e-03,\n",
       "       5.29831691e-03, 1.08263673e-02, 2.21221629e-02, 4.52035366e-02,\n",
       "       9.23670857e-02, 1.88739182e-01, 3.85662042e-01, 7.88046282e-01,\n",
       "       1.61026203e+00, 3.29034456e+00, 6.72335754e+00, 1.37382380e+01,\n",
       "       2.80721620e+01, 5.73615251e+01, 1.17210230e+02, 2.39502662e+02,\n",
       "       4.89390092e+02, 1.00000000e+03]),\n",
       "                                        &#x27;penalty&#x27;: [&#x27;l2&#x27;]},\n",
       "                   return_train_score=True, scoring=&#x27;roc_auc&#x27;)</pre><b>In a Jupyter environment, please rerun this cell to show the HTML representation or trust the notebook. <br />On GitHub, the HTML representation is unable to render, please try loading this page with nbviewer.org.</b></div><div class=\"sk-container\" hidden><div class=\"sk-item sk-dashed-wrapped\"><div class=\"sk-label-container\"><div class=\"sk-label sk-toggleable\"><input class=\"sk-toggleable__control sk-hidden--visually\" id=\"sk-estimator-id-5\" type=\"checkbox\" ><label for=\"sk-estimator-id-5\" class=\"sk-toggleable__label sk-toggleable__label-arrow\">RandomizedSearchCV</label><div class=\"sk-toggleable__content\"><pre>RandomizedSearchCV(cv=15, estimator=LogisticRegression(max_iter=300),\n",
       "                   param_distributions={&#x27;C&#x27;: array([1.00000000e-06, 2.04335972e-06, 4.17531894e-06, 8.53167852e-06,\n",
       "       1.74332882e-05, 3.56224789e-05, 7.27895384e-05, 1.48735211e-04,\n",
       "       3.03919538e-04, 6.21016942e-04, 1.26896100e-03, 2.59294380e-03,\n",
       "       5.29831691e-03, 1.08263673e-02, 2.21221629e-02, 4.52035366e-02,\n",
       "       9.23670857e-02, 1.88739182e-01, 3.85662042e-01, 7.88046282e-01,\n",
       "       1.61026203e+00, 3.29034456e+00, 6.72335754e+00, 1.37382380e+01,\n",
       "       2.80721620e+01, 5.73615251e+01, 1.17210230e+02, 2.39502662e+02,\n",
       "       4.89390092e+02, 1.00000000e+03]),\n",
       "                                        &#x27;penalty&#x27;: [&#x27;l2&#x27;]},\n",
       "                   return_train_score=True, scoring=&#x27;roc_auc&#x27;)</pre></div></div></div><div class=\"sk-parallel\"><div class=\"sk-parallel-item\"><div class=\"sk-item\"><div class=\"sk-label-container\"><div class=\"sk-label sk-toggleable\"><input class=\"sk-toggleable__control sk-hidden--visually\" id=\"sk-estimator-id-6\" type=\"checkbox\" ><label for=\"sk-estimator-id-6\" class=\"sk-toggleable__label sk-toggleable__label-arrow\">estimator: LogisticRegression</label><div class=\"sk-toggleable__content\"><pre>LogisticRegression(max_iter=300)</pre></div></div></div><div class=\"sk-serial\"><div class=\"sk-item\"><div class=\"sk-estimator sk-toggleable\"><input class=\"sk-toggleable__control sk-hidden--visually\" id=\"sk-estimator-id-7\" type=\"checkbox\" ><label for=\"sk-estimator-id-7\" class=\"sk-toggleable__label sk-toggleable__label-arrow\">LogisticRegression</label><div class=\"sk-toggleable__content\"><pre>LogisticRegression(max_iter=300)</pre></div></div></div></div></div></div></div></div></div></div>"
      ],
      "text/plain": [
       "RandomizedSearchCV(cv=15, estimator=LogisticRegression(max_iter=300),\n",
       "                   param_distributions={'C': array([1.00000000e-06, 2.04335972e-06, 4.17531894e-06, 8.53167852e-06,\n",
       "       1.74332882e-05, 3.56224789e-05, 7.27895384e-05, 1.48735211e-04,\n",
       "       3.03919538e-04, 6.21016942e-04, 1.26896100e-03, 2.59294380e-03,\n",
       "       5.29831691e-03, 1.08263673e-02, 2.21221629e-02, 4.52035366e-02,\n",
       "       9.23670857e-02, 1.88739182e-01, 3.85662042e-01, 7.88046282e-01,\n",
       "       1.61026203e+00, 3.29034456e+00, 6.72335754e+00, 1.37382380e+01,\n",
       "       2.80721620e+01, 5.73615251e+01, 1.17210230e+02, 2.39502662e+02,\n",
       "       4.89390092e+02, 1.00000000e+03]),\n",
       "                                        'penalty': ['l2']},\n",
       "                   return_train_score=True, scoring='roc_auc')"
      ]
     },
     "execution_count": 106,
     "metadata": {},
     "output_type": "execute_result"
    }
   ],
   "source": [
    "curr_search.fit(x_prepared_NV, y_tr_N)"
   ]
  },
  {
   "cell_type": "code",
   "execution_count": null,
   "id": "2df1bb7d",
   "metadata": {},
   "outputs": [],
   "source": []
  },
  {
   "cell_type": "code",
   "execution_count": 107,
   "id": "1ccc43ff",
   "metadata": {},
   "outputs": [],
   "source": [
    "#Best score:\n",
    "#ngrams: \n",
    "# (1, 2) 0.90636\n",
    "# (2, 2) 0.74 (absolute garbage, clearly I need the 1)\n",
    "# (1, 3) 0.90410 (I am thinking that anything beyond 2 n grams isn't super helpful)"
   ]
  },
  {
   "cell_type": "code",
   "execution_count": 108,
   "id": "fb86e65a",
   "metadata": {},
   "outputs": [
    {
     "name": "stdout",
     "output_type": "stream",
     "text": [
      "Best params: {'penalty': 'l2', 'C': 0.7880462815669921}\n",
      "Best score: 0.8957291666666667\n",
      "Best pipeline: LogisticRegression(C=0.7880462815669921, max_iter=300)\n",
      "Index of best pipeline: 8\n"
     ]
    },
    {
     "data": {
      "text/html": [
       "<div>\n",
       "<style scoped>\n",
       "    .dataframe tbody tr th:only-of-type {\n",
       "        vertical-align: middle;\n",
       "    }\n",
       "\n",
       "    .dataframe tbody tr th {\n",
       "        vertical-align: top;\n",
       "    }\n",
       "\n",
       "    .dataframe thead th {\n",
       "        text-align: right;\n",
       "    }\n",
       "</style>\n",
       "<table border=\"1\" class=\"dataframe\">\n",
       "  <thead>\n",
       "    <tr style=\"text-align: right;\">\n",
       "      <th></th>\n",
       "      <th>mean_fit_time</th>\n",
       "      <th>std_fit_time</th>\n",
       "      <th>mean_score_time</th>\n",
       "      <th>std_score_time</th>\n",
       "      <th>param_penalty</th>\n",
       "      <th>param_C</th>\n",
       "      <th>params</th>\n",
       "      <th>split0_test_score</th>\n",
       "      <th>split1_test_score</th>\n",
       "      <th>split2_test_score</th>\n",
       "      <th>...</th>\n",
       "      <th>split7_train_score</th>\n",
       "      <th>split8_train_score</th>\n",
       "      <th>split9_train_score</th>\n",
       "      <th>split10_train_score</th>\n",
       "      <th>split11_train_score</th>\n",
       "      <th>split12_train_score</th>\n",
       "      <th>split13_train_score</th>\n",
       "      <th>split14_train_score</th>\n",
       "      <th>mean_train_score</th>\n",
       "      <th>std_train_score</th>\n",
       "    </tr>\n",
       "  </thead>\n",
       "  <tbody>\n",
       "    <tr>\n",
       "      <th>0</th>\n",
       "      <td>0.035647</td>\n",
       "      <td>0.006019</td>\n",
       "      <td>0.001883</td>\n",
       "      <td>0.000257</td>\n",
       "      <td>l2</td>\n",
       "      <td>0.000304</td>\n",
       "      <td>{'penalty': 'l2', 'C': 0.0003039195382313198}</td>\n",
       "      <td>0.839688</td>\n",
       "      <td>0.894375</td>\n",
       "      <td>0.881406</td>\n",
       "      <td>...</td>\n",
       "      <td>0.859207</td>\n",
       "      <td>0.857821</td>\n",
       "      <td>0.859856</td>\n",
       "      <td>0.862045</td>\n",
       "      <td>0.860215</td>\n",
       "      <td>0.858873</td>\n",
       "      <td>0.856602</td>\n",
       "      <td>0.858687</td>\n",
       "      <td>0.858293</td>\n",
       "      <td>0.002224</td>\n",
       "    </tr>\n",
       "    <tr>\n",
       "      <th>1</th>\n",
       "      <td>0.020201</td>\n",
       "      <td>0.001282</td>\n",
       "      <td>0.001711</td>\n",
       "      <td>0.000107</td>\n",
       "      <td>l2</td>\n",
       "      <td>0.000002</td>\n",
       "      <td>{'penalty': 'l2', 'C': 2.0433597178569437e-06}</td>\n",
       "      <td>0.837969</td>\n",
       "      <td>0.893437</td>\n",
       "      <td>0.880469</td>\n",
       "      <td>...</td>\n",
       "      <td>0.857960</td>\n",
       "      <td>0.856576</td>\n",
       "      <td>0.858645</td>\n",
       "      <td>0.861220</td>\n",
       "      <td>0.859208</td>\n",
       "      <td>0.857871</td>\n",
       "      <td>0.855454</td>\n",
       "      <td>0.857628</td>\n",
       "      <td>0.857170</td>\n",
       "      <td>0.002298</td>\n",
       "    </tr>\n",
       "    <tr>\n",
       "      <th>2</th>\n",
       "      <td>0.021703</td>\n",
       "      <td>0.002052</td>\n",
       "      <td>0.001741</td>\n",
       "      <td>0.000137</td>\n",
       "      <td>l2</td>\n",
       "      <td>0.000004</td>\n",
       "      <td>{'penalty': 'l2', 'C': 4.1753189365604e-06}</td>\n",
       "      <td>0.837969</td>\n",
       "      <td>0.893437</td>\n",
       "      <td>0.880469</td>\n",
       "      <td>...</td>\n",
       "      <td>0.857960</td>\n",
       "      <td>0.856576</td>\n",
       "      <td>0.858645</td>\n",
       "      <td>0.861220</td>\n",
       "      <td>0.859208</td>\n",
       "      <td>0.857871</td>\n",
       "      <td>0.855454</td>\n",
       "      <td>0.857628</td>\n",
       "      <td>0.857170</td>\n",
       "      <td>0.002298</td>\n",
       "    </tr>\n",
       "    <tr>\n",
       "      <th>3</th>\n",
       "      <td>0.021449</td>\n",
       "      <td>0.002208</td>\n",
       "      <td>0.001777</td>\n",
       "      <td>0.000205</td>\n",
       "      <td>l2</td>\n",
       "      <td>0.000017</td>\n",
       "      <td>{'penalty': 'l2', 'C': 1.7433288221999873e-05}</td>\n",
       "      <td>0.837969</td>\n",
       "      <td>0.893437</td>\n",
       "      <td>0.880469</td>\n",
       "      <td>...</td>\n",
       "      <td>0.857971</td>\n",
       "      <td>0.856579</td>\n",
       "      <td>0.858648</td>\n",
       "      <td>0.861220</td>\n",
       "      <td>0.859211</td>\n",
       "      <td>0.857871</td>\n",
       "      <td>0.855454</td>\n",
       "      <td>0.857630</td>\n",
       "      <td>0.857172</td>\n",
       "      <td>0.002299</td>\n",
       "    </tr>\n",
       "    <tr>\n",
       "      <th>4</th>\n",
       "      <td>0.472536</td>\n",
       "      <td>0.039210</td>\n",
       "      <td>0.001916</td>\n",
       "      <td>0.000177</td>\n",
       "      <td>l2</td>\n",
       "      <td>117.21023</td>\n",
       "      <td>{'penalty': 'l2', 'C': 117.21022975334793}</td>\n",
       "      <td>0.870156</td>\n",
       "      <td>0.898125</td>\n",
       "      <td>0.872188</td>\n",
       "      <td>...</td>\n",
       "      <td>0.999795</td>\n",
       "      <td>0.999847</td>\n",
       "      <td>0.999899</td>\n",
       "      <td>0.999954</td>\n",
       "      <td>0.999860</td>\n",
       "      <td>0.999820</td>\n",
       "      <td>0.999929</td>\n",
       "      <td>0.999841</td>\n",
       "      <td>0.999865</td>\n",
       "      <td>0.000054</td>\n",
       "    </tr>\n",
       "    <tr>\n",
       "      <th>5</th>\n",
       "      <td>0.111741</td>\n",
       "      <td>0.013643</td>\n",
       "      <td>0.002221</td>\n",
       "      <td>0.000434</td>\n",
       "      <td>l2</td>\n",
       "      <td>0.385662</td>\n",
       "      <td>{'penalty': 'l2', 'C': 0.38566204211634725}</td>\n",
       "      <td>0.934063</td>\n",
       "      <td>0.959375</td>\n",
       "      <td>0.926094</td>\n",
       "      <td>...</td>\n",
       "      <td>0.970525</td>\n",
       "      <td>0.970863</td>\n",
       "      <td>0.970698</td>\n",
       "      <td>0.970783</td>\n",
       "      <td>0.970552</td>\n",
       "      <td>0.970794</td>\n",
       "      <td>0.970648</td>\n",
       "      <td>0.970448</td>\n",
       "      <td>0.970659</td>\n",
       "      <td>0.000561</td>\n",
       "    </tr>\n",
       "    <tr>\n",
       "      <th>6</th>\n",
       "      <td>0.319254</td>\n",
       "      <td>0.033486</td>\n",
       "      <td>0.002416</td>\n",
       "      <td>0.000340</td>\n",
       "      <td>l2</td>\n",
       "      <td>13.738238</td>\n",
       "      <td>{'penalty': 'l2', 'C': 13.738237958832638}</td>\n",
       "      <td>0.905625</td>\n",
       "      <td>0.931875</td>\n",
       "      <td>0.911406</td>\n",
       "      <td>...</td>\n",
       "      <td>0.997710</td>\n",
       "      <td>0.998062</td>\n",
       "      <td>0.998161</td>\n",
       "      <td>0.998366</td>\n",
       "      <td>0.997928</td>\n",
       "      <td>0.998106</td>\n",
       "      <td>0.998284</td>\n",
       "      <td>0.997910</td>\n",
       "      <td>0.998165</td>\n",
       "      <td>0.000299</td>\n",
       "    </tr>\n",
       "    <tr>\n",
       "      <th>7</th>\n",
       "      <td>0.029262</td>\n",
       "      <td>0.000930</td>\n",
       "      <td>0.001850</td>\n",
       "      <td>0.000160</td>\n",
       "      <td>l2</td>\n",
       "      <td>0.002593</td>\n",
       "      <td>{'penalty': 'l2', 'C': 0.002592943797404667}</td>\n",
       "      <td>0.844375</td>\n",
       "      <td>0.899219</td>\n",
       "      <td>0.887500</td>\n",
       "      <td>...</td>\n",
       "      <td>0.869227</td>\n",
       "      <td>0.868378</td>\n",
       "      <td>0.870654</td>\n",
       "      <td>0.871201</td>\n",
       "      <td>0.870587</td>\n",
       "      <td>0.869523</td>\n",
       "      <td>0.867650</td>\n",
       "      <td>0.869943</td>\n",
       "      <td>0.868903</td>\n",
       "      <td>0.001997</td>\n",
       "    </tr>\n",
       "    <tr>\n",
       "      <th>8</th>\n",
       "      <td>0.120939</td>\n",
       "      <td>0.010113</td>\n",
       "      <td>0.002004</td>\n",
       "      <td>0.000324</td>\n",
       "      <td>l2</td>\n",
       "      <td>0.788046</td>\n",
       "      <td>{'penalty': 'l2', 'C': 0.7880462815669921}</td>\n",
       "      <td>0.935625</td>\n",
       "      <td>0.960000</td>\n",
       "      <td>0.926094</td>\n",
       "      <td>...</td>\n",
       "      <td>0.980931</td>\n",
       "      <td>0.981882</td>\n",
       "      <td>0.981803</td>\n",
       "      <td>0.981663</td>\n",
       "      <td>0.980937</td>\n",
       "      <td>0.981665</td>\n",
       "      <td>0.981615</td>\n",
       "      <td>0.981001</td>\n",
       "      <td>0.981543</td>\n",
       "      <td>0.000513</td>\n",
       "    </tr>\n",
       "    <tr>\n",
       "      <th>9</th>\n",
       "      <td>0.034658</td>\n",
       "      <td>0.002661</td>\n",
       "      <td>0.002012</td>\n",
       "      <td>0.000191</td>\n",
       "      <td>l2</td>\n",
       "      <td>0.000621</td>\n",
       "      <td>{'penalty': 'l2', 'C': 0.0006210169418915617}</td>\n",
       "      <td>0.840156</td>\n",
       "      <td>0.895312</td>\n",
       "      <td>0.882031</td>\n",
       "      <td>...</td>\n",
       "      <td>0.860600</td>\n",
       "      <td>0.859371</td>\n",
       "      <td>0.861377</td>\n",
       "      <td>0.863259</td>\n",
       "      <td>0.861639</td>\n",
       "      <td>0.860277</td>\n",
       "      <td>0.858182</td>\n",
       "      <td>0.860189</td>\n",
       "      <td>0.859765</td>\n",
       "      <td>0.002176</td>\n",
       "    </tr>\n",
       "  </tbody>\n",
       "</table>\n",
       "<p>10 rows × 42 columns</p>\n",
       "</div>"
      ],
      "text/plain": [
       "   mean_fit_time  std_fit_time  mean_score_time  std_score_time param_penalty  \\\n",
       "0       0.035647      0.006019         0.001883        0.000257            l2   \n",
       "1       0.020201      0.001282         0.001711        0.000107            l2   \n",
       "2       0.021703      0.002052         0.001741        0.000137            l2   \n",
       "3       0.021449      0.002208         0.001777        0.000205            l2   \n",
       "4       0.472536      0.039210         0.001916        0.000177            l2   \n",
       "5       0.111741      0.013643         0.002221        0.000434            l2   \n",
       "6       0.319254      0.033486         0.002416        0.000340            l2   \n",
       "7       0.029262      0.000930         0.001850        0.000160            l2   \n",
       "8       0.120939      0.010113         0.002004        0.000324            l2   \n",
       "9       0.034658      0.002661         0.002012        0.000191            l2   \n",
       "\n",
       "     param_C                                          params  \\\n",
       "0   0.000304   {'penalty': 'l2', 'C': 0.0003039195382313198}   \n",
       "1   0.000002  {'penalty': 'l2', 'C': 2.0433597178569437e-06}   \n",
       "2   0.000004     {'penalty': 'l2', 'C': 4.1753189365604e-06}   \n",
       "3   0.000017  {'penalty': 'l2', 'C': 1.7433288221999873e-05}   \n",
       "4  117.21023      {'penalty': 'l2', 'C': 117.21022975334793}   \n",
       "5   0.385662     {'penalty': 'l2', 'C': 0.38566204211634725}   \n",
       "6  13.738238      {'penalty': 'l2', 'C': 13.738237958832638}   \n",
       "7   0.002593    {'penalty': 'l2', 'C': 0.002592943797404667}   \n",
       "8   0.788046      {'penalty': 'l2', 'C': 0.7880462815669921}   \n",
       "9   0.000621   {'penalty': 'l2', 'C': 0.0006210169418915617}   \n",
       "\n",
       "   split0_test_score  split1_test_score  split2_test_score  ...  \\\n",
       "0           0.839688           0.894375           0.881406  ...   \n",
       "1           0.837969           0.893437           0.880469  ...   \n",
       "2           0.837969           0.893437           0.880469  ...   \n",
       "3           0.837969           0.893437           0.880469  ...   \n",
       "4           0.870156           0.898125           0.872188  ...   \n",
       "5           0.934063           0.959375           0.926094  ...   \n",
       "6           0.905625           0.931875           0.911406  ...   \n",
       "7           0.844375           0.899219           0.887500  ...   \n",
       "8           0.935625           0.960000           0.926094  ...   \n",
       "9           0.840156           0.895312           0.882031  ...   \n",
       "\n",
       "   split7_train_score  split8_train_score  split9_train_score  \\\n",
       "0            0.859207            0.857821            0.859856   \n",
       "1            0.857960            0.856576            0.858645   \n",
       "2            0.857960            0.856576            0.858645   \n",
       "3            0.857971            0.856579            0.858648   \n",
       "4            0.999795            0.999847            0.999899   \n",
       "5            0.970525            0.970863            0.970698   \n",
       "6            0.997710            0.998062            0.998161   \n",
       "7            0.869227            0.868378            0.870654   \n",
       "8            0.980931            0.981882            0.981803   \n",
       "9            0.860600            0.859371            0.861377   \n",
       "\n",
       "   split10_train_score  split11_train_score  split12_train_score  \\\n",
       "0             0.862045             0.860215             0.858873   \n",
       "1             0.861220             0.859208             0.857871   \n",
       "2             0.861220             0.859208             0.857871   \n",
       "3             0.861220             0.859211             0.857871   \n",
       "4             0.999954             0.999860             0.999820   \n",
       "5             0.970783             0.970552             0.970794   \n",
       "6             0.998366             0.997928             0.998106   \n",
       "7             0.871201             0.870587             0.869523   \n",
       "8             0.981663             0.980937             0.981665   \n",
       "9             0.863259             0.861639             0.860277   \n",
       "\n",
       "   split13_train_score  split14_train_score  mean_train_score  std_train_score  \n",
       "0             0.856602             0.858687          0.858293         0.002224  \n",
       "1             0.855454             0.857628          0.857170         0.002298  \n",
       "2             0.855454             0.857628          0.857170         0.002298  \n",
       "3             0.855454             0.857630          0.857172         0.002299  \n",
       "4             0.999929             0.999841          0.999865         0.000054  \n",
       "5             0.970648             0.970448          0.970659         0.000561  \n",
       "6             0.998284             0.997910          0.998165         0.000299  \n",
       "7             0.867650             0.869943          0.868903         0.001997  \n",
       "8             0.981615             0.981001          0.981543         0.000513  \n",
       "9             0.858182             0.860189          0.859765         0.002176  \n",
       "\n",
       "[10 rows x 42 columns]"
      ]
     },
     "execution_count": 108,
     "metadata": {},
     "output_type": "execute_result"
    }
   ],
   "source": [
    "print('Best params:', curr_search.best_params_)\n",
    "print('Best score:', curr_search.best_score_)\n",
    "print('Best pipeline:', curr_search.best_estimator_)\n",
    "print('Index of best pipeline:', curr_search.best_index_)\n",
    "results=pd.DataFrame(curr_search.cv_results_)\n",
    "results #see results of test"
   ]
  },
  {
   "cell_type": "code",
   "execution_count": 109,
   "id": "18d25443",
   "metadata": {},
   "outputs": [],
   "source": [
    "final_model = sklearn.linear_model.LogisticRegression(C=1.6102620275609392, penalty='l2', solver='lbfgs', max_iter=300)"
   ]
  },
  {
   "cell_type": "code",
   "execution_count": 110,
   "id": "847182e1",
   "metadata": {},
   "outputs": [
    {
     "data": {
      "text/html": [
       "<style>#sk-container-id-4 {color: black;background-color: white;}#sk-container-id-4 pre{padding: 0;}#sk-container-id-4 div.sk-toggleable {background-color: white;}#sk-container-id-4 label.sk-toggleable__label {cursor: pointer;display: block;width: 100%;margin-bottom: 0;padding: 0.3em;box-sizing: border-box;text-align: center;}#sk-container-id-4 label.sk-toggleable__label-arrow:before {content: \"▸\";float: left;margin-right: 0.25em;color: #696969;}#sk-container-id-4 label.sk-toggleable__label-arrow:hover:before {color: black;}#sk-container-id-4 div.sk-estimator:hover label.sk-toggleable__label-arrow:before {color: black;}#sk-container-id-4 div.sk-toggleable__content {max-height: 0;max-width: 0;overflow: hidden;text-align: left;background-color: #f0f8ff;}#sk-container-id-4 div.sk-toggleable__content pre {margin: 0.2em;color: black;border-radius: 0.25em;background-color: #f0f8ff;}#sk-container-id-4 input.sk-toggleable__control:checked~div.sk-toggleable__content {max-height: 200px;max-width: 100%;overflow: auto;}#sk-container-id-4 input.sk-toggleable__control:checked~label.sk-toggleable__label-arrow:before {content: \"▾\";}#sk-container-id-4 div.sk-estimator input.sk-toggleable__control:checked~label.sk-toggleable__label {background-color: #d4ebff;}#sk-container-id-4 div.sk-label input.sk-toggleable__control:checked~label.sk-toggleable__label {background-color: #d4ebff;}#sk-container-id-4 input.sk-hidden--visually {border: 0;clip: rect(1px 1px 1px 1px);clip: rect(1px, 1px, 1px, 1px);height: 1px;margin: -1px;overflow: hidden;padding: 0;position: absolute;width: 1px;}#sk-container-id-4 div.sk-estimator {font-family: monospace;background-color: #f0f8ff;border: 1px dotted black;border-radius: 0.25em;box-sizing: border-box;margin-bottom: 0.5em;}#sk-container-id-4 div.sk-estimator:hover {background-color: #d4ebff;}#sk-container-id-4 div.sk-parallel-item::after {content: \"\";width: 100%;border-bottom: 1px solid gray;flex-grow: 1;}#sk-container-id-4 div.sk-label:hover label.sk-toggleable__label {background-color: #d4ebff;}#sk-container-id-4 div.sk-serial::before {content: \"\";position: absolute;border-left: 1px solid gray;box-sizing: border-box;top: 0;bottom: 0;left: 50%;z-index: 0;}#sk-container-id-4 div.sk-serial {display: flex;flex-direction: column;align-items: center;background-color: white;padding-right: 0.2em;padding-left: 0.2em;position: relative;}#sk-container-id-4 div.sk-item {position: relative;z-index: 1;}#sk-container-id-4 div.sk-parallel {display: flex;align-items: stretch;justify-content: center;background-color: white;position: relative;}#sk-container-id-4 div.sk-item::before, #sk-container-id-4 div.sk-parallel-item::before {content: \"\";position: absolute;border-left: 1px solid gray;box-sizing: border-box;top: 0;bottom: 0;left: 50%;z-index: -1;}#sk-container-id-4 div.sk-parallel-item {display: flex;flex-direction: column;z-index: 1;position: relative;background-color: white;}#sk-container-id-4 div.sk-parallel-item:first-child::after {align-self: flex-end;width: 50%;}#sk-container-id-4 div.sk-parallel-item:last-child::after {align-self: flex-start;width: 50%;}#sk-container-id-4 div.sk-parallel-item:only-child::after {width: 0;}#sk-container-id-4 div.sk-dashed-wrapped {border: 1px dashed gray;margin: 0 0.4em 0.5em 0.4em;box-sizing: border-box;padding-bottom: 0.4em;background-color: white;}#sk-container-id-4 div.sk-label label {font-family: monospace;font-weight: bold;display: inline-block;line-height: 1.2em;}#sk-container-id-4 div.sk-label-container {text-align: center;}#sk-container-id-4 div.sk-container {/* jupyter's `normalize.less` sets `[hidden] { display: none; }` but bootstrap.min.css set `[hidden] { display: none !important; }` so we also need the `!important` here to be able to override the default hidden behavior on the sphinx rendered scikit-learn.org. See: https://github.com/scikit-learn/scikit-learn/issues/21755 */display: inline-block !important;position: relative;}#sk-container-id-4 div.sk-text-repr-fallback {display: none;}</style><div id=\"sk-container-id-4\" class=\"sk-top-container\"><div class=\"sk-text-repr-fallback\"><pre>LogisticRegression(C=1.6102620275609392, max_iter=300)</pre><b>In a Jupyter environment, please rerun this cell to show the HTML representation or trust the notebook. <br />On GitHub, the HTML representation is unable to render, please try loading this page with nbviewer.org.</b></div><div class=\"sk-container\" hidden><div class=\"sk-item\"><div class=\"sk-estimator sk-toggleable\"><input class=\"sk-toggleable__control sk-hidden--visually\" id=\"sk-estimator-id-8\" type=\"checkbox\" checked><label for=\"sk-estimator-id-8\" class=\"sk-toggleable__label sk-toggleable__label-arrow\">LogisticRegression</label><div class=\"sk-toggleable__content\"><pre>LogisticRegression(C=1.6102620275609392, max_iter=300)</pre></div></div></div></div></div>"
      ],
      "text/plain": [
       "LogisticRegression(C=1.6102620275609392, max_iter=300)"
      ]
     },
     "execution_count": 110,
     "metadata": {},
     "output_type": "execute_result"
    }
   ],
   "source": [
    "final_model.fit(x_prepared_NV, y_tr_N)"
   ]
  },
  {
   "cell_type": "code",
   "execution_count": 111,
   "id": "5f968c52",
   "metadata": {},
   "outputs": [],
   "source": [
    "# results['param_C']"
   ]
  },
  {
   "cell_type": "code",
   "execution_count": 112,
   "id": "55e384f1",
   "metadata": {},
   "outputs": [],
   "source": [
    "# results['mean_test_score']"
   ]
  },
  {
   "cell_type": "code",
   "execution_count": 113,
   "id": "aacae02a",
   "metadata": {},
   "outputs": [],
   "source": [
    "# results['mean_train_score']"
   ]
  },
  {
   "cell_type": "code",
   "execution_count": 114,
   "id": "7eebe88a",
   "metadata": {},
   "outputs": [],
   "source": [
    "sorted_indices = np.argsort(results['param_C'])"
   ]
  },
  {
   "cell_type": "code",
   "execution_count": null,
   "id": "dd43474a",
   "metadata": {},
   "outputs": [],
   "source": []
  },
  {
   "cell_type": "code",
   "execution_count": 116,
   "id": "ecec203e",
   "metadata": {},
   "outputs": [
    {
     "data": {
      "text/plain": [
       "(1e-06, 100.0)"
      ]
     },
     "execution_count": 116,
     "metadata": {},
     "output_type": "execute_result"
    },
    {
     "data": {
      "image/png": "[encoded data removed]",
      "text/plain": [
       "<Figure size 640x480 with 1 Axes>"
      ]
     },
     "metadata": {},
     "output_type": "display_data"
    }
   ],
   "source": [
    "plt.plot(results['param_C'][sorted_indices], results['mean_test_score'][sorted_indices], 'r-o', label='validation set error')\n",
    "plt.plot(results['param_C'][sorted_indices], results['mean_train_score'][sorted_indices], 'b-o', label='training set error')\n",
    "\n",
    "plt.title(\"Regularization Strength C vs Train and Test Error\")\n",
    "plt.xscale(\"log\")\n",
    "plt.ylabel('score')\n",
    "plt.xlabel(\"$\\log C$\");\n",
    "plt.legend(bbox_to_anchor=(1.5, 0.5)) # make legend outside plot\n",
    "plt.ylim([0.8, 1.0]);\n",
    "plt.xlim([0.000001, 100.0])"
   ]
  },
  {
   "cell_type": "code",
   "execution_count": null,
   "id": "0f17bfb9",
   "metadata": {},
   "outputs": [],
   "source": []
  },
  {
   "cell_type": "code",
   "execution_count": 109,
   "id": "f15870d7",
   "metadata": {},
   "outputs": [],
   "source": [
    "#getting a leaderboard score:\n",
    "x_test_df = pd.read_csv('data_reviews/x_test.csv')\n",
    "test_list_of_sentences = x_test_df['text'].str.cat(sep='\\n')"
   ]
  },
  {
   "cell_type": "code",
   "execution_count": 110,
   "id": "92db3d32",
   "metadata": {},
   "outputs": [],
   "source": [
    "#cleaning test data"
   ]
  },
  {
   "cell_type": "code",
   "execution_count": 111,
   "id": "a806eab9",
   "metadata": {},
   "outputs": [],
   "source": [
    "test_list_of_sentences, blah = preprocess_string(test_list_of_sentences)"
   ]
  },
  {
   "cell_type": "code",
   "execution_count": 48,
   "id": "f1b1c76f",
   "metadata": {},
   "outputs": [],
   "source": [
    "# test_list_of_sentences = remove_non_alpha_num(test_list_of_sentences)"
   ]
  },
  {
   "cell_type": "code",
   "execution_count": 49,
   "id": "d6c9a7f8",
   "metadata": {},
   "outputs": [],
   "source": [
    "#test_list_of_sentences = correct_spelling(test_list_of_sentences)"
   ]
  },
  {
   "cell_type": "code",
   "execution_count": 50,
   "id": "d90e178d",
   "metadata": {},
   "outputs": [],
   "source": [
    "# test_list_of_sentences = remove_stop_words(test_list_of_sentences, stop_words)\n",
    "#"
   ]
  },
  {
   "cell_type": "code",
   "execution_count": 51,
   "id": "a5953cfa",
   "metadata": {},
   "outputs": [],
   "source": [
    "Y = vectorizer.transform(test_list_of_sentences.split(\"\\n\"))\n",
    "#Y.transform(test_list_of_sentences.split(\"\\n\")).toarray()\n"
   ]
  },
  {
   "cell_type": "code",
   "execution_count": 52,
   "id": "0cb53289",
   "metadata": {},
   "outputs": [],
   "source": [
    "predict_array = Y.toarray()"
   ]
  },
  {
   "cell_type": "code",
   "execution_count": 53,
   "id": "c05d91f5",
   "metadata": {},
   "outputs": [],
   "source": [
    "# predict_array[:, :].shape"
   ]
  },
  {
   "cell_type": "code",
   "execution_count": 113,
   "id": "47cf2b38",
   "metadata": {},
   "outputs": [],
   "source": [
    "#determining test data size\n",
    "list_of_sentences2 = test_list_of_sentences.split('\\n')\n",
    "Z = len(list_of_sentences2)\n",
    "x_tr_ZV = np.zeros((Z, V))"
   ]
  },
  {
   "cell_type": "code",
   "execution_count": 114,
   "id": "e0165d40",
   "metadata": {},
   "outputs": [],
   "source": [
    "for nn2, raw_text_line2 in enumerate(list_of_sentences2):\n",
    "    x_tr_ZV[nn2] = transform_text_into_feature_vector(raw_text_line2, vocab_dict)"
   ]
  },
  {
   "cell_type": "code",
   "execution_count": 115,
   "id": "8287d426",
   "metadata": {},
   "outputs": [],
   "source": [
    "predict_array = x_tr_ZV"
   ]
  },
  {
   "cell_type": "code",
   "execution_count": 165,
   "id": "0b8352f9",
   "metadata": {},
   "outputs": [],
   "source": [
    "yhat_test_N = final_model.predict_proba(predict_array)"
   ]
  },
  {
   "cell_type": "code",
   "execution_count": 166,
   "id": "b71c2e61",
   "metadata": {},
   "outputs": [],
   "source": [
    "np.savetxt(\"yproba1_test.txt\", yhat_test_N[:, 1])"
   ]
  },
  {
   "cell_type": "code",
   "execution_count": null,
   "id": "b3d3fc33",
   "metadata": {},
   "outputs": [],
   "source": []
  },
  {
   "cell_type": "code",
   "execution_count": null,
   "id": "1ff6d33f",
   "metadata": {},
   "outputs": [],
   "source": []
  },
  {
   "cell_type": "code",
   "execution_count": 53,
   "id": "435f5638",
   "metadata": {},
   "outputs": [
    {
     "name": "stdout",
     "output_type": "stream",
     "text": [
      "67\n"
     ]
    }
   ],
   "source": [
    "train_predictions = curr_search.predict(x_prepared_NV)\n",
    "probas = curr_search.predict_proba(x_prepared_NV)\n",
    "b = ~np.equal(train_predictions, y_tr_N)\n",
    "indices = np.flatnonzero(b)\n",
    "print(len(indices))"
   ]
  },
  {
   "cell_type": "code",
   "execution_count": null,
   "id": "01e3ae8e",
   "metadata": {},
   "outputs": [],
   "source": []
  },
  {
   "cell_type": "code",
   "execution_count": null,
   "id": "0f951080",
   "metadata": {},
   "outputs": [],
   "source": []
  },
  {
   "cell_type": "code",
   "execution_count": 54,
   "id": "efacc737",
   "metadata": {},
   "outputs": [],
   "source": [
    "#ok... so it is only getting 4 wrong! This seems really good... not sure how I'm going to improve this"
   ]
  },
  {
   "cell_type": "code",
   "execution_count": 56,
   "id": "de07883e",
   "metadata": {},
   "outputs": [
    {
     "name": "stdout",
     "output_type": "stream",
     "text": [
      "Processed Review:\n",
      "really want plantronics right one many issue good\n",
      "Original Review:\n",
      "I really wanted the Plantronics 510 to be the right one, but it has too many issues for me.The good\n",
      "Probability: [0.28737265 0.71262735]\n",
      "Predicted: 1.0\n",
      "Actual: 0.0\n",
      "\n",
      "\n",
      "Processed Review:\n",
      "excellent starter wireless headset\n",
      "Original Review:\n",
      "Excellent starter wireless headset.\n",
      "Probability: [0.13333199 0.86666801]\n",
      "Predicted: 1.0\n",
      "Actual: 0.0\n",
      "\n",
      "\n",
      "Processed Review:\n",
      "phone year tell not great\n",
      "Original Review:\n",
      "I have had this phone for over a year now, and I will tell you, its not that great.\n",
      "Probability: [0.3936173 0.6063827]\n",
      "Predicted: 1.0\n",
      "Actual: 0.0\n",
      "\n",
      "\n",
      "Processed Review:\n",
      "loudspeaker option great bumper light appeal\n",
      "Original Review:\n",
      "The loudspeaker option is great, the bumpers with the lights is very ... appealing.\n",
      "Probability: [0.3208149 0.6791851]\n",
      "Predicted: 1.0\n",
      "Actual: 0.0\n",
      "\n",
      "\n",
      "Processed Review:\n",
      "plan use car forget\n",
      "Original Review:\n",
      "If you plan to use this in a car forget about it.\n",
      "Probability: [0.47611825 0.52388175]\n",
      "Predicted: 1.0\n",
      "Actual: 0.0\n",
      "\n",
      "\n",
      "Processed Review:\n",
      "work right atleast\n",
      "Original Review:\n",
      "wont work right or atleast for me.\n",
      "Probability: [0.2684503 0.7315497]\n",
      "Predicted: 1.0\n",
      "Actual: 0.0\n",
      "\n",
      "\n",
      "Processed Review:\n",
      "not good enough price\n",
      "Original Review:\n",
      "Not good enough for the price.\n",
      "Probability: [0.34668938 0.65331062]\n",
      "Predicted: 1.0\n",
      "Actual: 0.0\n",
      "\n",
      "\n",
      "Processed Review:\n",
      "purchase different case\n",
      "Original Review:\n",
      "I had to purchase a different case.\n",
      "Probability: [0.45689245 0.54310755]\n",
      "Predicted: 1.0\n",
      "Actual: 0.0\n",
      "\n",
      "\n",
      "Processed Review:\n",
      "virgin wireless rock cheap little phone !\n",
      "Original Review:\n",
      "Virgin Wireless rocks and so does this cheap little phone!\n",
      "Probability: [0.55619017 0.44380983]\n",
      "Predicted: 0.0\n",
      "Actual: 1.0\n",
      "\n",
      "\n",
      "Processed Review:\n",
      "really like product motorola allot clearer ear piece mic\n",
      "Original Review:\n",
      "I really like this product over the Motorola because it is allot clearer on the ear piece and the mic.\n",
      "Probability: [0.55075569 0.44924431]\n",
      "Predicted: 0.0\n",
      "Actual: 1.0\n",
      "\n",
      "\n",
      "Processed Review:\n",
      "bought save lot money\n",
      "Original Review:\n",
      "So I bought about 10 of these and saved alot of money.\n",
      "Probability: [0.53249783 0.46750217]\n",
      "Predicted: 0.0\n",
      "Actual: 1.0\n",
      "\n",
      "\n",
      "Processed Review:\n",
      "span hour two people exclaim whoa new phone ? ! ?\n",
      "Original Review:\n",
      "In the span of an hour, I had two people exclaim \"Whoa - is that the new phone on TV?!?\n",
      "Probability: [0.59082205 0.40917795]\n",
      "Predicted: 0.0\n",
      "Actual: 1.0\n",
      "\n",
      "\n",
      "Processed Review:\n",
      "not problem item would order again need\n",
      "Original Review:\n",
      "I did not have any problem with this item and would order it again if needed.\n",
      "Probability: [0.80375999 0.19624001]\n",
      "Predicted: 0.0\n",
      "Actual: 1.0\n",
      "\n",
      "\n",
      "Processed Review:\n",
      "want\n",
      "Original Review:\n",
      "Just what I wanted.\n",
      "Probability: [0.54902107 0.45097893]\n",
      "Predicted: 0.0\n",
      "Actual: 1.0\n",
      "\n",
      "\n",
      "Processed Review:\n",
      "i'm still infatuate phone\n",
      "Original Review:\n",
      "I'm still infatuated with this phone.\n",
      "Probability: [0.52577654 0.47422346]\n",
      "Predicted: 0.0\n",
      "Actual: 1.0\n",
      "\n",
      "\n",
      "Processed Review:\n",
      "windresistant\n",
      "Original Review:\n",
      "Very wind-resistant.\n",
      "Probability: [0.56098992 0.43901008]\n",
      "Predicted: 0.0\n",
      "Actual: 1.0\n",
      "\n",
      "\n",
      "Processed Review:\n",
      "graphic far best part game\n",
      "Original Review:\n",
      "Graphics is far from the best part of the game.  \n",
      "Probability: [0.3523173 0.6476827]\n",
      "Predicted: 1.0\n",
      "Actual: 0.0\n",
      "\n",
      "\n",
      "Processed Review:\n",
      "delete film mind !\n",
      "Original Review:\n",
      "DELETE this film from your mind!  \n",
      "Probability: [0.4710172 0.5289828]\n",
      "Predicted: 1.0\n",
      "Actual: 0.0\n",
      "\n",
      "\n",
      "Processed Review:\n",
      "set\n",
      "Original Review:\n",
      "1/10 - and only because there is no setting for 0/10.  \n",
      "Probability: [0.34505183 0.65494817]\n",
      "Predicted: 1.0\n",
      "Actual: 0.0\n",
      "\n",
      "\n",
      "Processed Review:\n",
      "highly recommend\n",
      "Original Review:\n",
      "Highly unrecommended.  \n",
      "Probability: [0.15274905 0.84725095]\n",
      "Predicted: 1.0\n",
      "Actual: 0.0\n",
      "\n",
      "\n",
      "Processed Review:\n",
      "find well movie youtube\n",
      "Original Review:\n",
      "You can find better movies at youtube.  \n",
      "Probability: [0.18114488 0.81885512]\n",
      "Predicted: 1.0\n",
      "Actual: 0.0\n",
      "\n",
      "\n",
      "Processed Review:\n",
      "least say act well\n",
      "Original Review:\n",
      "The least said about the acting the better.  \n",
      "Probability: [0.37905366 0.62094634]\n",
      "Predicted: 1.0\n",
      "Actual: 0.0\n",
      "\n",
      "\n",
      "Processed Review:\n",
      "place good film garbage\n",
      "Original Review:\n",
      "The only place good for this film is in the garbage.  \n",
      "Probability: [0.31589783 0.68410217]\n",
      "Predicted: 1.0\n",
      "Actual: 0.0\n",
      "\n",
      "\n",
      "Processed Review:\n",
      "go see !\n",
      "Original Review:\n",
      "GO AND SEE IT!  \n",
      "Probability: [0.5098588 0.4901412]\n",
      "Predicted: 0.0\n",
      "Actual: 1.0\n",
      "\n",
      "\n",
      "Processed Review:\n",
      "kind money waste properly\n",
      "Original Review:\n",
      "This is the kind of money that is wasted properly.  \n",
      "Probability: [0.55749322 0.44250678]\n",
      "Predicted: 0.0\n",
      "Actual: 1.0\n",
      "\n",
      "\n",
      "Processed Review:\n",
      "predictable not bad watch\n",
      "Original Review:\n",
      "Predictable, but not a bad watch.  \n",
      "Probability: [0.99589709 0.00410291]\n",
      "Predicted: 0.0\n",
      "Actual: 1.0\n",
      "\n",
      "\n",
      "Processed Review:\n",
      "movie really get\n",
      "Original Review:\n",
      "But this movie really got to me.  \n",
      "Probability: [0.5303442 0.4696558]\n",
      "Predicted: 0.0\n",
      "Actual: 1.0\n",
      "\n",
      "\n",
      "Processed Review:\n",
      "last minute movie also not bad well\n",
      "Original Review:\n",
      "The last 15 minutes of movie are also not bad as well.  \n",
      "Probability: [0.98480509 0.01519491]\n",
      "Predicted: 0.0\n",
      "Actual: 1.0\n",
      "\n",
      "\n",
      "Processed Review:\n",
      "three visually appeal movie i've ever see\n",
      "Original Review:\n",
      "Three of the most visually appealing movies i've ever seen.  \n",
      "Probability: [0.53082107 0.46917893]\n",
      "Predicted: 0.0\n",
      "Actual: 1.0\n",
      "\n",
      "\n",
      "Processed Review:\n",
      "advise look\n",
      "Original Review:\n",
      "I advise you to look out for it.  \n",
      "Probability: [0.52601946 0.47398054]\n",
      "Predicted: 0.0\n",
      "Actual: 1.0\n",
      "\n",
      "\n",
      "Processed Review:\n",
      "don't miss\n",
      "Original Review:\n",
      "Don't miss it.  \n",
      "Probability: [0.59571884 0.40428116]\n",
      "Predicted: 0.0\n",
      "Actual: 1.0\n",
      "\n",
      "\n",
      "Processed Review:\n",
      "cinematography simply stun say least fix nothing not stateoftheart\n",
      "Original Review:\n",
      "The cinematography is simply stunning (to say the least) and the fx are nothing if not state-of-the-art.  \n",
      "Probability: [0.67173881 0.32826119]\n",
      "Predicted: 0.0\n",
      "Actual: 1.0\n",
      "\n",
      "\n",
      "Processed Review:\n",
      "never forget\n",
      "Original Review:\n",
      "I will never forget it now.  \n",
      "Probability: [0.58123602 0.41876398]\n",
      "Predicted: 0.0\n",
      "Actual: 1.0\n",
      "\n",
      "\n",
      "Processed Review:\n",
      "waste money game\n",
      "Original Review:\n",
      "Waste your money on this game.  \n",
      "Probability: [0.81532489 0.18467511]\n",
      "Predicted: 0.0\n",
      "Actual: 1.0\n",
      "\n",
      "\n",
      "Processed Review:\n",
      "go rent\n",
      "Original Review:\n",
      "Go rent it.  \n",
      "Probability: [0.61871078 0.38128922]\n",
      "Predicted: 0.0\n",
      "Actual: 1.0\n",
      "\n",
      "\n",
      "Processed Review:\n",
      "star\n",
      "Original Review:\n",
      "10 out of 10 stars.  \n",
      "Probability: [0.53004552 0.46995448]\n",
      "Predicted: 0.0\n",
      "Actual: 1.0\n",
      "\n",
      "\n",
      "Processed Review:\n",
      "long time didn't see charismatic actor screen\n",
      "Original Review:\n",
      "It was a long time that i didn't see a so charismatic actor on screen.  \n",
      "Probability: [0.54818264 0.45181736]\n",
      "Predicted: 0.0\n",
      "Actual: 1.0\n",
      "\n",
      "\n",
      "Processed Review:\n",
      "soundtrack wasn't terrible either\n",
      "Original Review:\n",
      "The soundtrack wasn't terrible, either.  \n",
      "Probability: [0.84365853 0.15634147]\n",
      "Predicted: 0.0\n",
      "Actual: 1.0\n",
      "\n",
      "\n",
      "Processed Review:\n",
      "not much dialogue not much music whole film shot elaborately aesthetically like sculpture\n",
      "Original Review:\n",
      "Not much dialogue, not much music, the whole film was shot as elaborately and aesthetically like a sculpture.  \n",
      "Probability: [0.69113315 0.30886685]\n",
      "Predicted: 0.0\n",
      "Actual: 1.0\n",
      "\n",
      "\n",
      "Processed Review:\n",
      "\n",
      "Original Review:\n",
      "10/10  \n",
      "Probability: [0.56098992 0.43901008]\n",
      "Predicted: 0.0\n",
      "Actual: 1.0\n",
      "\n",
      "\n",
      "Processed Review:\n",
      "\n",
      "Original Review:\n",
      "10/10  \n",
      "Probability: [0.56098992 0.43901008]\n",
      "Predicted: 0.0\n",
      "Actual: 1.0\n",
      "\n",
      "\n",
      "Processed Review:\n",
      "give one look\n",
      "Original Review:\n",
      "Give this one a look.  \n",
      "Probability: [0.73912956 0.26087044]\n",
      "Predicted: 0.0\n",
      "Actual: 1.0\n",
      "\n",
      "\n",
      "Processed Review:\n",
      "don't think disappointed\n",
      "Original Review:\n",
      "I don't think you will be disappointed.  \n",
      "Probability: [0.92464561 0.07535439]\n",
      "Predicted: 0.0\n",
      "Actual: 1.0\n",
      "\n",
      "\n",
      "Processed Review:\n",
      "not scream not masculine right\n",
      "Original Review:\n",
      "Not too screamy not to masculine but just right.  \n",
      "Probability: [0.80072386 0.19927614]\n",
      "Predicted: 0.0\n",
      "Actual: 1.0\n",
      "\n",
      "\n",
      "Processed Review:\n",
      "film not easily forgotten\n",
      "Original Review:\n",
      "A film not easily forgotten.  \n",
      "Probability: [0.58388736 0.41611264]\n",
      "Predicted: 0.0\n",
      "Actual: 1.0\n",
      "\n",
      "\n",
      "Processed Review:\n",
      "drive get\n",
      "Original Review:\n",
      "it was a drive to get there.\n",
      "Probability: [0.22302831 0.77697169]\n",
      "Predicted: 1.0\n",
      "Actual: 0.0\n",
      "\n",
      "\n",
      "Processed Review:\n",
      "buffet fellatio far anticipate\n",
      "Original Review:\n",
      "The Buffet at Bellagio was far from what I anticipated.\n",
      "Probability: [0.31638712 0.68361288]\n",
      "Predicted: 1.0\n",
      "Actual: 0.0\n",
      "\n",
      "\n",
      "Processed Review:\n",
      "give thumb\n",
      "Original Review:\n",
      "I give it 2 thumbs down\n",
      "Probability: [0.31132799 0.68867201]\n",
      "Predicted: 1.0\n",
      "Actual: 0.0\n",
      "\n",
      "\n",
      "Processed Review:\n",
      "service give star\n",
      "Original Review:\n",
      "For service, I give them no stars.\n",
      "Probability: [0.46372916 0.53627084]\n",
      "Predicted: 1.0\n",
      "Actual: 0.0\n",
      "\n",
      "\n",
      "Processed Review:\n",
      "service fair best\n",
      "Original Review:\n",
      "The service here is fair at best.\n",
      "Probability: [0.48932262 0.51067738]\n",
      "Predicted: 1.0\n",
      "Actual: 0.0\n",
      "\n",
      "\n",
      "Processed Review:\n",
      "packed ! !\n",
      "Original Review:\n",
      "It was packed!!\n",
      "Probability: [0.43042073 0.56957927]\n",
      "Predicted: 1.0\n",
      "Actual: 0.0\n",
      "\n",
      "\n",
      "Processed Review:\n",
      "love sushi found kabuki overprice overdid underservices\n",
      "Original Review:\n",
      "I do love sushi, but I found Kabuki to be over-priced, over-hip and under-services.\n",
      "Probability: [0.42746471 0.57253529]\n",
      "Predicted: 1.0\n",
      "Actual: 0.0\n",
      "\n",
      "\n",
      "Processed Review:\n",
      "place !\n",
      "Original Review:\n",
      "This place has it!\n",
      "Probability: [0.55435683 0.44564317]\n",
      "Predicted: 0.0\n",
      "Actual: 1.0\n",
      "\n",
      "\n",
      "Processed Review:\n",
      "one bite hooked\n",
      "Original Review:\n",
      "After one bite, I was hooked.\n",
      "Probability: [0.54547845 0.45452155]\n",
      "Predicted: 0.0\n",
      "Actual: 1.0\n",
      "\n",
      "\n",
      "Processed Review:\n",
      "can't wait go back\n",
      "Original Review:\n",
      "I can't wait to go back.\n",
      "Probability: [0.72072291 0.27927709]\n",
      "Predicted: 0.0\n",
      "Actual: 1.0\n",
      "\n",
      "\n",
      "Processed Review:\n",
      "cant go wrong food\n",
      "Original Review:\n",
      "You cant go wrong with any of the food here.\n",
      "Probability: [0.57400461 0.42599539]\n",
      "Predicted: 0.0\n",
      "Actual: 1.0\n",
      "\n",
      "\n",
      "Processed Review:\n",
      "you've not familiar check\n",
      "Original Review:\n",
      "If you're not familiar, check it out.\n",
      "Probability: [0.50139261 0.49860739]\n",
      "Predicted: 0.0\n",
      "Actual: 1.0\n",
      "\n",
      "\n",
      "Processed Review:\n",
      "not expect good !\n",
      "Original Review:\n",
      "I did not expect this to be so good!\n",
      "Probability: [0.61111322 0.38888678]\n",
      "Predicted: 0.0\n",
      "Actual: 1.0\n",
      "\n",
      "\n",
      "Processed Review:\n",
      "first vega buffet not disappoint\n",
      "Original Review:\n",
      "This was my first and only Vegas buffet and it did not disappoint.\n",
      "Probability: [0.86616864 0.13383136]\n",
      "Predicted: 0.0\n",
      "Actual: 1.0\n",
      "\n",
      "\n",
      "Processed Review:\n",
      "not fun experience\n",
      "Original Review:\n",
      "It was just not a fun experience.\n",
      "Probability: [0.55827638 0.44172362]\n",
      "Predicted: 0.0\n",
      "Actual: 1.0\n",
      "\n",
      "\n",
      "Processed Review:\n",
      "back many time soon\n",
      "Original Review:\n",
      "I will be back many times soon.\n",
      "Probability: [0.55360438 0.44639562]\n",
      "Predicted: 0.0\n",
      "Actual: 1.0\n",
      "\n",
      "\n",
      "Processed Review:\n",
      "make drive way north scottsdale not one bit disappointed !\n",
      "Original Review:\n",
      "We made the drive all the way from North Scottsdale... and I was not one bit disappointed!\n",
      "Probability: [0.91986753 0.08013247]\n",
      "Predicted: 0.0\n",
      "Actual: 1.0\n",
      "\n",
      "\n",
      "Processed Review:\n",
      "won't disappointed\n",
      "Original Review:\n",
      "You won't be disappointed.\n",
      "Probability: [0.83615131 0.16384869]\n",
      "Predicted: 0.0\n",
      "Actual: 1.0\n",
      "\n",
      "\n",
      "Processed Review:\n",
      "restaurant always full never wait\n",
      "Original Review:\n",
      "Restaurant is always full but never a wait.\n",
      "Probability: [0.50765943 0.49234057]\n",
      "Predicted: 0.0\n",
      "Actual: 1.0\n",
      "\n",
      "\n",
      "Processed Review:\n",
      "deserves star\n",
      "Original Review:\n",
      "He deserves 5 stars.\n",
      "Probability: [0.55897976 0.44102024]\n",
      "Predicted: 0.0\n",
      "Actual: 1.0\n",
      "\n",
      "\n",
      "Processed Review:\n",
      "first time can't wait next\n",
      "Original Review:\n",
      "This was my first time and I can't wait until the next.\n",
      "Probability: [0.67737791 0.32262209]\n",
      "Predicted: 0.0\n",
      "Actual: 1.0\n",
      "\n",
      "\n",
      "Processed Review:\n",
      "could eat bruschetta day devine\n",
      "Original Review:\n",
      "I could eat their bruschetta all day it is devine.\n",
      "Probability: [0.63315952 0.36684048]\n",
      "Predicted: 0.0\n",
      "Actual: 1.0\n",
      "\n",
      "\n"
     ]
    }
   ],
   "source": [
    "for i in indices:\n",
    "    print(\"Processed Review:\")\n",
    "    print(reviews_string.split(\"\\n\")[i])\n",
    "    #print('\\n')\n",
    "    print(\"Original Review:\")\n",
    "    print(original_review_string.split(\"\\n\")[i])\n",
    "    #print('\\n')\n",
    "    print(\"Probability:\", probas[i])\n",
    "    print(\"Predicted:\", train_predictions[i])\n",
    "    print(\"Actual:\", y_tr_N[i])\n",
    "    print('\\n')\n",
    "    \n",
    "    "
   ]
  },
  {
   "cell_type": "code",
   "execution_count": 729,
   "id": "af1f6867",
   "metadata": {},
   "outputs": [],
   "source": [
    "\n",
    "test_string = \"Plan on ordering from them again and again.\"\n",
    "#preprocess_string(test_string)\n",
    "reviews_string3 = test_string"
   ]
  },
  {
   "cell_type": "code",
   "execution_count": 730,
   "id": "b291df0c",
   "metadata": {},
   "outputs": [
    {
     "data": {
      "text/plain": [
       "'plan on ordering from them again and again '"
      ]
     },
     "execution_count": 730,
     "metadata": {},
     "output_type": "execute_result"
    }
   ],
   "source": [
    "reviews_string3 = remove_non_alpha_num(reviews_string3)\n",
    "reviews_string3"
   ]
  },
  {
   "cell_type": "code",
   "execution_count": 731,
   "id": "161aec85",
   "metadata": {},
   "outputs": [
    {
     "data": {
      "text/plain": [
       "'plan on ordering from them again and again'"
      ]
     },
     "execution_count": 731,
     "metadata": {},
     "output_type": "execute_result"
    }
   ],
   "source": [
    "reviews_string3 = correct_spelling(reviews_string3)\n",
    "reviews_string3"
   ]
  },
  {
   "cell_type": "code",
   "execution_count": null,
   "id": "c744bf5f",
   "metadata": {},
   "outputs": [],
   "source": []
  },
  {
   "cell_type": "code",
   "execution_count": null,
   "id": "456008a6",
   "metadata": {},
   "outputs": [],
   "source": []
  },
  {
   "cell_type": "code",
   "execution_count": null,
   "id": "c5eae76b",
   "metadata": {},
   "outputs": [],
   "source": []
  },
  {
   "cell_type": "code",
   "execution_count": 732,
   "id": "7bd75061",
   "metadata": {},
   "outputs": [
    {
     "data": {
      "text/plain": [
       "'plan on order from them again and again'"
      ]
     },
     "execution_count": 732,
     "metadata": {},
     "output_type": "execute_result"
    }
   ],
   "source": [
    "reviews_string3 = lemmatize_words(reviews_string3)\n",
    "reviews_string3"
   ]
  },
  {
   "cell_type": "code",
   "execution_count": 734,
   "id": "2b5c2234",
   "metadata": {},
   "outputs": [
    {
     "data": {
      "text/plain": [
       "'plan order'"
      ]
     },
     "execution_count": 734,
     "metadata": {},
     "output_type": "execute_result"
    }
   ],
   "source": [
    "reviews_string3 = remove_stop_words(reviews_string3, stop_words)\n",
    "reviews_string3"
   ]
  },
  {
   "cell_type": "code",
   "execution_count": null,
   "id": "772b0fe3",
   "metadata": {},
   "outputs": [],
   "source": []
  }
 ],
 "metadata": {
  "kernelspec": {
   "display_name": "Python 3 (ipykernel)",
   "language": "python",
   "name": "python3"
  },
  "language_info": {
   "codemirror_mode": {
    "name": "ipython",
    "version": 3
   },
   "file_extension": ".py",
   "mimetype": "text/x-python",
   "name": "python",
   "nbconvert_exporter": "python",
   "pygments_lexer": "ipython3",
   "version": "3.10.12"
  }
 },
 "nbformat": 4,
 "nbformat_minor": 5
}
